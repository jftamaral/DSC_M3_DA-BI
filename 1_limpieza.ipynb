{
 "cells": [
  {
   "cell_type": "markdown",
   "metadata": {},
   "source": [
    "![Nuclio logo](https://nuclio.school/wp-content/uploads/2018/12/nucleoDS-newBlack.png)\n",
    "\n",
    "# Limpieza de datos para crear gráficos descriptivos y modelo de ML\n",
    "\n",
    "Nos dan un dataset con información relativa da distintas películas y el número de likes que han recibido en Facebook y Twitter. Nos piden:\n",
    "\n",
    "1. Preparar el dataset para crear un modelo de ML que nos permita predecir el número de likes a partir de las características de las películas.\n",
    "2. Además del modelo, necesitaremos presentar algunos gráficos a nuestros stakeholders. Es necesario que la data este preparada para ello.\n",
    "3. Identificar problemas graves en la data y comunicarlos lo antes posible.\n",
    "4. Adicionalmente, nuestro stakeholder tiene \"curiosidad\" por algunas cifras:\n",
    "    - Actores más repetidos en el dataset\n",
    "    - Géneros de películas más comunes\n",
    "    - Relación entre presupuesto y recaudación\n"
   ]
  },
  {
   "cell_type": "markdown",
   "metadata": {},
   "source": [
    "## Leer datos"
   ]
  },
  {
   "cell_type": "code",
   "execution_count": 1,
   "metadata": {},
   "outputs": [],
   "source": [
    "import pandas as pd\n",
    "import numpy as np\n",
    "\n",
    "df_imdb = pd.read_csv('data/imdb_clase.csv', sep=';', index_col=0).reset_index(drop=True)"
   ]
  },
  {
   "cell_type": "code",
   "execution_count": 2,
   "metadata": {},
   "outputs": [
    {
     "data": {
      "text/html": [
       "<div>\n",
       "<style scoped>\n",
       "    .dataframe tbody tr th:only-of-type {\n",
       "        vertical-align: middle;\n",
       "    }\n",
       "\n",
       "    .dataframe tbody tr th {\n",
       "        vertical-align: top;\n",
       "    }\n",
       "\n",
       "    .dataframe thead th {\n",
       "        text-align: right;\n",
       "    }\n",
       "</style>\n",
       "<table border=\"1\" class=\"dataframe\">\n",
       "  <thead>\n",
       "    <tr style=\"text-align: right;\">\n",
       "      <th></th>\n",
       "      <th>color</th>\n",
       "      <th>director_name</th>\n",
       "      <th>duration</th>\n",
       "      <th>gross</th>\n",
       "      <th>genres</th>\n",
       "      <th>movie_title</th>\n",
       "      <th>title_year</th>\n",
       "      <th>language</th>\n",
       "      <th>country</th>\n",
       "      <th>budget</th>\n",
       "      <th>imdb_score</th>\n",
       "      <th>actors</th>\n",
       "      <th>movie_facebook_likes</th>\n",
       "      <th>movie_twitter_likes</th>\n",
       "    </tr>\n",
       "  </thead>\n",
       "  <tbody>\n",
       "    <tr>\n",
       "      <th>0</th>\n",
       "      <td>Color</td>\n",
       "      <td>Martin Scorsese</td>\n",
       "      <td>240</td>\n",
       "      <td>$116,866,727.00</td>\n",
       "      <td>Biography|Comedy|Crime|Drama</td>\n",
       "      <td>the wolf of wall street</td>\n",
       "      <td>2013</td>\n",
       "      <td>English</td>\n",
       "      <td>USA</td>\n",
       "      <td>USD 100,000,000.00</td>\n",
       "      <td>8.2</td>\n",
       "      <td>Leonardo DiCaprio,Matthew McConaughey,Jon Favreau</td>\n",
       "      <td>138000</td>\n",
       "      <td>1000</td>\n",
       "    </tr>\n",
       "    <tr>\n",
       "      <th>1</th>\n",
       "      <td>Color</td>\n",
       "      <td>Shane Black</td>\n",
       "      <td>195</td>\n",
       "      <td>$408,992,272.00</td>\n",
       "      <td>Action|Adventure|Sci-Fi</td>\n",
       "      <td>iron man 3</td>\n",
       "      <td>2013</td>\n",
       "      <td>English</td>\n",
       "      <td>USA</td>\n",
       "      <td>USD 200,000,000.00</td>\n",
       "      <td>7.2</td>\n",
       "      <td>Robert Downey Jr.,Jon Favreau,Don Cheadle</td>\n",
       "      <td>95000</td>\n",
       "      <td>1000</td>\n",
       "    </tr>\n",
       "    <tr>\n",
       "      <th>2</th>\n",
       "      <td>color</td>\n",
       "      <td>Quentin Tarantino</td>\n",
       "      <td>187</td>\n",
       "      <td>$54,116,191.00</td>\n",
       "      <td>Crime|Drama|Mystery|Thriller|Western</td>\n",
       "      <td>the hateful eight</td>\n",
       "      <td>2015</td>\n",
       "      <td>English</td>\n",
       "      <td>USA</td>\n",
       "      <td>USD 44,000,000.00</td>\n",
       "      <td>7.9</td>\n",
       "      <td>Craig Stark,Jennifer Jason Leigh,Zoë Bell</td>\n",
       "      <td>114000</td>\n",
       "      <td>1000</td>\n",
       "    </tr>\n",
       "    <tr>\n",
       "      <th>3</th>\n",
       "      <td>Color</td>\n",
       "      <td>Kenneth Lonergan</td>\n",
       "      <td>186</td>\n",
       "      <td>$46,495.00</td>\n",
       "      <td>Drama</td>\n",
       "      <td>margaret</td>\n",
       "      <td>2011</td>\n",
       "      <td>English</td>\n",
       "      <td>usa</td>\n",
       "      <td>USD 14,000,000.00</td>\n",
       "      <td>6.5</td>\n",
       "      <td>Matt Damon,Kieran Culkin,John Gallagher Jr.</td>\n",
       "      <td>0</td>\n",
       "      <td>1000</td>\n",
       "    </tr>\n",
       "    <tr>\n",
       "      <th>4</th>\n",
       "      <td>Color</td>\n",
       "      <td>Peter Jackson</td>\n",
       "      <td>186</td>\n",
       "      <td>$258,355,354.00</td>\n",
       "      <td>Adventure|Fantasy</td>\n",
       "      <td>the hobbit: the desolation of smaug</td>\n",
       "      <td>2013</td>\n",
       "      <td>English</td>\n",
       "      <td>USA</td>\n",
       "      <td>USD 225,000,000.00</td>\n",
       "      <td>7.9</td>\n",
       "      <td>Aidan Turner,Adam Brown,James Nesbitt</td>\n",
       "      <td>83000</td>\n",
       "      <td>1000</td>\n",
       "    </tr>\n",
       "  </tbody>\n",
       "</table>\n",
       "</div>"
      ],
      "text/plain": [
       "    color      director_name  duration            gross  \\\n",
       "0   Color    Martin Scorsese       240  $116,866,727.00   \n",
       "1   Color        Shane Black       195  $408,992,272.00   \n",
       "2  color   Quentin Tarantino       187   $54,116,191.00   \n",
       "3   Color   Kenneth Lonergan       186       $46,495.00   \n",
       "4   Color      Peter Jackson       186  $258,355,354.00   \n",
       "\n",
       "                                 genres                          movie_title  \\\n",
       "0          Biography|Comedy|Crime|Drama              the wolf of wall street   \n",
       "1               Action|Adventure|Sci-Fi                           iron man 3   \n",
       "2  Crime|Drama|Mystery|Thriller|Western                    the hateful eight   \n",
       "3                                 Drama                             margaret   \n",
       "4                     Adventure|Fantasy  the hobbit: the desolation of smaug   \n",
       "\n",
       "   title_year language country              budget  imdb_score  \\\n",
       "0        2013  English     USA  USD 100,000,000.00         8.2   \n",
       "1        2013  English     USA  USD 200,000,000.00         7.2   \n",
       "2        2015  English     USA   USD 44,000,000.00         7.9   \n",
       "3        2011  English     usa   USD 14,000,000.00         6.5   \n",
       "4        2013  English     USA  USD 225,000,000.00         7.9   \n",
       "\n",
       "                                              actors  movie_facebook_likes  \\\n",
       "0  Leonardo DiCaprio,Matthew McConaughey,Jon Favreau                138000   \n",
       "1          Robert Downey Jr.,Jon Favreau,Don Cheadle                 95000   \n",
       "2          Craig Stark,Jennifer Jason Leigh,Zoë Bell                114000   \n",
       "3        Matt Damon,Kieran Culkin,John Gallagher Jr.                     0   \n",
       "4              Aidan Turner,Adam Brown,James Nesbitt                 83000   \n",
       "\n",
       "   movie_twitter_likes  \n",
       "0                 1000  \n",
       "1                 1000  \n",
       "2                 1000  \n",
       "3                 1000  \n",
       "4                 1000  "
      ]
     },
     "execution_count": 2,
     "metadata": {},
     "output_type": "execute_result"
    }
   ],
   "source": [
    "df_imdb.head()"
   ]
  },
  {
   "cell_type": "markdown",
   "metadata": {},
   "source": [
    "## Limpieza de datos"
   ]
  },
  {
   "cell_type": "markdown",
   "metadata": {},
   "source": [
    "### Revisiones generales: `.columns`, `.index`, `.shape`"
   ]
  },
  {
   "cell_type": "code",
   "execution_count": 3,
   "metadata": {},
   "outputs": [
    {
     "data": {
      "text/plain": [
       "Index(['color', 'director_name', 'duration', 'gross', 'genres', 'movie_title',\n",
       "       'title_year', 'language', 'country', 'budget', 'imdb_score', 'actors',\n",
       "       'movie_facebook_likes', 'movie_twitter_likes'],\n",
       "      dtype='object')"
      ]
     },
     "execution_count": 3,
     "metadata": {},
     "output_type": "execute_result"
    }
   ],
   "source": [
    "df_imdb.columns"
   ]
  },
  {
   "cell_type": "code",
   "execution_count": 4,
   "metadata": {},
   "outputs": [
    {
     "data": {
      "text/plain": [
       "RangeIndex(start=0, stop=99, step=1)"
      ]
     },
     "execution_count": 4,
     "metadata": {},
     "output_type": "execute_result"
    }
   ],
   "source": [
    "df_imdb.index"
   ]
  },
  {
   "cell_type": "code",
   "execution_count": 5,
   "metadata": {},
   "outputs": [
    {
     "data": {
      "text/plain": [
       "(99, 14)"
      ]
     },
     "execution_count": 5,
     "metadata": {},
     "output_type": "execute_result"
    }
   ],
   "source": [
    "df_imdb.shape"
   ]
  },
  {
   "cell_type": "markdown",
   "metadata": {},
   "source": [
    "### Ver algunas observaciones: `.head()`, `.tail()`, `.sample()`"
   ]
  },
  {
   "cell_type": "code",
   "execution_count": 6,
   "metadata": {},
   "outputs": [
    {
     "data": {
      "text/html": [
       "<div>\n",
       "<style scoped>\n",
       "    .dataframe tbody tr th:only-of-type {\n",
       "        vertical-align: middle;\n",
       "    }\n",
       "\n",
       "    .dataframe tbody tr th {\n",
       "        vertical-align: top;\n",
       "    }\n",
       "\n",
       "    .dataframe thead th {\n",
       "        text-align: right;\n",
       "    }\n",
       "</style>\n",
       "<table border=\"1\" class=\"dataframe\">\n",
       "  <thead>\n",
       "    <tr style=\"text-align: right;\">\n",
       "      <th></th>\n",
       "      <th>color</th>\n",
       "      <th>director_name</th>\n",
       "      <th>duration</th>\n",
       "      <th>gross</th>\n",
       "      <th>genres</th>\n",
       "      <th>movie_title</th>\n",
       "      <th>title_year</th>\n",
       "      <th>language</th>\n",
       "      <th>country</th>\n",
       "      <th>budget</th>\n",
       "      <th>imdb_score</th>\n",
       "      <th>actors</th>\n",
       "      <th>movie_facebook_likes</th>\n",
       "      <th>movie_twitter_likes</th>\n",
       "    </tr>\n",
       "  </thead>\n",
       "  <tbody>\n",
       "    <tr>\n",
       "      <th>0</th>\n",
       "      <td>Color</td>\n",
       "      <td>Martin Scorsese</td>\n",
       "      <td>240</td>\n",
       "      <td>$116,866,727.00</td>\n",
       "      <td>Biography|Comedy|Crime|Drama</td>\n",
       "      <td>the wolf of wall street</td>\n",
       "      <td>2013</td>\n",
       "      <td>English</td>\n",
       "      <td>USA</td>\n",
       "      <td>USD 100,000,000.00</td>\n",
       "      <td>8.2</td>\n",
       "      <td>Leonardo DiCaprio,Matthew McConaughey,Jon Favreau</td>\n",
       "      <td>138000</td>\n",
       "      <td>1000</td>\n",
       "    </tr>\n",
       "    <tr>\n",
       "      <th>1</th>\n",
       "      <td>Color</td>\n",
       "      <td>Shane Black</td>\n",
       "      <td>195</td>\n",
       "      <td>$408,992,272.00</td>\n",
       "      <td>Action|Adventure|Sci-Fi</td>\n",
       "      <td>iron man 3</td>\n",
       "      <td>2013</td>\n",
       "      <td>English</td>\n",
       "      <td>USA</td>\n",
       "      <td>USD 200,000,000.00</td>\n",
       "      <td>7.2</td>\n",
       "      <td>Robert Downey Jr.,Jon Favreau,Don Cheadle</td>\n",
       "      <td>95000</td>\n",
       "      <td>1000</td>\n",
       "    </tr>\n",
       "    <tr>\n",
       "      <th>2</th>\n",
       "      <td>color</td>\n",
       "      <td>Quentin Tarantino</td>\n",
       "      <td>187</td>\n",
       "      <td>$54,116,191.00</td>\n",
       "      <td>Crime|Drama|Mystery|Thriller|Western</td>\n",
       "      <td>the hateful eight</td>\n",
       "      <td>2015</td>\n",
       "      <td>English</td>\n",
       "      <td>USA</td>\n",
       "      <td>USD 44,000,000.00</td>\n",
       "      <td>7.9</td>\n",
       "      <td>Craig Stark,Jennifer Jason Leigh,Zoë Bell</td>\n",
       "      <td>114000</td>\n",
       "      <td>1000</td>\n",
       "    </tr>\n",
       "  </tbody>\n",
       "</table>\n",
       "</div>"
      ],
      "text/plain": [
       "    color      director_name  duration            gross  \\\n",
       "0   Color    Martin Scorsese       240  $116,866,727.00   \n",
       "1   Color        Shane Black       195  $408,992,272.00   \n",
       "2  color   Quentin Tarantino       187   $54,116,191.00   \n",
       "\n",
       "                                 genres              movie_title  title_year  \\\n",
       "0          Biography|Comedy|Crime|Drama  the wolf of wall street        2013   \n",
       "1               Action|Adventure|Sci-Fi               iron man 3        2013   \n",
       "2  Crime|Drama|Mystery|Thriller|Western        the hateful eight        2015   \n",
       "\n",
       "  language country              budget  imdb_score  \\\n",
       "0  English     USA  USD 100,000,000.00         8.2   \n",
       "1  English     USA  USD 200,000,000.00         7.2   \n",
       "2  English     USA   USD 44,000,000.00         7.9   \n",
       "\n",
       "                                              actors  movie_facebook_likes  \\\n",
       "0  Leonardo DiCaprio,Matthew McConaughey,Jon Favreau                138000   \n",
       "1          Robert Downey Jr.,Jon Favreau,Don Cheadle                 95000   \n",
       "2          Craig Stark,Jennifer Jason Leigh,Zoë Bell                114000   \n",
       "\n",
       "   movie_twitter_likes  \n",
       "0                 1000  \n",
       "1                 1000  \n",
       "2                 1000  "
      ]
     },
     "execution_count": 6,
     "metadata": {},
     "output_type": "execute_result"
    }
   ],
   "source": [
    "df_imdb.head(3)"
   ]
  },
  {
   "cell_type": "code",
   "execution_count": 7,
   "metadata": {},
   "outputs": [
    {
     "data": {
      "text/html": [
       "<div>\n",
       "<style scoped>\n",
       "    .dataframe tbody tr th:only-of-type {\n",
       "        vertical-align: middle;\n",
       "    }\n",
       "\n",
       "    .dataframe tbody tr th {\n",
       "        vertical-align: top;\n",
       "    }\n",
       "\n",
       "    .dataframe thead th {\n",
       "        text-align: right;\n",
       "    }\n",
       "</style>\n",
       "<table border=\"1\" class=\"dataframe\">\n",
       "  <thead>\n",
       "    <tr style=\"text-align: right;\">\n",
       "      <th></th>\n",
       "      <th>color</th>\n",
       "      <th>director_name</th>\n",
       "      <th>duration</th>\n",
       "      <th>gross</th>\n",
       "      <th>genres</th>\n",
       "      <th>movie_title</th>\n",
       "      <th>title_year</th>\n",
       "      <th>language</th>\n",
       "      <th>country</th>\n",
       "      <th>budget</th>\n",
       "      <th>imdb_score</th>\n",
       "      <th>actors</th>\n",
       "      <th>movie_facebook_likes</th>\n",
       "      <th>movie_twitter_likes</th>\n",
       "    </tr>\n",
       "  </thead>\n",
       "  <tbody>\n",
       "    <tr>\n",
       "      <th>98</th>\n",
       "      <td>Color</td>\n",
       "      <td>Clint Eastwood</td>\n",
       "      <td>5</td>\n",
       "      <td>$47,034,272.00</td>\n",
       "      <td>Biography|Drama|Music|Musical</td>\n",
       "      <td>jersey boys</td>\n",
       "      <td>2014</td>\n",
       "      <td>English</td>\n",
       "      <td>USA</td>\n",
       "      <td>USD 40,000,000.00</td>\n",
       "      <td>6.9</td>\n",
       "      <td>Johnny Cannizzaro,Steve Schirripa,Scott Vance</td>\n",
       "      <td>16000</td>\n",
       "      <td>1000</td>\n",
       "    </tr>\n",
       "  </tbody>\n",
       "</table>\n",
       "</div>"
      ],
      "text/plain": [
       "    color   director_name  duration           gross  \\\n",
       "98  Color  Clint Eastwood         5  $47,034,272.00   \n",
       "\n",
       "                           genres  movie_title  title_year language country  \\\n",
       "98  Biography|Drama|Music|Musical  jersey boys        2014  English     USA   \n",
       "\n",
       "               budget  imdb_score  \\\n",
       "98  USD 40,000,000.00         6.9   \n",
       "\n",
       "                                           actors  movie_facebook_likes  \\\n",
       "98  Johnny Cannizzaro,Steve Schirripa,Scott Vance                 16000   \n",
       "\n",
       "    movie_twitter_likes  \n",
       "98                 1000  "
      ]
     },
     "execution_count": 7,
     "metadata": {},
     "output_type": "execute_result"
    }
   ],
   "source": [
    "df_imdb.tail(1)"
   ]
  },
  {
   "cell_type": "code",
   "execution_count": 8,
   "metadata": {},
   "outputs": [
    {
     "data": {
      "text/html": [
       "<div>\n",
       "<style scoped>\n",
       "    .dataframe tbody tr th:only-of-type {\n",
       "        vertical-align: middle;\n",
       "    }\n",
       "\n",
       "    .dataframe tbody tr th {\n",
       "        vertical-align: top;\n",
       "    }\n",
       "\n",
       "    .dataframe thead th {\n",
       "        text-align: right;\n",
       "    }\n",
       "</style>\n",
       "<table border=\"1\" class=\"dataframe\">\n",
       "  <thead>\n",
       "    <tr style=\"text-align: right;\">\n",
       "      <th></th>\n",
       "      <th>color</th>\n",
       "      <th>director_name</th>\n",
       "      <th>duration</th>\n",
       "      <th>gross</th>\n",
       "      <th>genres</th>\n",
       "      <th>movie_title</th>\n",
       "      <th>title_year</th>\n",
       "      <th>language</th>\n",
       "      <th>country</th>\n",
       "      <th>budget</th>\n",
       "      <th>imdb_score</th>\n",
       "      <th>actors</th>\n",
       "      <th>movie_facebook_likes</th>\n",
       "      <th>movie_twitter_likes</th>\n",
       "    </tr>\n",
       "  </thead>\n",
       "  <tbody>\n",
       "    <tr>\n",
       "      <th>62</th>\n",
       "      <td>Color</td>\n",
       "      <td>Timur Bekmambetov</td>\n",
       "      <td>141</td>\n",
       "      <td>$nan</td>\n",
       "      <td>Adventure|Drama|History</td>\n",
       "      <td>ben-hur</td>\n",
       "      <td>2016</td>\n",
       "      <td>English</td>\n",
       "      <td>USA</td>\n",
       "      <td>USD 100,000,000.00</td>\n",
       "      <td>6.0</td>\n",
       "      <td>Morgan Freeman,Ayelet Zurer,Moises Arias</td>\n",
       "      <td>0</td>\n",
       "      <td>1000</td>\n",
       "    </tr>\n",
       "    <tr>\n",
       "      <th>14</th>\n",
       "      <td>Color</td>\n",
       "      <td>F. Gary Gray</td>\n",
       "      <td>167</td>\n",
       "      <td>$100,000,000,000,000.00</td>\n",
       "      <td>Biography|Crime|Drama|History|Music</td>\n",
       "      <td>straight outta compton</td>\n",
       "      <td>2015</td>\n",
       "      <td>English</td>\n",
       "      <td>USA</td>\n",
       "      <td>USD 28,000,000.00</td>\n",
       "      <td>7.9</td>\n",
       "      <td>Aldis Hodge,Neil Brown Jr.,R. Marcos Taylor</td>\n",
       "      <td>76000</td>\n",
       "      <td>1000</td>\n",
       "    </tr>\n",
       "  </tbody>\n",
       "</table>\n",
       "</div>"
      ],
      "text/plain": [
       "    color      director_name  duration                    gross  \\\n",
       "62  Color  Timur Bekmambetov       141                     $nan   \n",
       "14  Color       F. Gary Gray       167  $100,000,000,000,000.00   \n",
       "\n",
       "                                 genres             movie_title  title_year  \\\n",
       "62              Adventure|Drama|History                 ben-hur        2016   \n",
       "14  Biography|Crime|Drama|History|Music  straight outta compton        2015   \n",
       "\n",
       "   language country              budget  imdb_score  \\\n",
       "62  English     USA  USD 100,000,000.00         6.0   \n",
       "14  English     USA   USD 28,000,000.00         7.9   \n",
       "\n",
       "                                         actors  movie_facebook_likes  \\\n",
       "62     Morgan Freeman,Ayelet Zurer,Moises Arias                     0   \n",
       "14  Aldis Hodge,Neil Brown Jr.,R. Marcos Taylor                 76000   \n",
       "\n",
       "    movie_twitter_likes  \n",
       "62                 1000  \n",
       "14                 1000  "
      ]
     },
     "execution_count": 8,
     "metadata": {},
     "output_type": "execute_result"
    }
   ],
   "source": [
    "df_imdb.sample(2)"
   ]
  },
  {
   "cell_type": "markdown",
   "metadata": {},
   "source": [
    "### Describir dataset: `info()`, `describe()`"
   ]
  },
  {
   "cell_type": "code",
   "execution_count": 9,
   "metadata": {},
   "outputs": [
    {
     "name": "stdout",
     "output_type": "stream",
     "text": [
      "<class 'pandas.core.frame.DataFrame'>\n",
      "RangeIndex: 99 entries, 0 to 98\n",
      "Data columns (total 14 columns):\n",
      " #   Column                Non-Null Count  Dtype  \n",
      "---  ------                --------------  -----  \n",
      " 0   color                 88 non-null     object \n",
      " 1   director_name         88 non-null     object \n",
      " 2   duration              99 non-null     int64  \n",
      " 3   gross                 99 non-null     object \n",
      " 4   genres                98 non-null     object \n",
      " 5   movie_title           99 non-null     object \n",
      " 6   title_year            99 non-null     int64  \n",
      " 7   language              99 non-null     object \n",
      " 8   country               99 non-null     object \n",
      " 9   budget                99 non-null     object \n",
      " 10  imdb_score            99 non-null     float64\n",
      " 11  actors                99 non-null     object \n",
      " 12  movie_facebook_likes  99 non-null     int64  \n",
      " 13  movie_twitter_likes   99 non-null     int64  \n",
      "dtypes: float64(1), int64(4), object(9)\n",
      "memory usage: 11.0+ KB\n"
     ]
    }
   ],
   "source": [
    "df_imdb.info()"
   ]
  },
  {
   "cell_type": "code",
   "execution_count": 10,
   "metadata": {},
   "outputs": [
    {
     "data": {
      "text/html": [
       "<div>\n",
       "<style scoped>\n",
       "    .dataframe tbody tr th:only-of-type {\n",
       "        vertical-align: middle;\n",
       "    }\n",
       "\n",
       "    .dataframe tbody tr th {\n",
       "        vertical-align: top;\n",
       "    }\n",
       "\n",
       "    .dataframe thead th {\n",
       "        text-align: right;\n",
       "    }\n",
       "</style>\n",
       "<table border=\"1\" class=\"dataframe\">\n",
       "  <thead>\n",
       "    <tr style=\"text-align: right;\">\n",
       "      <th></th>\n",
       "      <th>duration</th>\n",
       "      <th>title_year</th>\n",
       "      <th>imdb_score</th>\n",
       "      <th>movie_facebook_likes</th>\n",
       "      <th>movie_twitter_likes</th>\n",
       "    </tr>\n",
       "  </thead>\n",
       "  <tbody>\n",
       "    <tr>\n",
       "      <th>count</th>\n",
       "      <td>99.000000</td>\n",
       "      <td>99.000000</td>\n",
       "      <td>99.000000</td>\n",
       "      <td>99.000000</td>\n",
       "      <td>99.0</td>\n",
       "    </tr>\n",
       "    <tr>\n",
       "      <th>mean</th>\n",
       "      <td>155.494949</td>\n",
       "      <td>1944.010101</td>\n",
       "      <td>6.892929</td>\n",
       "      <td>66045.707071</td>\n",
       "      <td>1000.0</td>\n",
       "    </tr>\n",
       "    <tr>\n",
       "      <th>std</th>\n",
       "      <td>72.797927</td>\n",
       "      <td>393.848787</td>\n",
       "      <td>1.925514</td>\n",
       "      <td>58108.860365</td>\n",
       "      <td>0.0</td>\n",
       "    </tr>\n",
       "    <tr>\n",
       "      <th>min</th>\n",
       "      <td>-50.000000</td>\n",
       "      <td>-1000.000000</td>\n",
       "      <td>-7.500000</td>\n",
       "      <td>0.000000</td>\n",
       "      <td>1000.0</td>\n",
       "    </tr>\n",
       "    <tr>\n",
       "      <th>25%</th>\n",
       "      <td>138.500000</td>\n",
       "      <td>2012.000000</td>\n",
       "      <td>6.550000</td>\n",
       "      <td>25000.000000</td>\n",
       "      <td>1000.0</td>\n",
       "    </tr>\n",
       "    <tr>\n",
       "      <th>50%</th>\n",
       "      <td>143.000000</td>\n",
       "      <td>2013.000000</td>\n",
       "      <td>7.200000</td>\n",
       "      <td>54000.000000</td>\n",
       "      <td>1000.0</td>\n",
       "    </tr>\n",
       "    <tr>\n",
       "      <th>75%</th>\n",
       "      <td>155.000000</td>\n",
       "      <td>2014.000000</td>\n",
       "      <td>7.850000</td>\n",
       "      <td>85500.000000</td>\n",
       "      <td>1000.0</td>\n",
       "    </tr>\n",
       "    <tr>\n",
       "      <th>max</th>\n",
       "      <td>650.000000</td>\n",
       "      <td>2030.000000</td>\n",
       "      <td>8.800000</td>\n",
       "      <td>349000.000000</td>\n",
       "      <td>1000.0</td>\n",
       "    </tr>\n",
       "  </tbody>\n",
       "</table>\n",
       "</div>"
      ],
      "text/plain": [
       "         duration   title_year  imdb_score  movie_facebook_likes  \\\n",
       "count   99.000000    99.000000   99.000000             99.000000   \n",
       "mean   155.494949  1944.010101    6.892929          66045.707071   \n",
       "std     72.797927   393.848787    1.925514          58108.860365   \n",
       "min    -50.000000 -1000.000000   -7.500000              0.000000   \n",
       "25%    138.500000  2012.000000    6.550000          25000.000000   \n",
       "50%    143.000000  2013.000000    7.200000          54000.000000   \n",
       "75%    155.000000  2014.000000    7.850000          85500.000000   \n",
       "max    650.000000  2030.000000    8.800000         349000.000000   \n",
       "\n",
       "       movie_twitter_likes  \n",
       "count                 99.0  \n",
       "mean                1000.0  \n",
       "std                    0.0  \n",
       "min                 1000.0  \n",
       "25%                 1000.0  \n",
       "50%                 1000.0  \n",
       "75%                 1000.0  \n",
       "max                 1000.0  "
      ]
     },
     "execution_count": 10,
     "metadata": {},
     "output_type": "execute_result"
    }
   ],
   "source": [
    "df_imdb.describe()"
   ]
  },
  {
   "cell_type": "code",
   "execution_count": 11,
   "metadata": {},
   "outputs": [
    {
     "data": {
      "text/html": [
       "<div>\n",
       "<style scoped>\n",
       "    .dataframe tbody tr th:only-of-type {\n",
       "        vertical-align: middle;\n",
       "    }\n",
       "\n",
       "    .dataframe tbody tr th {\n",
       "        vertical-align: top;\n",
       "    }\n",
       "\n",
       "    .dataframe thead th {\n",
       "        text-align: right;\n",
       "    }\n",
       "</style>\n",
       "<table border=\"1\" class=\"dataframe\">\n",
       "  <thead>\n",
       "    <tr style=\"text-align: right;\">\n",
       "      <th></th>\n",
       "      <th>color</th>\n",
       "      <th>director_name</th>\n",
       "      <th>duration</th>\n",
       "      <th>gross</th>\n",
       "      <th>genres</th>\n",
       "      <th>movie_title</th>\n",
       "      <th>title_year</th>\n",
       "      <th>language</th>\n",
       "      <th>country</th>\n",
       "      <th>budget</th>\n",
       "      <th>imdb_score</th>\n",
       "      <th>actors</th>\n",
       "      <th>movie_facebook_likes</th>\n",
       "      <th>movie_twitter_likes</th>\n",
       "    </tr>\n",
       "  </thead>\n",
       "  <tbody>\n",
       "    <tr>\n",
       "      <th>count</th>\n",
       "      <td>88</td>\n",
       "      <td>88</td>\n",
       "      <td>99.000000</td>\n",
       "      <td>99</td>\n",
       "      <td>98</td>\n",
       "      <td>99</td>\n",
       "      <td>99.000000</td>\n",
       "      <td>99</td>\n",
       "      <td>99</td>\n",
       "      <td>99</td>\n",
       "      <td>99.000000</td>\n",
       "      <td>99</td>\n",
       "      <td>99.000000</td>\n",
       "      <td>99.0</td>\n",
       "    </tr>\n",
       "    <tr>\n",
       "      <th>unique</th>\n",
       "      <td>3</td>\n",
       "      <td>63</td>\n",
       "      <td>NaN</td>\n",
       "      <td>87</td>\n",
       "      <td>56</td>\n",
       "      <td>91</td>\n",
       "      <td>NaN</td>\n",
       "      <td>1</td>\n",
       "      <td>12</td>\n",
       "      <td>57</td>\n",
       "      <td>NaN</td>\n",
       "      <td>88</td>\n",
       "      <td>NaN</td>\n",
       "      <td>NaN</td>\n",
       "    </tr>\n",
       "    <tr>\n",
       "      <th>top</th>\n",
       "      <td>Color</td>\n",
       "      <td>Ridley Scott</td>\n",
       "      <td>NaN</td>\n",
       "      <td>$nan</td>\n",
       "      <td>Action|Adventure|Sci-Fi</td>\n",
       "      <td>ben-hur</td>\n",
       "      <td>NaN</td>\n",
       "      <td>English</td>\n",
       "      <td>USA</td>\n",
       "      <td>USD 100,000,000.00</td>\n",
       "      <td>NaN</td>\n",
       "      <td>Chris Hemsworth,Robert Downey Jr.,Scarlett Joh...</td>\n",
       "      <td>NaN</td>\n",
       "      <td>NaN</td>\n",
       "    </tr>\n",
       "    <tr>\n",
       "      <th>freq</th>\n",
       "      <td>86</td>\n",
       "      <td>4</td>\n",
       "      <td>NaN</td>\n",
       "      <td>7</td>\n",
       "      <td>10</td>\n",
       "      <td>3</td>\n",
       "      <td>NaN</td>\n",
       "      <td>99</td>\n",
       "      <td>77</td>\n",
       "      <td>6</td>\n",
       "      <td>NaN</td>\n",
       "      <td>3</td>\n",
       "      <td>NaN</td>\n",
       "      <td>NaN</td>\n",
       "    </tr>\n",
       "    <tr>\n",
       "      <th>mean</th>\n",
       "      <td>NaN</td>\n",
       "      <td>NaN</td>\n",
       "      <td>155.494949</td>\n",
       "      <td>NaN</td>\n",
       "      <td>NaN</td>\n",
       "      <td>NaN</td>\n",
       "      <td>1944.010101</td>\n",
       "      <td>NaN</td>\n",
       "      <td>NaN</td>\n",
       "      <td>NaN</td>\n",
       "      <td>6.892929</td>\n",
       "      <td>NaN</td>\n",
       "      <td>66045.707071</td>\n",
       "      <td>1000.0</td>\n",
       "    </tr>\n",
       "    <tr>\n",
       "      <th>std</th>\n",
       "      <td>NaN</td>\n",
       "      <td>NaN</td>\n",
       "      <td>72.797927</td>\n",
       "      <td>NaN</td>\n",
       "      <td>NaN</td>\n",
       "      <td>NaN</td>\n",
       "      <td>393.848787</td>\n",
       "      <td>NaN</td>\n",
       "      <td>NaN</td>\n",
       "      <td>NaN</td>\n",
       "      <td>1.925514</td>\n",
       "      <td>NaN</td>\n",
       "      <td>58108.860365</td>\n",
       "      <td>0.0</td>\n",
       "    </tr>\n",
       "    <tr>\n",
       "      <th>min</th>\n",
       "      <td>NaN</td>\n",
       "      <td>NaN</td>\n",
       "      <td>-50.000000</td>\n",
       "      <td>NaN</td>\n",
       "      <td>NaN</td>\n",
       "      <td>NaN</td>\n",
       "      <td>-1000.000000</td>\n",
       "      <td>NaN</td>\n",
       "      <td>NaN</td>\n",
       "      <td>NaN</td>\n",
       "      <td>-7.500000</td>\n",
       "      <td>NaN</td>\n",
       "      <td>0.000000</td>\n",
       "      <td>1000.0</td>\n",
       "    </tr>\n",
       "    <tr>\n",
       "      <th>25%</th>\n",
       "      <td>NaN</td>\n",
       "      <td>NaN</td>\n",
       "      <td>138.500000</td>\n",
       "      <td>NaN</td>\n",
       "      <td>NaN</td>\n",
       "      <td>NaN</td>\n",
       "      <td>2012.000000</td>\n",
       "      <td>NaN</td>\n",
       "      <td>NaN</td>\n",
       "      <td>NaN</td>\n",
       "      <td>6.550000</td>\n",
       "      <td>NaN</td>\n",
       "      <td>25000.000000</td>\n",
       "      <td>1000.0</td>\n",
       "    </tr>\n",
       "    <tr>\n",
       "      <th>50%</th>\n",
       "      <td>NaN</td>\n",
       "      <td>NaN</td>\n",
       "      <td>143.000000</td>\n",
       "      <td>NaN</td>\n",
       "      <td>NaN</td>\n",
       "      <td>NaN</td>\n",
       "      <td>2013.000000</td>\n",
       "      <td>NaN</td>\n",
       "      <td>NaN</td>\n",
       "      <td>NaN</td>\n",
       "      <td>7.200000</td>\n",
       "      <td>NaN</td>\n",
       "      <td>54000.000000</td>\n",
       "      <td>1000.0</td>\n",
       "    </tr>\n",
       "    <tr>\n",
       "      <th>75%</th>\n",
       "      <td>NaN</td>\n",
       "      <td>NaN</td>\n",
       "      <td>155.000000</td>\n",
       "      <td>NaN</td>\n",
       "      <td>NaN</td>\n",
       "      <td>NaN</td>\n",
       "      <td>2014.000000</td>\n",
       "      <td>NaN</td>\n",
       "      <td>NaN</td>\n",
       "      <td>NaN</td>\n",
       "      <td>7.850000</td>\n",
       "      <td>NaN</td>\n",
       "      <td>85500.000000</td>\n",
       "      <td>1000.0</td>\n",
       "    </tr>\n",
       "    <tr>\n",
       "      <th>max</th>\n",
       "      <td>NaN</td>\n",
       "      <td>NaN</td>\n",
       "      <td>650.000000</td>\n",
       "      <td>NaN</td>\n",
       "      <td>NaN</td>\n",
       "      <td>NaN</td>\n",
       "      <td>2030.000000</td>\n",
       "      <td>NaN</td>\n",
       "      <td>NaN</td>\n",
       "      <td>NaN</td>\n",
       "      <td>8.800000</td>\n",
       "      <td>NaN</td>\n",
       "      <td>349000.000000</td>\n",
       "      <td>1000.0</td>\n",
       "    </tr>\n",
       "  </tbody>\n",
       "</table>\n",
       "</div>"
      ],
      "text/plain": [
       "        color director_name    duration gross                   genres  \\\n",
       "count      88            88   99.000000    99                       98   \n",
       "unique      3            63         NaN    87                       56   \n",
       "top     Color  Ridley Scott         NaN  $nan  Action|Adventure|Sci-Fi   \n",
       "freq       86             4         NaN     7                       10   \n",
       "mean      NaN           NaN  155.494949   NaN                      NaN   \n",
       "std       NaN           NaN   72.797927   NaN                      NaN   \n",
       "min       NaN           NaN  -50.000000   NaN                      NaN   \n",
       "25%       NaN           NaN  138.500000   NaN                      NaN   \n",
       "50%       NaN           NaN  143.000000   NaN                      NaN   \n",
       "75%       NaN           NaN  155.000000   NaN                      NaN   \n",
       "max       NaN           NaN  650.000000   NaN                      NaN   \n",
       "\n",
       "       movie_title   title_year language country              budget  \\\n",
       "count           99    99.000000       99      99                  99   \n",
       "unique          91          NaN        1      12                  57   \n",
       "top        ben-hur          NaN  English     USA  USD 100,000,000.00   \n",
       "freq             3          NaN       99      77                   6   \n",
       "mean           NaN  1944.010101      NaN     NaN                 NaN   \n",
       "std            NaN   393.848787      NaN     NaN                 NaN   \n",
       "min            NaN -1000.000000      NaN     NaN                 NaN   \n",
       "25%            NaN  2012.000000      NaN     NaN                 NaN   \n",
       "50%            NaN  2013.000000      NaN     NaN                 NaN   \n",
       "75%            NaN  2014.000000      NaN     NaN                 NaN   \n",
       "max            NaN  2030.000000      NaN     NaN                 NaN   \n",
       "\n",
       "        imdb_score                                             actors  \\\n",
       "count    99.000000                                                 99   \n",
       "unique         NaN                                                 88   \n",
       "top            NaN  Chris Hemsworth,Robert Downey Jr.,Scarlett Joh...   \n",
       "freq           NaN                                                  3   \n",
       "mean      6.892929                                                NaN   \n",
       "std       1.925514                                                NaN   \n",
       "min      -7.500000                                                NaN   \n",
       "25%       6.550000                                                NaN   \n",
       "50%       7.200000                                                NaN   \n",
       "75%       7.850000                                                NaN   \n",
       "max       8.800000                                                NaN   \n",
       "\n",
       "        movie_facebook_likes  movie_twitter_likes  \n",
       "count              99.000000                 99.0  \n",
       "unique                   NaN                  NaN  \n",
       "top                      NaN                  NaN  \n",
       "freq                     NaN                  NaN  \n",
       "mean            66045.707071               1000.0  \n",
       "std             58108.860365                  0.0  \n",
       "min                 0.000000               1000.0  \n",
       "25%             25000.000000               1000.0  \n",
       "50%             54000.000000               1000.0  \n",
       "75%             85500.000000               1000.0  \n",
       "max            349000.000000               1000.0  "
      ]
     },
     "execution_count": 11,
     "metadata": {},
     "output_type": "execute_result"
    }
   ],
   "source": [
    "df_imdb.describe(include='all')"
   ]
  },
  {
   "cell_type": "markdown",
   "metadata": {},
   "source": [
    "### Valores faltantes: `.isnull()`, `.isna()`"
   ]
  },
  {
   "cell_type": "code",
   "execution_count": 12,
   "metadata": {},
   "outputs": [
    {
     "data": {
      "text/plain": [
       "color                    True\n",
       "director_name            True\n",
       "duration                False\n",
       "gross                   False\n",
       "genres                   True\n",
       "movie_title             False\n",
       "title_year              False\n",
       "language                False\n",
       "country                 False\n",
       "budget                  False\n",
       "imdb_score              False\n",
       "actors                  False\n",
       "movie_facebook_likes    False\n",
       "movie_twitter_likes     False\n",
       "dtype: bool"
      ]
     },
     "execution_count": 12,
     "metadata": {},
     "output_type": "execute_result"
    }
   ],
   "source": [
    "df_imdb.isnull().any() # .any(), .sum(), .mean()"
   ]
  },
  {
   "cell_type": "code",
   "execution_count": 13,
   "metadata": {},
   "outputs": [
    {
     "data": {
      "text/plain": [
       "Int64Index([5, 10, 15, 18, 56, 65, 74, 76, 80, 83, 87], dtype='int64')"
      ]
     },
     "execution_count": 13,
     "metadata": {},
     "output_type": "execute_result"
    }
   ],
   "source": [
    "df_imdb[df_imdb['color'].isna() == True].index"
   ]
  },
  {
   "cell_type": "markdown",
   "metadata": {},
   "source": [
    "### Quitar filas duplicadas: `.duplicated()`. `.drop_duplicates()`"
   ]
  },
  {
   "cell_type": "code",
   "execution_count": 14,
   "metadata": {},
   "outputs": [
    {
     "data": {
      "text/html": [
       "<div>\n",
       "<style scoped>\n",
       "    .dataframe tbody tr th:only-of-type {\n",
       "        vertical-align: middle;\n",
       "    }\n",
       "\n",
       "    .dataframe tbody tr th {\n",
       "        vertical-align: top;\n",
       "    }\n",
       "\n",
       "    .dataframe thead th {\n",
       "        text-align: right;\n",
       "    }\n",
       "</style>\n",
       "<table border=\"1\" class=\"dataframe\">\n",
       "  <thead>\n",
       "    <tr style=\"text-align: right;\">\n",
       "      <th></th>\n",
       "      <th>8</th>\n",
       "      <th>9</th>\n",
       "      <th>30</th>\n",
       "      <th>31</th>\n",
       "      <th>52</th>\n",
       "      <th>53</th>\n",
       "      <th>54</th>\n",
       "      <th>55</th>\n",
       "      <th>61</th>\n",
       "      <th>63</th>\n",
       "    </tr>\n",
       "  </thead>\n",
       "  <tbody>\n",
       "    <tr>\n",
       "      <th>color</th>\n",
       "      <td>Color</td>\n",
       "      <td>Color</td>\n",
       "      <td>Color</td>\n",
       "      <td>Color</td>\n",
       "      <td>Color</td>\n",
       "      <td>Color</td>\n",
       "      <td>Color</td>\n",
       "      <td>Color</td>\n",
       "      <td>Color</td>\n",
       "      <td>Color</td>\n",
       "    </tr>\n",
       "    <tr>\n",
       "      <th>director_name</th>\n",
       "      <td>Joss Whedon</td>\n",
       "      <td>Joss Whedon</td>\n",
       "      <td>Ridley Scott</td>\n",
       "      <td>Ridley Scott</td>\n",
       "      <td>Sam Mendes</td>\n",
       "      <td>Sam Mendes</td>\n",
       "      <td>Baz Luhrmann</td>\n",
       "      <td>Baz Luhrmann</td>\n",
       "      <td>Timur Bekmambetov</td>\n",
       "      <td>Timur Bekmambetov</td>\n",
       "    </tr>\n",
       "    <tr>\n",
       "      <th>duration</th>\n",
       "      <td>173</td>\n",
       "      <td>173</td>\n",
       "      <td>150</td>\n",
       "      <td>150</td>\n",
       "      <td>143</td>\n",
       "      <td>143</td>\n",
       "      <td>143</td>\n",
       "      <td>143</td>\n",
       "      <td>141</td>\n",
       "      <td>141</td>\n",
       "    </tr>\n",
       "    <tr>\n",
       "      <th>gross</th>\n",
       "      <td>$623,279,547.00</td>\n",
       "      <td>$623,279,547.00</td>\n",
       "      <td>$65,007,045.00</td>\n",
       "      <td>$65,007,045.00</td>\n",
       "      <td>$304,360,277.00</td>\n",
       "      <td>$304,360,277.00</td>\n",
       "      <td>$144,812,796.00</td>\n",
       "      <td>$144,812,796.00</td>\n",
       "      <td>$nan</td>\n",
       "      <td>$nan</td>\n",
       "    </tr>\n",
       "    <tr>\n",
       "      <th>genres</th>\n",
       "      <td>Action|Adventure|Sci-Fi</td>\n",
       "      <td>Action|Adventure|Sci-Fi</td>\n",
       "      <td>Action|Adventure|Drama</td>\n",
       "      <td>Action|Adventure|Drama</td>\n",
       "      <td>Action|Adventure|Thriller</td>\n",
       "      <td>Action|Adventure|Thriller</td>\n",
       "      <td>Drama|Romance</td>\n",
       "      <td>Drama|Romance</td>\n",
       "      <td>Adventure|Drama|History</td>\n",
       "      <td>Adventure|Drama|History</td>\n",
       "    </tr>\n",
       "    <tr>\n",
       "      <th>movie_title</th>\n",
       "      <td>the avengers</td>\n",
       "      <td>the avengers</td>\n",
       "      <td>exodus: gods and kings</td>\n",
       "      <td>exodus: gods and kings</td>\n",
       "      <td>skyfall</td>\n",
       "      <td>skyfall</td>\n",
       "      <td>the great gatsby</td>\n",
       "      <td>the great gatsby</td>\n",
       "      <td>ben-hur</td>\n",
       "      <td>ben-hur</td>\n",
       "    </tr>\n",
       "    <tr>\n",
       "      <th>title_year</th>\n",
       "      <td>2012</td>\n",
       "      <td>2012</td>\n",
       "      <td>2014</td>\n",
       "      <td>2014</td>\n",
       "      <td>2012</td>\n",
       "      <td>2012</td>\n",
       "      <td>2013</td>\n",
       "      <td>2013</td>\n",
       "      <td>2016</td>\n",
       "      <td>2016</td>\n",
       "    </tr>\n",
       "    <tr>\n",
       "      <th>language</th>\n",
       "      <td>English</td>\n",
       "      <td>English</td>\n",
       "      <td>English</td>\n",
       "      <td>English</td>\n",
       "      <td>English</td>\n",
       "      <td>English</td>\n",
       "      <td>English</td>\n",
       "      <td>English</td>\n",
       "      <td>English</td>\n",
       "      <td>English</td>\n",
       "    </tr>\n",
       "    <tr>\n",
       "      <th>country</th>\n",
       "      <td>USA</td>\n",
       "      <td>USA</td>\n",
       "      <td>UK</td>\n",
       "      <td>UK</td>\n",
       "      <td>UK</td>\n",
       "      <td>UK</td>\n",
       "      <td>Australia</td>\n",
       "      <td>Australia</td>\n",
       "      <td>USA</td>\n",
       "      <td>USA</td>\n",
       "    </tr>\n",
       "    <tr>\n",
       "      <th>budget</th>\n",
       "      <td>USD 220,000,000.00</td>\n",
       "      <td>USD 220,000,000.00</td>\n",
       "      <td>USD 140,000,000.00</td>\n",
       "      <td>USD 140,000,000.00</td>\n",
       "      <td>USD 200,000,000.00</td>\n",
       "      <td>USD 200,000,000.00</td>\n",
       "      <td>USD 105,000,000.00</td>\n",
       "      <td>USD 105,000,000.00</td>\n",
       "      <td>USD 100,000,000.00</td>\n",
       "      <td>USD 100,000,000.00</td>\n",
       "    </tr>\n",
       "    <tr>\n",
       "      <th>imdb_score</th>\n",
       "      <td>8.1</td>\n",
       "      <td>8.1</td>\n",
       "      <td>6.1</td>\n",
       "      <td>6.1</td>\n",
       "      <td>7.8</td>\n",
       "      <td>7.8</td>\n",
       "      <td>7.3</td>\n",
       "      <td>7.3</td>\n",
       "      <td>6.1</td>\n",
       "      <td>6.1</td>\n",
       "    </tr>\n",
       "    <tr>\n",
       "      <th>actors</th>\n",
       "      <td>Chris Hemsworth,Robert Downey Jr.,Scarlett Joh...</td>\n",
       "      <td>Chris Hemsworth,Robert Downey Jr.,Scarlett Joh...</td>\n",
       "      <td>Christian Bale,María Valverde,Ben Mendelsohn</td>\n",
       "      <td>Christian Bale,María Valverde,Ben Mendelsohn</td>\n",
       "      <td>Albert Finney,Helen McCrory,Rory Kinnear</td>\n",
       "      <td>Albert Finney,Helen McCrory,Rory Kinnear</td>\n",
       "      <td>Leonardo DiCaprio,Elizabeth Debicki,Steve Bisley</td>\n",
       "      <td>Leonardo DiCaprio,Elizabeth Debicki,Steve Bisley</td>\n",
       "      <td>Morgan Freeman,Ayelet Zurer,Moises Arias</td>\n",
       "      <td>Morgan Freeman,Ayelet Zurer,Moises Arias</td>\n",
       "    </tr>\n",
       "    <tr>\n",
       "      <th>movie_facebook_likes</th>\n",
       "      <td>123000</td>\n",
       "      <td>123000</td>\n",
       "      <td>51000</td>\n",
       "      <td>51000</td>\n",
       "      <td>80000</td>\n",
       "      <td>80000</td>\n",
       "      <td>115000</td>\n",
       "      <td>115000</td>\n",
       "      <td>0</td>\n",
       "      <td>0</td>\n",
       "    </tr>\n",
       "    <tr>\n",
       "      <th>movie_twitter_likes</th>\n",
       "      <td>1000</td>\n",
       "      <td>1000</td>\n",
       "      <td>1000</td>\n",
       "      <td>1000</td>\n",
       "      <td>1000</td>\n",
       "      <td>1000</td>\n",
       "      <td>1000</td>\n",
       "      <td>1000</td>\n",
       "      <td>1000</td>\n",
       "      <td>1000</td>\n",
       "    </tr>\n",
       "  </tbody>\n",
       "</table>\n",
       "</div>"
      ],
      "text/plain": [
       "                                                                     8   \\\n",
       "color                                                             Color   \n",
       "director_name                                               Joss Whedon   \n",
       "duration                                                            173   \n",
       "gross                                                   $623,279,547.00   \n",
       "genres                                          Action|Adventure|Sci-Fi   \n",
       "movie_title                                                the avengers   \n",
       "title_year                                                         2012   \n",
       "language                                                        English   \n",
       "country                                                             USA   \n",
       "budget                                               USD 220,000,000.00   \n",
       "imdb_score                                                          8.1   \n",
       "actors                Chris Hemsworth,Robert Downey Jr.,Scarlett Joh...   \n",
       "movie_facebook_likes                                             123000   \n",
       "movie_twitter_likes                                                1000   \n",
       "\n",
       "                                                                     9   \\\n",
       "color                                                             Color   \n",
       "director_name                                               Joss Whedon   \n",
       "duration                                                            173   \n",
       "gross                                                   $623,279,547.00   \n",
       "genres                                          Action|Adventure|Sci-Fi   \n",
       "movie_title                                                the avengers   \n",
       "title_year                                                         2012   \n",
       "language                                                        English   \n",
       "country                                                             USA   \n",
       "budget                                               USD 220,000,000.00   \n",
       "imdb_score                                                          8.1   \n",
       "actors                Chris Hemsworth,Robert Downey Jr.,Scarlett Joh...   \n",
       "movie_facebook_likes                                             123000   \n",
       "movie_twitter_likes                                                1000   \n",
       "\n",
       "                                                                30  \\\n",
       "color                                                        Color   \n",
       "director_name                                         Ridley Scott   \n",
       "duration                                                       150   \n",
       "gross                                               $65,007,045.00   \n",
       "genres                                      Action|Adventure|Drama   \n",
       "movie_title                                 exodus: gods and kings   \n",
       "title_year                                                    2014   \n",
       "language                                                   English   \n",
       "country                                                         UK   \n",
       "budget                                          USD 140,000,000.00   \n",
       "imdb_score                                                     6.1   \n",
       "actors                Christian Bale,María Valverde,Ben Mendelsohn   \n",
       "movie_facebook_likes                                         51000   \n",
       "movie_twitter_likes                                           1000   \n",
       "\n",
       "                                                                31  \\\n",
       "color                                                        Color   \n",
       "director_name                                         Ridley Scott   \n",
       "duration                                                       150   \n",
       "gross                                               $65,007,045.00   \n",
       "genres                                      Action|Adventure|Drama   \n",
       "movie_title                                 exodus: gods and kings   \n",
       "title_year                                                    2014   \n",
       "language                                                   English   \n",
       "country                                                         UK   \n",
       "budget                                          USD 140,000,000.00   \n",
       "imdb_score                                                     6.1   \n",
       "actors                Christian Bale,María Valverde,Ben Mendelsohn   \n",
       "movie_facebook_likes                                         51000   \n",
       "movie_twitter_likes                                           1000   \n",
       "\n",
       "                                                            52  \\\n",
       "color                                                    Color   \n",
       "director_name                                       Sam Mendes   \n",
       "duration                                                   143   \n",
       "gross                                          $304,360,277.00   \n",
       "genres                               Action|Adventure|Thriller   \n",
       "movie_title                                            skyfall   \n",
       "title_year                                                2012   \n",
       "language                                               English   \n",
       "country                                                     UK   \n",
       "budget                                      USD 200,000,000.00   \n",
       "imdb_score                                                 7.8   \n",
       "actors                Albert Finney,Helen McCrory,Rory Kinnear   \n",
       "movie_facebook_likes                                     80000   \n",
       "movie_twitter_likes                                       1000   \n",
       "\n",
       "                                                            53  \\\n",
       "color                                                    Color   \n",
       "director_name                                       Sam Mendes   \n",
       "duration                                                   143   \n",
       "gross                                          $304,360,277.00   \n",
       "genres                               Action|Adventure|Thriller   \n",
       "movie_title                                            skyfall   \n",
       "title_year                                                2012   \n",
       "language                                               English   \n",
       "country                                                     UK   \n",
       "budget                                      USD 200,000,000.00   \n",
       "imdb_score                                                 7.8   \n",
       "actors                Albert Finney,Helen McCrory,Rory Kinnear   \n",
       "movie_facebook_likes                                     80000   \n",
       "movie_twitter_likes                                       1000   \n",
       "\n",
       "                                                                    54  \\\n",
       "color                                                            Color   \n",
       "director_name                                             Baz Luhrmann   \n",
       "duration                                                           143   \n",
       "gross                                                  $144,812,796.00   \n",
       "genres                                                   Drama|Romance   \n",
       "movie_title                                           the great gatsby   \n",
       "title_year                                                        2013   \n",
       "language                                                       English   \n",
       "country                                                      Australia   \n",
       "budget                                              USD 105,000,000.00   \n",
       "imdb_score                                                         7.3   \n",
       "actors                Leonardo DiCaprio,Elizabeth Debicki,Steve Bisley   \n",
       "movie_facebook_likes                                            115000   \n",
       "movie_twitter_likes                                               1000   \n",
       "\n",
       "                                                                    55  \\\n",
       "color                                                            Color   \n",
       "director_name                                             Baz Luhrmann   \n",
       "duration                                                           143   \n",
       "gross                                                  $144,812,796.00   \n",
       "genres                                                   Drama|Romance   \n",
       "movie_title                                           the great gatsby   \n",
       "title_year                                                        2013   \n",
       "language                                                       English   \n",
       "country                                                      Australia   \n",
       "budget                                              USD 105,000,000.00   \n",
       "imdb_score                                                         7.3   \n",
       "actors                Leonardo DiCaprio,Elizabeth Debicki,Steve Bisley   \n",
       "movie_facebook_likes                                            115000   \n",
       "movie_twitter_likes                                               1000   \n",
       "\n",
       "                                                            61  \\\n",
       "color                                                    Color   \n",
       "director_name                                Timur Bekmambetov   \n",
       "duration                                                   141   \n",
       "gross                                                     $nan   \n",
       "genres                                 Adventure|Drama|History   \n",
       "movie_title                                            ben-hur   \n",
       "title_year                                                2016   \n",
       "language                                               English   \n",
       "country                                                    USA   \n",
       "budget                                      USD 100,000,000.00   \n",
       "imdb_score                                                 6.1   \n",
       "actors                Morgan Freeman,Ayelet Zurer,Moises Arias   \n",
       "movie_facebook_likes                                         0   \n",
       "movie_twitter_likes                                       1000   \n",
       "\n",
       "                                                            63  \n",
       "color                                                    Color  \n",
       "director_name                                Timur Bekmambetov  \n",
       "duration                                                   141  \n",
       "gross                                                     $nan  \n",
       "genres                                 Adventure|Drama|History  \n",
       "movie_title                                            ben-hur  \n",
       "title_year                                                2016  \n",
       "language                                               English  \n",
       "country                                                    USA  \n",
       "budget                                      USD 100,000,000.00  \n",
       "imdb_score                                                 6.1  \n",
       "actors                Morgan Freeman,Ayelet Zurer,Moises Arias  \n",
       "movie_facebook_likes                                         0  \n",
       "movie_twitter_likes                                       1000  "
      ]
     },
     "execution_count": 14,
     "metadata": {},
     "output_type": "execute_result"
    }
   ],
   "source": [
    "df_imdb[df_imdb.duplicated(keep=False)].T"
   ]
  },
  {
   "cell_type": "code",
   "execution_count": 15,
   "metadata": {},
   "outputs": [
    {
     "data": {
      "text/plain": [
       "((99, 14), (94, 14))"
      ]
     },
     "execution_count": 15,
     "metadata": {},
     "output_type": "execute_result"
    }
   ],
   "source": [
    "df_imdb.shape, df_imdb.drop_duplicates().shape"
   ]
  },
  {
   "cell_type": "code",
   "execution_count": 16,
   "metadata": {},
   "outputs": [],
   "source": [
    "df_imdb = df_imdb.drop_duplicates()"
   ]
  },
  {
   "cell_type": "code",
   "execution_count": 17,
   "metadata": {},
   "outputs": [
    {
     "data": {
      "text/plain": [
       "(94, 14)"
      ]
     },
     "execution_count": 17,
     "metadata": {},
     "output_type": "execute_result"
    }
   ],
   "source": [
    "df_imdb.shape"
   ]
  },
  {
   "cell_type": "markdown",
   "metadata": {},
   "source": [
    "## Tratamiento de columnas\n",
    "\n",
    "Dylan:\n",
    "\n",
    "- `color`\n",
    "- `director_name`\n",
    "- `gross`\n",
    "- `duration`\n",
    "\n",
    "Todos:\n",
    "- `movie_title`\n",
    "- `title_year`\n",
    "- `movie_twitter_likes`\n",
    "- `imdb_score`\n",
    "- `country`\n",
    "- `language`\n",
    "- `actors`\n",
    "- `movie_facebook_likes`\n"
   ]
  },
  {
   "cell_type": "markdown",
   "metadata": {},
   "source": [
    "### Columna `color`"
   ]
  },
  {
   "cell_type": "code",
   "execution_count": 18,
   "metadata": {},
   "outputs": [
    {
     "data": {
      "text/plain": [
       "Color               81\n",
       "NaN                 11\n",
       "color                1\n",
       " Black and White     1\n",
       "Name: color, dtype: int64"
      ]
     },
     "execution_count": 18,
     "metadata": {},
     "output_type": "execute_result"
    }
   ],
   "source": [
    "df_imdb.color.value_counts(dropna=False)"
   ]
  },
  {
   "cell_type": "code",
   "execution_count": 19,
   "metadata": {},
   "outputs": [
    {
     "data": {
      "text/html": [
       "<div>\n",
       "<style scoped>\n",
       "    .dataframe tbody tr th:only-of-type {\n",
       "        vertical-align: middle;\n",
       "    }\n",
       "\n",
       "    .dataframe tbody tr th {\n",
       "        vertical-align: top;\n",
       "    }\n",
       "\n",
       "    .dataframe thead th {\n",
       "        text-align: right;\n",
       "    }\n",
       "</style>\n",
       "<table border=\"1\" class=\"dataframe\">\n",
       "  <thead>\n",
       "    <tr style=\"text-align: right;\">\n",
       "      <th></th>\n",
       "      <th>5</th>\n",
       "      <th>10</th>\n",
       "      <th>15</th>\n",
       "      <th>18</th>\n",
       "      <th>56</th>\n",
       "      <th>65</th>\n",
       "      <th>74</th>\n",
       "      <th>76</th>\n",
       "      <th>80</th>\n",
       "      <th>83</th>\n",
       "      <th>87</th>\n",
       "    </tr>\n",
       "  </thead>\n",
       "  <tbody>\n",
       "    <tr>\n",
       "      <th>color</th>\n",
       "      <td>NaN</td>\n",
       "      <td>NaN</td>\n",
       "      <td>NaN</td>\n",
       "      <td>NaN</td>\n",
       "      <td>NaN</td>\n",
       "      <td>NaN</td>\n",
       "      <td>NaN</td>\n",
       "      <td>NaN</td>\n",
       "      <td>NaN</td>\n",
       "      <td>NaN</td>\n",
       "      <td>NaN</td>\n",
       "    </tr>\n",
       "    <tr>\n",
       "      <th>director_name</th>\n",
       "      <td>NaN</td>\n",
       "      <td>Tom Tykwer</td>\n",
       "      <td>Richard Linklater</td>\n",
       "      <td>Christopher Nolan</td>\n",
       "      <td>NaN</td>\n",
       "      <td>Oliver Stone</td>\n",
       "      <td>Terrence Malick</td>\n",
       "      <td>Robert Zemeckis</td>\n",
       "      <td>James Mangold</td>\n",
       "      <td>Walter Salles</td>\n",
       "      <td>Seth MacFarlane</td>\n",
       "    </tr>\n",
       "    <tr>\n",
       "      <th>duration</th>\n",
       "      <td>183</td>\n",
       "      <td>172</td>\n",
       "      <td>165</td>\n",
       "      <td>164</td>\n",
       "      <td>143</td>\n",
       "      <td>141</td>\n",
       "      <td>139</td>\n",
       "      <td>138</td>\n",
       "      <td>138</td>\n",
       "      <td>137</td>\n",
       "      <td>136</td>\n",
       "    </tr>\n",
       "    <tr>\n",
       "      <th>gross</th>\n",
       "      <td>$330,249,062.00</td>\n",
       "      <td>$27,098,580.00</td>\n",
       "      <td>$25,359,200.00</td>\n",
       "      <td>$448,130,642.00</td>\n",
       "      <td>$nan</td>\n",
       "      <td>$47,307,550.00</td>\n",
       "      <td>$13,303,319.00</td>\n",
       "      <td>$93,749,203.00</td>\n",
       "      <td>$132,550,960.00</td>\n",
       "      <td>$717,753.00</td>\n",
       "      <td>$42,615,685.00</td>\n",
       "    </tr>\n",
       "    <tr>\n",
       "      <th>genres</th>\n",
       "      <td>Action|Adventure|Sci-Fi</td>\n",
       "      <td>Drama|Sci-Fi</td>\n",
       "      <td>Drama</td>\n",
       "      <td>Action|Thriller</td>\n",
       "      <td>Drama|Horror|Thriller</td>\n",
       "      <td>Crime|Drama|Thriller</td>\n",
       "      <td>Drama|Fantasy</td>\n",
       "      <td>Drama|Thriller</td>\n",
       "      <td>Action|Adventure|Sci-Fi|Thriller</td>\n",
       "      <td>Adventure|Drama</td>\n",
       "      <td>Comedy|Western</td>\n",
       "    </tr>\n",
       "    <tr>\n",
       "      <th>movie_title</th>\n",
       "      <td>batman v superman: dawn of justice</td>\n",
       "      <td>cloud atlas</td>\n",
       "      <td>boyhood</td>\n",
       "      <td>the dark knight rises</td>\n",
       "      <td>the ridges</td>\n",
       "      <td>savages</td>\n",
       "      <td>the tree of life</td>\n",
       "      <td>flight</td>\n",
       "      <td>the wolverine</td>\n",
       "      <td>on the road</td>\n",
       "      <td>a million ways to die in the west</td>\n",
       "    </tr>\n",
       "    <tr>\n",
       "      <th>title_year</th>\n",
       "      <td>202</td>\n",
       "      <td>2012</td>\n",
       "      <td>2014</td>\n",
       "      <td>2012</td>\n",
       "      <td>2011</td>\n",
       "      <td>2012</td>\n",
       "      <td>2011</td>\n",
       "      <td>2012</td>\n",
       "      <td>2013</td>\n",
       "      <td>2012</td>\n",
       "      <td>2014</td>\n",
       "    </tr>\n",
       "    <tr>\n",
       "      <th>language</th>\n",
       "      <td>English</td>\n",
       "      <td>English</td>\n",
       "      <td>English</td>\n",
       "      <td>English</td>\n",
       "      <td>English</td>\n",
       "      <td>English</td>\n",
       "      <td>English</td>\n",
       "      <td>English</td>\n",
       "      <td>English</td>\n",
       "      <td>English</td>\n",
       "      <td>English</td>\n",
       "    </tr>\n",
       "    <tr>\n",
       "      <th>country</th>\n",
       "      <td>USA</td>\n",
       "      <td>Germany</td>\n",
       "      <td>USA</td>\n",
       "      <td>USA</td>\n",
       "      <td>USA</td>\n",
       "      <td>USA</td>\n",
       "      <td>USA</td>\n",
       "      <td>USA</td>\n",
       "      <td>USA</td>\n",
       "      <td>France</td>\n",
       "      <td>USA</td>\n",
       "    </tr>\n",
       "    <tr>\n",
       "      <th>budget</th>\n",
       "      <td>USD 250,000,000.00</td>\n",
       "      <td>USD 102,000,000.00</td>\n",
       "      <td>USD 4,000,000.00</td>\n",
       "      <td>USD 250,000,000.00</td>\n",
       "      <td>USD 17,350.00</td>\n",
       "      <td>USD 45,000,000.00</td>\n",
       "      <td>USD 32,000,000.00</td>\n",
       "      <td>USD 31,000,000.00</td>\n",
       "      <td>USD 120,000,000.00</td>\n",
       "      <td>USD 25,000,000.00</td>\n",
       "      <td>USD 40,000,000.00</td>\n",
       "    </tr>\n",
       "    <tr>\n",
       "      <th>imdb_score</th>\n",
       "      <td>6.9</td>\n",
       "      <td>-7.5</td>\n",
       "      <td>8.0</td>\n",
       "      <td>8.5</td>\n",
       "      <td>3.0</td>\n",
       "      <td>6.5</td>\n",
       "      <td>6.7</td>\n",
       "      <td>7.3</td>\n",
       "      <td>6.7</td>\n",
       "      <td>6.1</td>\n",
       "      <td>6.1</td>\n",
       "    </tr>\n",
       "    <tr>\n",
       "      <th>actors</th>\n",
       "      <td>Henry Cavill,Lauren Cohan,Alan D. Purwin</td>\n",
       "      <td>Tom Hanks,Jim Sturgess,Jim Broadbent</td>\n",
       "      <td>Ellar Coltrane,Lorelei Linklater,Libby Villari</td>\n",
       "      <td>Tom Hardy,Christian Bale,Joseph Gordon-Levitt</td>\n",
       "      <td>Robbie Barnes,Alana Kaniewski,Brandon Landers</td>\n",
       "      <td>Demián Bichir,Shea Whigham,Gary Stretch</td>\n",
       "      <td>Brad Pitt,Tye Sheridan,Fiona Shaw</td>\n",
       "      <td>Denzel Washington,Bruce Greenwood,Nadine Velaz...</td>\n",
       "      <td>Hugh Jackman,Tao Okamoto,Rila Fukushima</td>\n",
       "      <td>Kristen Stewart,Viggo Mortensen,Kirsten Dunst</td>\n",
       "      <td>Liam Neeson,Charlize Theron,Seth MacFarlane</td>\n",
       "    </tr>\n",
       "    <tr>\n",
       "      <th>movie_facebook_likes</th>\n",
       "      <td>197000</td>\n",
       "      <td>124000</td>\n",
       "      <td>92000</td>\n",
       "      <td>164000</td>\n",
       "      <td>33</td>\n",
       "      <td>28000</td>\n",
       "      <td>39000</td>\n",
       "      <td>64000</td>\n",
       "      <td>68000</td>\n",
       "      <td>27000</td>\n",
       "      <td>24000</td>\n",
       "    </tr>\n",
       "    <tr>\n",
       "      <th>movie_twitter_likes</th>\n",
       "      <td>1000</td>\n",
       "      <td>1000</td>\n",
       "      <td>1000</td>\n",
       "      <td>1000</td>\n",
       "      <td>1000</td>\n",
       "      <td>1000</td>\n",
       "      <td>1000</td>\n",
       "      <td>1000</td>\n",
       "      <td>1000</td>\n",
       "      <td>1000</td>\n",
       "      <td>1000</td>\n",
       "    </tr>\n",
       "  </tbody>\n",
       "</table>\n",
       "</div>"
      ],
      "text/plain": [
       "                                                            5   \\\n",
       "color                                                      NaN   \n",
       "director_name                                              NaN   \n",
       "duration                                                   183   \n",
       "gross                                          $330,249,062.00   \n",
       "genres                                 Action|Adventure|Sci-Fi   \n",
       "movie_title                 batman v superman: dawn of justice   \n",
       "title_year                                                 202   \n",
       "language                                               English   \n",
       "country                                                    USA   \n",
       "budget                                      USD 250,000,000.00   \n",
       "imdb_score                                                 6.9   \n",
       "actors                Henry Cavill,Lauren Cohan,Alan D. Purwin   \n",
       "movie_facebook_likes                                    197000   \n",
       "movie_twitter_likes                                       1000   \n",
       "\n",
       "                                                        10  \\\n",
       "color                                                  NaN   \n",
       "director_name                                   Tom Tykwer   \n",
       "duration                                               172   \n",
       "gross                                       $27,098,580.00   \n",
       "genres                                        Drama|Sci-Fi   \n",
       "movie_title                                    cloud atlas   \n",
       "title_year                                            2012   \n",
       "language                                           English   \n",
       "country                                            Germany   \n",
       "budget                                  USD 102,000,000.00   \n",
       "imdb_score                                            -7.5   \n",
       "actors                Tom Hanks,Jim Sturgess,Jim Broadbent   \n",
       "movie_facebook_likes                                124000   \n",
       "movie_twitter_likes                                   1000   \n",
       "\n",
       "                                                                  15  \\\n",
       "color                                                            NaN   \n",
       "director_name                                      Richard Linklater   \n",
       "duration                                                         165   \n",
       "gross                                                 $25,359,200.00   \n",
       "genres                                                         Drama   \n",
       "movie_title                                                  boyhood   \n",
       "title_year                                                      2014   \n",
       "language                                                     English   \n",
       "country                                                          USA   \n",
       "budget                                              USD 4,000,000.00   \n",
       "imdb_score                                                       8.0   \n",
       "actors                Ellar Coltrane,Lorelei Linklater,Libby Villari   \n",
       "movie_facebook_likes                                           92000   \n",
       "movie_twitter_likes                                             1000   \n",
       "\n",
       "                                                                 18  \\\n",
       "color                                                           NaN   \n",
       "director_name                                     Christopher Nolan   \n",
       "duration                                                        164   \n",
       "gross                                               $448,130,642.00   \n",
       "genres                                              Action|Thriller   \n",
       "movie_title                                   the dark knight rises   \n",
       "title_year                                                     2012   \n",
       "language                                                    English   \n",
       "country                                                         USA   \n",
       "budget                                           USD 250,000,000.00   \n",
       "imdb_score                                                      8.5   \n",
       "actors                Tom Hardy,Christian Bale,Joseph Gordon-Levitt   \n",
       "movie_facebook_likes                                         164000   \n",
       "movie_twitter_likes                                            1000   \n",
       "\n",
       "                                                                 56  \\\n",
       "color                                                           NaN   \n",
       "director_name                                                   NaN   \n",
       "duration                                                        143   \n",
       "gross                                                          $nan   \n",
       "genres                                        Drama|Horror|Thriller   \n",
       "movie_title                                              the ridges   \n",
       "title_year                                                     2011   \n",
       "language                                                    English   \n",
       "country                                                         USA   \n",
       "budget                                                USD 17,350.00   \n",
       "imdb_score                                                      3.0   \n",
       "actors                Robbie Barnes,Alana Kaniewski,Brandon Landers   \n",
       "movie_facebook_likes                                             33   \n",
       "movie_twitter_likes                                            1000   \n",
       "\n",
       "                                                           65  \\\n",
       "color                                                     NaN   \n",
       "director_name                                    Oliver Stone   \n",
       "duration                                                  141   \n",
       "gross                                          $47,307,550.00   \n",
       "genres                                   Crime|Drama|Thriller   \n",
       "movie_title                                           savages   \n",
       "title_year                                               2012   \n",
       "language                                              English   \n",
       "country                                                   USA   \n",
       "budget                                      USD 45,000,000.00   \n",
       "imdb_score                                                6.5   \n",
       "actors                Demián Bichir,Shea Whigham,Gary Stretch   \n",
       "movie_facebook_likes                                    28000   \n",
       "movie_twitter_likes                                      1000   \n",
       "\n",
       "                                                     74  \\\n",
       "color                                               NaN   \n",
       "director_name                           Terrence Malick   \n",
       "duration                                            139   \n",
       "gross                                    $13,303,319.00   \n",
       "genres                                    Drama|Fantasy   \n",
       "movie_title                            the tree of life   \n",
       "title_year                                         2011   \n",
       "language                                        English   \n",
       "country                                             USA   \n",
       "budget                                USD 32,000,000.00   \n",
       "imdb_score                                          6.7   \n",
       "actors                Brad Pitt,Tye Sheridan,Fiona Shaw   \n",
       "movie_facebook_likes                              39000   \n",
       "movie_twitter_likes                                1000   \n",
       "\n",
       "                                                                     76  \\\n",
       "color                                                               NaN   \n",
       "director_name                                           Robert Zemeckis   \n",
       "duration                                                            138   \n",
       "gross                                                    $93,749,203.00   \n",
       "genres                                                   Drama|Thriller   \n",
       "movie_title                                                      flight   \n",
       "title_year                                                         2012   \n",
       "language                                                        English   \n",
       "country                                                             USA   \n",
       "budget                                                USD 31,000,000.00   \n",
       "imdb_score                                                          7.3   \n",
       "actors                Denzel Washington,Bruce Greenwood,Nadine Velaz...   \n",
       "movie_facebook_likes                                              64000   \n",
       "movie_twitter_likes                                                1000   \n",
       "\n",
       "                                                           80  \\\n",
       "color                                                     NaN   \n",
       "director_name                                   James Mangold   \n",
       "duration                                                  138   \n",
       "gross                                         $132,550,960.00   \n",
       "genres                       Action|Adventure|Sci-Fi|Thriller   \n",
       "movie_title                                     the wolverine   \n",
       "title_year                                               2013   \n",
       "language                                              English   \n",
       "country                                                   USA   \n",
       "budget                                     USD 120,000,000.00   \n",
       "imdb_score                                                6.7   \n",
       "actors                Hugh Jackman,Tao Okamoto,Rila Fukushima   \n",
       "movie_facebook_likes                                    68000   \n",
       "movie_twitter_likes                                      1000   \n",
       "\n",
       "                                                                 83  \\\n",
       "color                                                           NaN   \n",
       "director_name                                         Walter Salles   \n",
       "duration                                                        137   \n",
       "gross                                                   $717,753.00   \n",
       "genres                                              Adventure|Drama   \n",
       "movie_title                                             on the road   \n",
       "title_year                                                     2012   \n",
       "language                                                    English   \n",
       "country                                                      France   \n",
       "budget                                            USD 25,000,000.00   \n",
       "imdb_score                                                      6.1   \n",
       "actors                Kristen Stewart,Viggo Mortensen,Kirsten Dunst   \n",
       "movie_facebook_likes                                          27000   \n",
       "movie_twitter_likes                                            1000   \n",
       "\n",
       "                                                               87  \n",
       "color                                                         NaN  \n",
       "director_name                                     Seth MacFarlane  \n",
       "duration                                                      136  \n",
       "gross                                              $42,615,685.00  \n",
       "genres                                             Comedy|Western  \n",
       "movie_title                     a million ways to die in the west  \n",
       "title_year                                                   2014  \n",
       "language                                                  English  \n",
       "country                                                       USA  \n",
       "budget                                          USD 40,000,000.00  \n",
       "imdb_score                                                    6.1  \n",
       "actors                Liam Neeson,Charlize Theron,Seth MacFarlane  \n",
       "movie_facebook_likes                                        24000  \n",
       "movie_twitter_likes                                          1000  "
      ]
     },
     "execution_count": 19,
     "metadata": {},
     "output_type": "execute_result"
    }
   ],
   "source": [
    "df_imdb[df_imdb.color.isnull()].T"
   ]
  },
  {
   "cell_type": "code",
   "execution_count": 20,
   "metadata": {},
   "outputs": [],
   "source": [
    "df_imdb.loc[df_imdb.color.isnull() == True, 'color'] = 'Color'"
   ]
  },
  {
   "cell_type": "code",
   "execution_count": 21,
   "metadata": {},
   "outputs": [
    {
     "data": {
      "text/plain": [
       "Color               92\n",
       "color                1\n",
       " Black and White     1\n",
       "Name: color, dtype: int64"
      ]
     },
     "execution_count": 21,
     "metadata": {},
     "output_type": "execute_result"
    }
   ],
   "source": [
    "df_imdb.color.value_counts(dropna=False)"
   ]
  },
  {
   "cell_type": "code",
   "execution_count": 22,
   "metadata": {},
   "outputs": [
    {
     "data": {
      "text/plain": [
       "Color               92\n",
       "Color                1\n",
       " black and white     1\n",
       "Name: color, dtype: int64"
      ]
     },
     "execution_count": 22,
     "metadata": {},
     "output_type": "execute_result"
    }
   ],
   "source": [
    "df_imdb.color.str.capitalize().value_counts()"
   ]
  },
  {
   "cell_type": "code",
   "execution_count": 23,
   "metadata": {},
   "outputs": [
    {
     "data": {
      "text/plain": [
       "Color              93\n",
       "Black and white     1\n",
       "Name: color, dtype: int64"
      ]
     },
     "execution_count": 23,
     "metadata": {},
     "output_type": "execute_result"
    }
   ],
   "source": [
    "df_imdb.color.str.strip().str.capitalize().value_counts()"
   ]
  },
  {
   "cell_type": "code",
   "execution_count": 24,
   "metadata": {},
   "outputs": [],
   "source": [
    "df_imdb['color'] = df_imdb.color.str.strip().str.capitalize()"
   ]
  },
  {
   "cell_type": "code",
   "execution_count": 25,
   "metadata": {},
   "outputs": [],
   "source": [
    "assert df_imdb.color.isna().any() == False\n",
    "assert sorted(df_imdb.color.unique()) == ['Black and white', 'Color']"
   ]
  },
  {
   "cell_type": "markdown",
   "metadata": {},
   "source": [
    "### Columna `director_name`"
   ]
  },
  {
   "cell_type": "code",
   "execution_count": 26,
   "metadata": {},
   "outputs": [
    {
     "data": {
      "text/plain": [
       "NaN                  11\n",
       "Michael Bay           3\n",
       "Peter Jackson         3\n",
       "Christopher Nolan     3\n",
       "Ridley Scott          3\n",
       "                     ..\n",
       "Adam McKay            1\n",
       "Zack Snyder           1\n",
       "Baz Luhrmann          1\n",
       "Kenneth Lonergan      1\n",
       "Clint Eastwood        1\n",
       "Name: director_name, Length: 64, dtype: int64"
      ]
     },
     "execution_count": 26,
     "metadata": {},
     "output_type": "execute_result"
    }
   ],
   "source": [
    "df_imdb.director_name.value_counts(dropna=False)"
   ]
  },
  {
   "cell_type": "code",
   "execution_count": 27,
   "metadata": {},
   "outputs": [
    {
     "data": {
      "text/html": [
       "<div>\n",
       "<style scoped>\n",
       "    .dataframe tbody tr th:only-of-type {\n",
       "        vertical-align: middle;\n",
       "    }\n",
       "\n",
       "    .dataframe tbody tr th {\n",
       "        vertical-align: top;\n",
       "    }\n",
       "\n",
       "    .dataframe thead th {\n",
       "        text-align: right;\n",
       "    }\n",
       "</style>\n",
       "<table border=\"1\" class=\"dataframe\">\n",
       "  <thead>\n",
       "    <tr style=\"text-align: right;\">\n",
       "      <th></th>\n",
       "      <th>5</th>\n",
       "      <th>24</th>\n",
       "      <th>32</th>\n",
       "      <th>41</th>\n",
       "      <th>56</th>\n",
       "      <th>59</th>\n",
       "      <th>71</th>\n",
       "      <th>75</th>\n",
       "      <th>82</th>\n",
       "      <th>84</th>\n",
       "      <th>91</th>\n",
       "    </tr>\n",
       "  </thead>\n",
       "  <tbody>\n",
       "    <tr>\n",
       "      <th>color</th>\n",
       "      <td>Color</td>\n",
       "      <td>Color</td>\n",
       "      <td>Color</td>\n",
       "      <td>Color</td>\n",
       "      <td>Color</td>\n",
       "      <td>Color</td>\n",
       "      <td>Color</td>\n",
       "      <td>Color</td>\n",
       "      <td>Color</td>\n",
       "      <td>Color</td>\n",
       "      <td>Color</td>\n",
       "    </tr>\n",
       "    <tr>\n",
       "      <th>director_name</th>\n",
       "      <td>NaN</td>\n",
       "      <td>NaN</td>\n",
       "      <td>NaN</td>\n",
       "      <td>NaN</td>\n",
       "      <td>NaN</td>\n",
       "      <td>NaN</td>\n",
       "      <td>NaN</td>\n",
       "      <td>NaN</td>\n",
       "      <td>NaN</td>\n",
       "      <td>NaN</td>\n",
       "      <td>NaN</td>\n",
       "    </tr>\n",
       "    <tr>\n",
       "      <th>duration</th>\n",
       "      <td>183</td>\n",
       "      <td>156</td>\n",
       "      <td>150</td>\n",
       "      <td>147</td>\n",
       "      <td>143</td>\n",
       "      <td>142</td>\n",
       "      <td>139</td>\n",
       "      <td>138</td>\n",
       "      <td>137</td>\n",
       "      <td>137</td>\n",
       "      <td>136</td>\n",
       "    </tr>\n",
       "    <tr>\n",
       "      <th>gross</th>\n",
       "      <td>$330,249,062.00</td>\n",
       "      <td>$183,635,922.00</td>\n",
       "      <td>$182,204,440.00</td>\n",
       "      <td>$407,197,282.00</td>\n",
       "      <td>$nan</td>\n",
       "      <td>$407,999,255.00</td>\n",
       "      <td>$150,832,203.00</td>\n",
       "      <td>$150,117,807.00</td>\n",
       "      <td>$37,304,950.00</td>\n",
       "      <td>$281,666,058.00</td>\n",
       "      <td>$52,474,616.00</td>\n",
       "    </tr>\n",
       "    <tr>\n",
       "      <th>genres</th>\n",
       "      <td>Action|Adventure|Sci-Fi</td>\n",
       "      <td>Adventure|Drama|Thriller|Western</td>\n",
       "      <td>Biography|Drama|History|War</td>\n",
       "      <td>Action|Adventure|Sci-Fi</td>\n",
       "      <td>Drama|Horror|Thriller</td>\n",
       "      <td>Adventure|Drama|Sci-Fi|Thriller</td>\n",
       "      <td>Adventure|Mystery|Sci-Fi</td>\n",
       "      <td>Crime|Drama</td>\n",
       "      <td>Biography|Crime|Drama</td>\n",
       "      <td>Adventure|Sci-Fi</td>\n",
       "      <td>Drama</td>\n",
       "    </tr>\n",
       "    <tr>\n",
       "      <th>movie_title</th>\n",
       "      <td>batman v superman: dawn of justice</td>\n",
       "      <td>the revenant</td>\n",
       "      <td>lincoln</td>\n",
       "      <td>captain america: civil war</td>\n",
       "      <td>the ridges</td>\n",
       "      <td>the hunger games</td>\n",
       "      <td>divergent</td>\n",
       "      <td>american hustle</td>\n",
       "      <td>j. edgar</td>\n",
       "      <td>the hunger games: mockingjay - part 2</td>\n",
       "      <td>wall street: money never sleeps</td>\n",
       "    </tr>\n",
       "    <tr>\n",
       "      <th>title_year</th>\n",
       "      <td>202</td>\n",
       "      <td>2015</td>\n",
       "      <td>2012</td>\n",
       "      <td>2016</td>\n",
       "      <td>2011</td>\n",
       "      <td>2012</td>\n",
       "      <td>1800</td>\n",
       "      <td>2013</td>\n",
       "      <td>2011</td>\n",
       "      <td>2015</td>\n",
       "      <td>2010</td>\n",
       "    </tr>\n",
       "    <tr>\n",
       "      <th>language</th>\n",
       "      <td>English</td>\n",
       "      <td>English</td>\n",
       "      <td>English</td>\n",
       "      <td>English</td>\n",
       "      <td>English</td>\n",
       "      <td>English</td>\n",
       "      <td>English</td>\n",
       "      <td>English</td>\n",
       "      <td>English</td>\n",
       "      <td>English</td>\n",
       "      <td>English</td>\n",
       "    </tr>\n",
       "    <tr>\n",
       "      <th>country</th>\n",
       "      <td>USA</td>\n",
       "      <td>USA</td>\n",
       "      <td>USA</td>\n",
       "      <td>USA</td>\n",
       "      <td>USA</td>\n",
       "      <td>USA</td>\n",
       "      <td>USA</td>\n",
       "      <td>USA</td>\n",
       "      <td>USA</td>\n",
       "      <td>USA</td>\n",
       "      <td>USA</td>\n",
       "    </tr>\n",
       "    <tr>\n",
       "      <th>budget</th>\n",
       "      <td>USD 250,000,000.00</td>\n",
       "      <td>USD 135,000,000.00</td>\n",
       "      <td>USD 65,000,000.00</td>\n",
       "      <td>USD 250,000,000.00</td>\n",
       "      <td>USD 17,350.00</td>\n",
       "      <td>USD 78,000,000.00</td>\n",
       "      <td>USD 85,000,000.00</td>\n",
       "      <td>USD 40,000,000.00</td>\n",
       "      <td>USD 35,000,000.00</td>\n",
       "      <td>USD 160,000,000.00</td>\n",
       "      <td>USD 70,000,000.00</td>\n",
       "    </tr>\n",
       "    <tr>\n",
       "      <th>imdb_score</th>\n",
       "      <td>6.9</td>\n",
       "      <td>8.1</td>\n",
       "      <td>7.4</td>\n",
       "      <td>8.2</td>\n",
       "      <td>3.0</td>\n",
       "      <td>7.3</td>\n",
       "      <td>6.7</td>\n",
       "      <td>7.3</td>\n",
       "      <td>6.6</td>\n",
       "      <td>6.6</td>\n",
       "      <td>6.3</td>\n",
       "    </tr>\n",
       "    <tr>\n",
       "      <th>actors</th>\n",
       "      <td>Henry Cavill,Lauren Cohan,Alan D. Purwin</td>\n",
       "      <td>Leonardo DiCaprio,Tom Hardy,Lukas Haas</td>\n",
       "      <td>Joseph Gordon-Levitt,Hal Holbrook,Bruce McGill</td>\n",
       "      <td>Robert Downey Jr.,Scarlett Johansson,Chris Evans</td>\n",
       "      <td>Robbie Barnes,Alana Kaniewski,Brandon Landers</td>\n",
       "      <td>Jennifer Lawrence,Josh Hutcherson,Anthony Reyn...</td>\n",
       "      <td>Kate Winslet,Theo James,Mekhi Phifer</td>\n",
       "      <td>Jennifer Lawrence,Christian Bale,Bradley Cooper</td>\n",
       "      <td>Leonardo DiCaprio,Naomi Watts,Kaitlyn Dever</td>\n",
       "      <td>Jennifer Lawrence,Philip Seymour Hoffman,Josh ...</td>\n",
       "      <td>Frank Langella,Austin Pendleton,John Buffalo M...</td>\n",
       "    </tr>\n",
       "    <tr>\n",
       "      <th>movie_facebook_likes</th>\n",
       "      <td>197000</td>\n",
       "      <td>190000</td>\n",
       "      <td>71000</td>\n",
       "      <td>72000</td>\n",
       "      <td>33</td>\n",
       "      <td>140000</td>\n",
       "      <td>49000</td>\n",
       "      <td>63000</td>\n",
       "      <td>16000</td>\n",
       "      <td>38000</td>\n",
       "      <td>13000</td>\n",
       "    </tr>\n",
       "    <tr>\n",
       "      <th>movie_twitter_likes</th>\n",
       "      <td>1000</td>\n",
       "      <td>1000</td>\n",
       "      <td>1000</td>\n",
       "      <td>1000</td>\n",
       "      <td>1000</td>\n",
       "      <td>1000</td>\n",
       "      <td>1000</td>\n",
       "      <td>1000</td>\n",
       "      <td>1000</td>\n",
       "      <td>1000</td>\n",
       "      <td>1000</td>\n",
       "    </tr>\n",
       "  </tbody>\n",
       "</table>\n",
       "</div>"
      ],
      "text/plain": [
       "                                                            5   \\\n",
       "color                                                    Color   \n",
       "director_name                                              NaN   \n",
       "duration                                                   183   \n",
       "gross                                          $330,249,062.00   \n",
       "genres                                 Action|Adventure|Sci-Fi   \n",
       "movie_title                 batman v superman: dawn of justice   \n",
       "title_year                                                 202   \n",
       "language                                               English   \n",
       "country                                                    USA   \n",
       "budget                                      USD 250,000,000.00   \n",
       "imdb_score                                                 6.9   \n",
       "actors                Henry Cavill,Lauren Cohan,Alan D. Purwin   \n",
       "movie_facebook_likes                                    197000   \n",
       "movie_twitter_likes                                       1000   \n",
       "\n",
       "                                                          24  \\\n",
       "color                                                  Color   \n",
       "director_name                                            NaN   \n",
       "duration                                                 156   \n",
       "gross                                        $183,635,922.00   \n",
       "genres                      Adventure|Drama|Thriller|Western   \n",
       "movie_title                                     the revenant   \n",
       "title_year                                              2015   \n",
       "language                                             English   \n",
       "country                                                  USA   \n",
       "budget                                    USD 135,000,000.00   \n",
       "imdb_score                                               8.1   \n",
       "actors                Leonardo DiCaprio,Tom Hardy,Lukas Haas   \n",
       "movie_facebook_likes                                  190000   \n",
       "movie_twitter_likes                                     1000   \n",
       "\n",
       "                                                                  32  \\\n",
       "color                                                          Color   \n",
       "director_name                                                    NaN   \n",
       "duration                                                         150   \n",
       "gross                                                $182,204,440.00   \n",
       "genres                                   Biography|Drama|History|War   \n",
       "movie_title                                                  lincoln   \n",
       "title_year                                                      2012   \n",
       "language                                                     English   \n",
       "country                                                          USA   \n",
       "budget                                             USD 65,000,000.00   \n",
       "imdb_score                                                       7.4   \n",
       "actors                Joseph Gordon-Levitt,Hal Holbrook,Bruce McGill   \n",
       "movie_facebook_likes                                           71000   \n",
       "movie_twitter_likes                                             1000   \n",
       "\n",
       "                                                                    41  \\\n",
       "color                                                            Color   \n",
       "director_name                                                      NaN   \n",
       "duration                                                           147   \n",
       "gross                                                  $407,197,282.00   \n",
       "genres                                         Action|Adventure|Sci-Fi   \n",
       "movie_title                                 captain america: civil war   \n",
       "title_year                                                        2016   \n",
       "language                                                       English   \n",
       "country                                                            USA   \n",
       "budget                                              USD 250,000,000.00   \n",
       "imdb_score                                                         8.2   \n",
       "actors                Robert Downey Jr.,Scarlett Johansson,Chris Evans   \n",
       "movie_facebook_likes                                             72000   \n",
       "movie_twitter_likes                                               1000   \n",
       "\n",
       "                                                                 56  \\\n",
       "color                                                         Color   \n",
       "director_name                                                   NaN   \n",
       "duration                                                        143   \n",
       "gross                                                          $nan   \n",
       "genres                                        Drama|Horror|Thriller   \n",
       "movie_title                                              the ridges   \n",
       "title_year                                                     2011   \n",
       "language                                                    English   \n",
       "country                                                         USA   \n",
       "budget                                                USD 17,350.00   \n",
       "imdb_score                                                      3.0   \n",
       "actors                Robbie Barnes,Alana Kaniewski,Brandon Landers   \n",
       "movie_facebook_likes                                             33   \n",
       "movie_twitter_likes                                            1000   \n",
       "\n",
       "                                                                     59  \\\n",
       "color                                                             Color   \n",
       "director_name                                                       NaN   \n",
       "duration                                                            142   \n",
       "gross                                                   $407,999,255.00   \n",
       "genres                                  Adventure|Drama|Sci-Fi|Thriller   \n",
       "movie_title                                            the hunger games   \n",
       "title_year                                                         2012   \n",
       "language                                                        English   \n",
       "country                                                             USA   \n",
       "budget                                                USD 78,000,000.00   \n",
       "imdb_score                                                          7.3   \n",
       "actors                Jennifer Lawrence,Josh Hutcherson,Anthony Reyn...   \n",
       "movie_facebook_likes                                             140000   \n",
       "movie_twitter_likes                                                1000   \n",
       "\n",
       "                                                        71  \\\n",
       "color                                                Color   \n",
       "director_name                                          NaN   \n",
       "duration                                               139   \n",
       "gross                                      $150,832,203.00   \n",
       "genres                            Adventure|Mystery|Sci-Fi   \n",
       "movie_title                                      divergent   \n",
       "title_year                                            1800   \n",
       "language                                           English   \n",
       "country                                                USA   \n",
       "budget                                   USD 85,000,000.00   \n",
       "imdb_score                                             6.7   \n",
       "actors                Kate Winslet,Theo James,Mekhi Phifer   \n",
       "movie_facebook_likes                                 49000   \n",
       "movie_twitter_likes                                   1000   \n",
       "\n",
       "                                                                   75  \\\n",
       "color                                                           Color   \n",
       "director_name                                                     NaN   \n",
       "duration                                                          138   \n",
       "gross                                                 $150,117,807.00   \n",
       "genres                                                    Crime|Drama   \n",
       "movie_title                                           american hustle   \n",
       "title_year                                                       2013   \n",
       "language                                                      English   \n",
       "country                                                           USA   \n",
       "budget                                              USD 40,000,000.00   \n",
       "imdb_score                                                        7.3   \n",
       "actors                Jennifer Lawrence,Christian Bale,Bradley Cooper   \n",
       "movie_facebook_likes                                            63000   \n",
       "movie_twitter_likes                                              1000   \n",
       "\n",
       "                                                               82  \\\n",
       "color                                                       Color   \n",
       "director_name                                                 NaN   \n",
       "duration                                                      137   \n",
       "gross                                              $37,304,950.00   \n",
       "genres                                      Biography|Crime|Drama   \n",
       "movie_title                                              j. edgar   \n",
       "title_year                                                   2011   \n",
       "language                                                  English   \n",
       "country                                                       USA   \n",
       "budget                                          USD 35,000,000.00   \n",
       "imdb_score                                                    6.6   \n",
       "actors                Leonardo DiCaprio,Naomi Watts,Kaitlyn Dever   \n",
       "movie_facebook_likes                                        16000   \n",
       "movie_twitter_likes                                          1000   \n",
       "\n",
       "                                                                     84  \\\n",
       "color                                                             Color   \n",
       "director_name                                                       NaN   \n",
       "duration                                                            137   \n",
       "gross                                                   $281,666,058.00   \n",
       "genres                                                 Adventure|Sci-Fi   \n",
       "movie_title                       the hunger games: mockingjay - part 2   \n",
       "title_year                                                         2015   \n",
       "language                                                        English   \n",
       "country                                                             USA   \n",
       "budget                                               USD 160,000,000.00   \n",
       "imdb_score                                                          6.6   \n",
       "actors                Jennifer Lawrence,Philip Seymour Hoffman,Josh ...   \n",
       "movie_facebook_likes                                              38000   \n",
       "movie_twitter_likes                                                1000   \n",
       "\n",
       "                                                                     91  \n",
       "color                                                             Color  \n",
       "director_name                                                       NaN  \n",
       "duration                                                            136  \n",
       "gross                                                    $52,474,616.00  \n",
       "genres                                                            Drama  \n",
       "movie_title                             wall street: money never sleeps  \n",
       "title_year                                                         2010  \n",
       "language                                                        English  \n",
       "country                                                             USA  \n",
       "budget                                                USD 70,000,000.00  \n",
       "imdb_score                                                          6.3  \n",
       "actors                Frank Langella,Austin Pendleton,John Buffalo M...  \n",
       "movie_facebook_likes                                              13000  \n",
       "movie_twitter_likes                                                1000  "
      ]
     },
     "execution_count": 27,
     "metadata": {},
     "output_type": "execute_result"
    }
   ],
   "source": [
    "df_imdb[df_imdb.director_name.isnull() == True].T"
   ]
  },
  {
   "cell_type": "code",
   "execution_count": 28,
   "metadata": {},
   "outputs": [],
   "source": [
    "df_imdb.loc[df_imdb.director_name.isnull(), 'director_name'] = 'No information available'"
   ]
  },
  {
   "cell_type": "code",
   "execution_count": 29,
   "metadata": {},
   "outputs": [
    {
     "data": {
      "text/plain": [
       "No information available    11\n",
       "Michael Bay                  3\n",
       "Peter Jackson                3\n",
       "Christopher Nolan            3\n",
       "Ridley Scott                 3\n",
       "                            ..\n",
       "Adam McKay                   1\n",
       "Zack Snyder                  1\n",
       "Baz Luhrmann                 1\n",
       "Kenneth Lonergan             1\n",
       "Clint Eastwood               1\n",
       "Name: director_name, Length: 64, dtype: int64"
      ]
     },
     "execution_count": 29,
     "metadata": {},
     "output_type": "execute_result"
    }
   ],
   "source": [
    "df_imdb.director_name.value_counts(dropna=False).T"
   ]
  },
  {
   "cell_type": "code",
   "execution_count": 30,
   "metadata": {},
   "outputs": [],
   "source": [
    "pd.set_option('display.max_rows', None)\n",
    "# Establecemos opciones para el notebook, en este caso que no tenga un numero máximo de filas máximo\n",
    "df_imdb.director_name.value_counts(dropna=False).T\n",
    "pd.reset_option('display.max_rows')"
   ]
  },
  {
   "cell_type": "code",
   "execution_count": 31,
   "metadata": {},
   "outputs": [
    {
     "data": {
      "text/html": [
       "<div>\n",
       "<style scoped>\n",
       "    .dataframe tbody tr th:only-of-type {\n",
       "        vertical-align: middle;\n",
       "    }\n",
       "\n",
       "    .dataframe tbody tr th {\n",
       "        vertical-align: top;\n",
       "    }\n",
       "\n",
       "    .dataframe thead th {\n",
       "        text-align: right;\n",
       "    }\n",
       "</style>\n",
       "<table border=\"1\" class=\"dataframe\">\n",
       "  <thead>\n",
       "    <tr style=\"text-align: right;\">\n",
       "      <th></th>\n",
       "      <th>color</th>\n",
       "      <th>director_name</th>\n",
       "      <th>duration</th>\n",
       "      <th>gross</th>\n",
       "      <th>genres</th>\n",
       "      <th>movie_title</th>\n",
       "      <th>title_year</th>\n",
       "      <th>language</th>\n",
       "      <th>country</th>\n",
       "      <th>budget</th>\n",
       "      <th>imdb_score</th>\n",
       "      <th>actors</th>\n",
       "      <th>movie_facebook_likes</th>\n",
       "      <th>movie_twitter_likes</th>\n",
       "    </tr>\n",
       "  </thead>\n",
       "  <tbody>\n",
       "    <tr>\n",
       "      <th>11</th>\n",
       "      <td>Color</td>\n",
       "      <td>Null</td>\n",
       "      <td>158</td>\n",
       "      <td>$102,515,793.00</td>\n",
       "      <td>Crime|Drama|Mystery|Thriller</td>\n",
       "      <td>the girl with the dragon tattoo</td>\n",
       "      <td>2011</td>\n",
       "      <td>English</td>\n",
       "      <td>USA</td>\n",
       "      <td>USD 90,000,000.00</td>\n",
       "      <td>7.8</td>\n",
       "      <td>Robin Wright,Goran Visnjic,Joely Richardson</td>\n",
       "      <td>54000</td>\n",
       "      <td>1000</td>\n",
       "    </tr>\n",
       "    <tr>\n",
       "      <th>29</th>\n",
       "      <td>Color</td>\n",
       "      <td>Nan</td>\n",
       "      <td>151</td>\n",
       "      <td>$228,430,993.00</td>\n",
       "      <td>Adventure|Drama|Sci-Fi</td>\n",
       "      <td>the martian</td>\n",
       "      <td>2015</td>\n",
       "      <td>English</td>\n",
       "      <td>USA</td>\n",
       "      <td>USD 108,000,000.00</td>\n",
       "      <td>8.1</td>\n",
       "      <td>Matt Damon,Donald Glover,Benedict Wong</td>\n",
       "      <td>153000</td>\n",
       "      <td>1000</td>\n",
       "    </tr>\n",
       "  </tbody>\n",
       "</table>\n",
       "</div>"
      ],
      "text/plain": [
       "    color director_name  duration            gross  \\\n",
       "11  Color          Null       158  $102,515,793.00   \n",
       "29  Color           Nan       151  $228,430,993.00   \n",
       "\n",
       "                          genres                      movie_title  title_year  \\\n",
       "11  Crime|Drama|Mystery|Thriller  the girl with the dragon tattoo        2011   \n",
       "29        Adventure|Drama|Sci-Fi                      the martian        2015   \n",
       "\n",
       "   language country              budget  imdb_score  \\\n",
       "11  English     USA   USD 90,000,000.00         7.8   \n",
       "29  English     USA  USD 108,000,000.00         8.1   \n",
       "\n",
       "                                         actors  movie_facebook_likes  \\\n",
       "11  Robin Wright,Goran Visnjic,Joely Richardson                 54000   \n",
       "29       Matt Damon,Donald Glover,Benedict Wong                153000   \n",
       "\n",
       "    movie_twitter_likes  \n",
       "11                 1000  \n",
       "29                 1000  "
      ]
     },
     "execution_count": 31,
     "metadata": {},
     "output_type": "execute_result"
    }
   ],
   "source": [
    "df_imdb[df_imdb.director_name.str.len() < 5]"
   ]
  },
  {
   "cell_type": "code",
   "execution_count": 32,
   "metadata": {},
   "outputs": [],
   "source": [
    "# Opción 1\n",
    "#df_imdb.loc[df_imdb.director_name.str.lower().str.strip().isin(['null','nan']), 'director_name'] = 'No information available'"
   ]
  },
  {
   "cell_type": "code",
   "execution_count": 33,
   "metadata": {},
   "outputs": [],
   "source": [
    "# Opción 2\n",
    "df_imdb.loc[df_imdb.director_name.str.lower().str.strip().str.match('(null|nan)'), 'director_name'] = 'No information available'"
   ]
  },
  {
   "cell_type": "code",
   "execution_count": 34,
   "metadata": {},
   "outputs": [],
   "source": [
    "# Opción 3\n",
    "#filter_nulls = (\n",
    "#    (df_imdb.director_name.str.lower().str.strip() ==  'null') | \n",
    "#    (df_imdb.director_name.str.lower().str.strip() ==  'nan')\n",
    "#)\n",
    "#\n",
    "#df_imdb.loc[filter_nulls, 'director_name'] = 'No information available'"
   ]
  },
  {
   "cell_type": "code",
   "execution_count": 35,
   "metadata": {},
   "outputs": [
    {
     "data": {
      "text/plain": [
       "No information available    13\n",
       "Peter Jackson                3\n",
       "Christopher Nolan            3\n",
       "Ridley Scott                 3\n",
       "Michael Bay                  3\n",
       "                            ..\n",
       "Adam McKay                   1\n",
       "Zack Snyder                  1\n",
       "Baz Luhrmann                 1\n",
       "Justin Chadwick              1\n",
       "Clint Eastwood               1\n",
       "Name: director_name, Length: 62, dtype: int64"
      ]
     },
     "execution_count": 35,
     "metadata": {},
     "output_type": "execute_result"
    }
   ],
   "source": [
    "df_imdb.director_name.value_counts(dropna=False)"
   ]
  },
  {
   "cell_type": "code",
   "execution_count": 36,
   "metadata": {},
   "outputs": [],
   "source": [
    "assert df_imdb.director_name.isna().any() == False"
   ]
  },
  {
   "cell_type": "markdown",
   "metadata": {},
   "source": [
    "### Columna `gross`"
   ]
  },
  {
   "cell_type": "code",
   "execution_count": 37,
   "metadata": {},
   "outputs": [
    {
     "data": {
      "text/plain": [
       "$nan               6\n",
       "$148,775,460.00    2\n",
       "$115,603,980.00    2\n",
       "$116,866,727.00    1\n",
       "$80,574,010.00     1\n",
       "                  ..\n",
       "$3,958,500.00      1\n",
       "$182,204,440.00    1\n",
       "$65,007,045.00     1\n",
       "$228,430,993.00    1\n",
       "$47,034,272.00     1\n",
       "Name: gross, Length: 87, dtype: int64"
      ]
     },
     "execution_count": 37,
     "metadata": {},
     "output_type": "execute_result"
    }
   ],
   "source": [
    "df_imdb.gross.value_counts(dropna=True)"
   ]
  },
  {
   "cell_type": "code",
   "execution_count": 38,
   "metadata": {},
   "outputs": [],
   "source": [
    "df_imdb.loc[df_imdb.gross =='$nan', 'gross'] = np.nan"
   ]
  },
  {
   "cell_type": "code",
   "execution_count": 39,
   "metadata": {},
   "outputs": [
    {
     "data": {
      "text/plain": [
       "NaN                6\n",
       "$148,775,460.00    2\n",
       "$115,603,980.00    2\n",
       "$116,866,727.00    1\n",
       "$80,574,010.00     1\n",
       "                  ..\n",
       "$3,958,500.00      1\n",
       "$182,204,440.00    1\n",
       "$65,007,045.00     1\n",
       "$228,430,993.00    1\n",
       "$47,034,272.00     1\n",
       "Name: gross, Length: 87, dtype: int64"
      ]
     },
     "execution_count": 39,
     "metadata": {},
     "output_type": "execute_result"
    }
   ],
   "source": [
    "# Quitamos los nulos antes de formatear los valores\n",
    "df_imdb.gross.value_counts(dropna=False)"
   ]
  },
  {
   "cell_type": "code",
   "execution_count": 40,
   "metadata": {},
   "outputs": [
    {
     "data": {
      "text/plain": [
       "array(['$', nan], dtype=object)"
      ]
     },
     "execution_count": 40,
     "metadata": {},
     "output_type": "execute_result"
    }
   ],
   "source": [
    "df_imdb.gross.str[0:1].unique()"
   ]
  },
  {
   "cell_type": "code",
   "execution_count": 41,
   "metadata": {},
   "outputs": [],
   "source": [
    "pd.set_option('display.float_format','{:.2f}'.format)\n",
    "# Cambiamos el formato de los objetos float para que muestre los miles separados por comas y 0 decimales"
   ]
  },
  {
   "cell_type": "code",
   "execution_count": 42,
   "metadata": {},
   "outputs": [],
   "source": [
    "# Vamos a transformar el tipo de dato a int\n",
    "# Primero quitaremos el simbolo $, luego la coma,\n",
    "df_imdb['gross'] = pd.to_numeric(df_imdb.gross.str.replace('$','', regex=False).str.replace(',','', regex=False))"
   ]
  },
  {
   "cell_type": "code",
   "execution_count": 43,
   "metadata": {},
   "outputs": [
    {
     "data": {
      "text/plain": [
       "count                88.00\n",
       "mean      1136505020628.12\n",
       "std      10660020573755.25\n",
       "min              -92939.00\n",
       "25%            41589099.25\n",
       "50%           106160295.00\n",
       "75%           229801991.25\n",
       "max     100000000000000.00\n",
       "Name: gross, dtype: float64"
      ]
     },
     "execution_count": 43,
     "metadata": {},
     "output_type": "execute_result"
    }
   ],
   "source": [
    "df_imdb.gross.describe()\n",
    "\n",
    "# Buscamos valores atipicos"
   ]
  },
  {
   "cell_type": "code",
   "execution_count": 44,
   "metadata": {},
   "outputs": [
    {
     "data": {
      "text/plain": [
       "<AxesSubplot:>"
      ]
     },
     "execution_count": 44,
     "metadata": {},
     "output_type": "execute_result"
    },
    {
     "data": {
      "image/png": "[encoded data removed]",
      "text/plain": [
       "<Figure size 432x288 with 1 Axes>"
      ]
     },
     "metadata": {
      "needs_background": "light"
     },
     "output_type": "display_data"
    }
   ],
   "source": [
    "df_imdb.gross.hist()"
   ]
  },
  {
   "cell_type": "code",
   "execution_count": 45,
   "metadata": {},
   "outputs": [],
   "source": [
    "# Buscamos los valores atípicos y los ponemos como nulos\n",
    "df_imdb.loc[ (df_imdb.gross > 1e9) | (df_imdb.gross < 0), 'gross'] = np.nan"
   ]
  },
  {
   "cell_type": "code",
   "execution_count": 46,
   "metadata": {},
   "outputs": [
    {
     "data": {
      "text/plain": [
       "count          85.00\n",
       "mean    146375408.78\n",
       "std     133101672.08\n",
       "min         41229.00\n",
       "25%      47034272.00\n",
       "50%     107100855.00\n",
       "75%     228430993.00\n",
       "max     623279547.00\n",
       "Name: gross, dtype: float64"
      ]
     },
     "execution_count": 46,
     "metadata": {},
     "output_type": "execute_result"
    }
   ],
   "source": [
    "df_imdb.gross.describe()"
   ]
  },
  {
   "cell_type": "code",
   "execution_count": 47,
   "metadata": {},
   "outputs": [
    {
     "data": {
      "text/plain": [
       "<AxesSubplot:>"
      ]
     },
     "execution_count": 47,
     "metadata": {},
     "output_type": "execute_result"
    },
    {
     "data": {
      "image/png": "[encoded data removed]",
      "text/plain": [
       "<Figure size 432x432 with 1 Axes>"
      ]
     },
     "metadata": {
      "needs_background": "light"
     },
     "output_type": "display_data"
    }
   ],
   "source": [
    "df_imdb.gross.hist(figsize=(6, 6), bins=20)"
   ]
  },
  {
   "cell_type": "code",
   "execution_count": 48,
   "metadata": {},
   "outputs": [],
   "source": [
    "# Reemplazamos los nulos por la media\n",
    "df_imdb.loc[df_imdb.gross.isnull(), 'gross'] = df_imdb.gross.mean()\n"
   ]
  },
  {
   "cell_type": "code",
   "execution_count": 49,
   "metadata": {},
   "outputs": [
    {
     "data": {
      "text/plain": [
       "False"
      ]
     },
     "execution_count": 49,
     "metadata": {},
     "output_type": "execute_result"
    }
   ],
   "source": [
    "# Comprobamos si hay algun valor nulo\n",
    "df_imdb.gross.isnull().any()"
   ]
  },
  {
   "cell_type": "code",
   "execution_count": 50,
   "metadata": {},
   "outputs": [
    {
     "data": {
      "text/plain": [
       "0"
      ]
     },
     "execution_count": 50,
     "metadata": {},
     "output_type": "execute_result"
    }
   ],
   "source": [
    "# Contamos los valores nulos\n",
    "df_imdb.gross.isnull().sum()"
   ]
  },
  {
   "cell_type": "markdown",
   "metadata": {},
   "source": [
    "### Columna `genres`\n"
   ]
  },
  {
   "cell_type": "code",
   "execution_count": 51,
   "metadata": {},
   "outputs": [
    {
     "data": {
      "text/plain": [
       "0             Biography|Comedy|Crime|Drama\n",
       "1                  Action|Adventure|Sci-Fi\n",
       "2     Crime|Drama|Mystery|Thriller|Western\n",
       "3                                    Drama\n",
       "4                        Adventure|Fantasy\n",
       "                      ...                 \n",
       "94                 Biography|Drama|History\n",
       "95                            Comedy|Drama\n",
       "96                Biography|Drama|Thriller\n",
       "97                        Action|Drama|War\n",
       "98           Biography|Drama|Music|Musical\n",
       "Name: genres, Length: 94, dtype: object"
      ]
     },
     "execution_count": 51,
     "metadata": {},
     "output_type": "execute_result"
    }
   ],
   "source": [
    "# Primera visualizacion\n",
    "df_imdb.genres"
   ]
  },
  {
   "cell_type": "code",
   "execution_count": 52,
   "metadata": {},
   "outputs": [
    {
     "data": {
      "text/plain": [
       "0      Biography\n",
       "1         Comedy\n",
       "2          Crime\n",
       "3          Drama\n",
       "4         Action\n",
       "         ...    \n",
       "273          War\n",
       "274    Biography\n",
       "275        Drama\n",
       "276        Music\n",
       "277      Musical\n",
       "Name: genres, Length: 278, dtype: object"
      ]
     },
     "execution_count": 52,
     "metadata": {},
     "output_type": "execute_result"
    }
   ],
   "source": [
    "df_imdb.genres.str.split('|').explode('genres')\n",
    "#  Generaría una fila por cada opcion de genres"
   ]
  },
  {
   "cell_type": "code",
   "execution_count": 53,
   "metadata": {},
   "outputs": [
    {
     "data": {
      "text/plain": [
       "5.0"
      ]
     },
     "execution_count": 53,
     "metadata": {},
     "output_type": "execute_result"
    }
   ],
   "source": [
    "# Contamos los diferentes valores de generos\n",
    "#  df_imdb.genres.str.split('|').explode('genres').value_counts()\n",
    "# \n",
    "# Vemos el número máximo de generos que tiene una pelicula en nuestro dataset\n",
    "df_imdb.genres.str.split('|').str.len().max()"
   ]
  },
  {
   "cell_type": "code",
   "execution_count": 54,
   "metadata": {},
   "outputs": [],
   "source": [
    "generos_cols = df_imdb.genres.str.split('|', n=5, expand=True)\n",
    "\n",
    "df_imdb['genero_1'] = generos_cols[0]\n",
    "df_imdb['genero_2'] = generos_cols[1]\n",
    "df_imdb['genero_3'] = generos_cols[2]\n",
    "df_imdb['genero_4'] = generos_cols[3]\n",
    "df_imdb['genero_5'] = generos_cols[4]"
   ]
  },
  {
   "cell_type": "code",
   "execution_count": 55,
   "metadata": {},
   "outputs": [],
   "source": [
    "# del df_imdb['genres']\n",
    "df_imdb = df_imdb.drop('genres', axis=1)"
   ]
  },
  {
   "cell_type": "code",
   "execution_count": 56,
   "metadata": {},
   "outputs": [
    {
     "data": {
      "text/html": [
       "<div>\n",
       "<style scoped>\n",
       "    .dataframe tbody tr th:only-of-type {\n",
       "        vertical-align: middle;\n",
       "    }\n",
       "\n",
       "    .dataframe tbody tr th {\n",
       "        vertical-align: top;\n",
       "    }\n",
       "\n",
       "    .dataframe thead th {\n",
       "        text-align: right;\n",
       "    }\n",
       "</style>\n",
       "<table border=\"1\" class=\"dataframe\">\n",
       "  <thead>\n",
       "    <tr style=\"text-align: right;\">\n",
       "      <th></th>\n",
       "      <th>color</th>\n",
       "      <th>director_name</th>\n",
       "      <th>duration</th>\n",
       "      <th>gross</th>\n",
       "      <th>movie_title</th>\n",
       "      <th>title_year</th>\n",
       "      <th>language</th>\n",
       "      <th>country</th>\n",
       "      <th>budget</th>\n",
       "      <th>imdb_score</th>\n",
       "      <th>actors</th>\n",
       "      <th>movie_facebook_likes</th>\n",
       "      <th>movie_twitter_likes</th>\n",
       "      <th>genero_1</th>\n",
       "      <th>genero_2</th>\n",
       "      <th>genero_3</th>\n",
       "      <th>genero_4</th>\n",
       "      <th>genero_5</th>\n",
       "    </tr>\n",
       "  </thead>\n",
       "  <tbody>\n",
       "    <tr>\n",
       "      <th>88</th>\n",
       "      <td>Color</td>\n",
       "      <td>Anthony Russo</td>\n",
       "      <td>136</td>\n",
       "      <td>259746958.00</td>\n",
       "      <td>captain america: the winter soldier</td>\n",
       "      <td>2014</td>\n",
       "      <td>English</td>\n",
       "      <td>usa</td>\n",
       "      <td>USD 170,000,000.00</td>\n",
       "      <td>7.80</td>\n",
       "      <td>Scarlett Johansson,Chris Evans,Hayley Atwell</td>\n",
       "      <td>55000</td>\n",
       "      <td>1000</td>\n",
       "      <td>Action</td>\n",
       "      <td>Adventure</td>\n",
       "      <td>Sci-Fi</td>\n",
       "      <td>None</td>\n",
       "      <td>None</td>\n",
       "    </tr>\n",
       "  </tbody>\n",
       "</table>\n",
       "</div>"
      ],
      "text/plain": [
       "    color  director_name  duration        gross  \\\n",
       "88  Color  Anthony Russo       136 259746958.00   \n",
       "\n",
       "                            movie_title  title_year language country  \\\n",
       "88  captain america: the winter soldier        2014  English     usa   \n",
       "\n",
       "                budget  imdb_score  \\\n",
       "88  USD 170,000,000.00        7.80   \n",
       "\n",
       "                                          actors  movie_facebook_likes  \\\n",
       "88  Scarlett Johansson,Chris Evans,Hayley Atwell                 55000   \n",
       "\n",
       "    movie_twitter_likes genero_1   genero_2 genero_3 genero_4 genero_5  \n",
       "88                 1000   Action  Adventure   Sci-Fi     None     None  "
      ]
     },
     "execution_count": 56,
     "metadata": {},
     "output_type": "execute_result"
    }
   ],
   "source": [
    "df_imdb.sample()"
   ]
  },
  {
   "cell_type": "markdown",
   "metadata": {},
   "source": [
    "### Columna `budget`"
   ]
  },
  {
   "cell_type": "code",
   "execution_count": 57,
   "metadata": {},
   "outputs": [
    {
     "data": {
      "text/plain": [
       "94"
      ]
     },
     "execution_count": 57,
     "metadata": {},
     "output_type": "execute_result"
    }
   ],
   "source": [
    "# Comprobamos que todos los valores empiezan con USD\n",
    "df_imdb.budget[df_imdb.budget.str[0:3] == 'USD'].count()"
   ]
  },
  {
   "cell_type": "code",
   "execution_count": 58,
   "metadata": {},
   "outputs": [],
   "source": [
    "# Corregimos el string quitando el USD y las comas\n",
    "df_imdb['budget'] = (\n",
    "    df_imdb.budget\n",
    "        .str.replace('USD','', regex=False)\n",
    "        .str.replace(',', '', regex=False)\n",
    "        .str.strip()\n",
    ")"
   ]
  },
  {
   "cell_type": "code",
   "execution_count": 59,
   "metadata": {},
   "outputs": [
    {
     "data": {
      "text/plain": [
       "250000000.00    6\n",
       "100000000.00    5\n",
       "50000000.00     5\n",
       "200000000.00    5\n",
       "40000000.00     5\n",
       "nan             4\n",
       "25000000.00     4\n",
       "61000000.00     3\n",
       "65000000.00     3\n",
       "125000000.00    2\n",
       "35000000.00     2\n",
       "32000000.00     2\n",
       "160000000.00    2\n",
       "20000000.00     2\n",
       "225000000.00    2\n",
       "30000000.00     1\n",
       "17350.00        1\n",
       "78000000.00     1\n",
       "14000000.00     1\n",
       "45000000.00     1\n",
       "60000000.00     1\n",
       "190000000.00    1\n",
       "15000000.00     1\n",
       "85000000.00     1\n",
       "31000000.00     1\n",
       "178000000.00    1\n",
       "44000000.00     1\n",
       "80000000.00     1\n",
       "120000000.00    1\n",
       "170000000.00    1\n",
       "75000000.00     1\n",
       "70000000.00     1\n",
       "1400000.00      1\n",
       "55000000.00     1\n",
       "105000000.00    1\n",
       "4000000.00      1\n",
       "210000000.00    1\n",
       "22000000.00     1\n",
       "28000000.00     1\n",
       "165000000.00    1\n",
       "135000000.00    1\n",
       "195000000.00    1\n",
       "46000000.00     1\n",
       "230000000.00    1\n",
       "108000000.00    1\n",
       "140000000.00    1\n",
       "215000000.00    1\n",
       "25500000.00     1\n",
       "3500000.00      1\n",
       "90000000.00     1\n",
       "102000000.00    1\n",
       "245000000.00    1\n",
       "220000000.00    1\n",
       "130000000.00    1\n",
       "66000000.00     1\n",
       "180000000.00    1\n",
       "68000000.00     1\n",
       "Name: budget, dtype: int64"
      ]
     },
     "execution_count": 59,
     "metadata": {},
     "output_type": "execute_result"
    }
   ],
   "source": [
    "df_imdb.budget.value_counts()"
   ]
  },
  {
   "cell_type": "code",
   "execution_count": 60,
   "metadata": {},
   "outputs": [],
   "source": [
    "# Buscamos los nulos y le asignamos un np.nan\n",
    "df_imdb.loc[df_imdb.budget.str.len() < 5, 'budget'] = np.nan"
   ]
  },
  {
   "cell_type": "code",
   "execution_count": 61,
   "metadata": {},
   "outputs": [],
   "source": [
    "# Transformamos a numeros\n",
    "df_imdb['budget'] = pd.to_numeric(df_imdb.budget)"
   ]
  },
  {
   "cell_type": "code",
   "execution_count": 62,
   "metadata": {},
   "outputs": [
    {
     "data": {
      "text/plain": [
       "count          90.00\n",
       "mean    102182415.00\n",
       "std      77428642.48\n",
       "min         17350.00\n",
       "25%      40000000.00\n",
       "50%      72500000.00\n",
       "75%     168750000.00\n",
       "max     250000000.00\n",
       "Name: budget, dtype: float64"
      ]
     },
     "execution_count": 62,
     "metadata": {},
     "output_type": "execute_result"
    }
   ],
   "source": [
    "# Revisamos los datos antes de modificarlos\n",
    "df_imdb.budget.describe()"
   ]
  },
  {
   "cell_type": "code",
   "execution_count": 63,
   "metadata": {},
   "outputs": [],
   "source": [
    "# Asignamos la media a los nulos\n",
    "df_imdb.loc[ df_imdb.budget.isnull(), 'budget'] = df_imdb.budget.mean()"
   ]
  },
  {
   "cell_type": "code",
   "execution_count": 64,
   "metadata": {},
   "outputs": [
    {
     "data": {
      "text/plain": [
       "<AxesSubplot:xlabel='budget', ylabel='gross'>"
      ]
     },
     "execution_count": 64,
     "metadata": {},
     "output_type": "execute_result"
    },
    {
     "data": {
      "image/png": "[encoded data removed]",
      "text/plain": [
       "<Figure size 432x432 with 1 Axes>"
      ]
     },
     "metadata": {
      "needs_background": "light"
     },
     "output_type": "display_data"
    }
   ],
   "source": [
    "df_imdb[['gross','budget']].plot.scatter(x='budget', y='gross', figsize=(6,6))"
   ]
  },
  {
   "cell_type": "code",
   "execution_count": 65,
   "metadata": {},
   "outputs": [
    {
     "data": {
      "text/html": [
       "<div>\n",
       "<style scoped>\n",
       "    .dataframe tbody tr th:only-of-type {\n",
       "        vertical-align: middle;\n",
       "    }\n",
       "\n",
       "    .dataframe tbody tr th {\n",
       "        vertical-align: top;\n",
       "    }\n",
       "\n",
       "    .dataframe thead th {\n",
       "        text-align: right;\n",
       "    }\n",
       "</style>\n",
       "<table border=\"1\" class=\"dataframe\">\n",
       "  <thead>\n",
       "    <tr style=\"text-align: right;\">\n",
       "      <th></th>\n",
       "      <th>gross</th>\n",
       "      <th>budget</th>\n",
       "    </tr>\n",
       "  </thead>\n",
       "  <tbody>\n",
       "    <tr>\n",
       "      <th>gross</th>\n",
       "      <td>1.00</td>\n",
       "      <td>0.72</td>\n",
       "    </tr>\n",
       "    <tr>\n",
       "      <th>budget</th>\n",
       "      <td>0.72</td>\n",
       "      <td>1.00</td>\n",
       "    </tr>\n",
       "  </tbody>\n",
       "</table>\n",
       "</div>"
      ],
      "text/plain": [
       "        gross  budget\n",
       "gross    1.00    0.72\n",
       "budget   0.72    1.00"
      ]
     },
     "execution_count": 65,
     "metadata": {},
     "output_type": "execute_result"
    }
   ],
   "source": [
    "df_imdb[['gross', 'budget']].corr()"
   ]
  },
  {
   "cell_type": "markdown",
   "metadata": {},
   "source": [
    "### Columna `duration`"
   ]
  },
  {
   "cell_type": "code",
   "execution_count": 66,
   "metadata": {},
   "outputs": [
    {
     "data": {
      "text/plain": [
       "count    94.00\n",
       "mean    155.79\n",
       "std      74.67\n",
       "min     -50.00\n",
       "25%     138.00\n",
       "50%     143.50\n",
       "75%     155.50\n",
       "max     650.00\n",
       "Name: duration, dtype: float64"
      ]
     },
     "execution_count": 66,
     "metadata": {},
     "output_type": "execute_result"
    }
   ],
   "source": [
    "# Vistazo general de la serie duration\n",
    "df_imdb.duration.describe()"
   ]
  },
  {
   "cell_type": "code",
   "execution_count": 67,
   "metadata": {},
   "outputs": [
    {
     "data": {
      "text/plain": [
       "<AxesSubplot:>"
      ]
     },
     "execution_count": 67,
     "metadata": {},
     "output_type": "execute_result"
    },
    {
     "data": {
      "image/png": "[encoded data removed]",
      "text/plain": [
       "<Figure size 432x288 with 1 Axes>"
      ]
     },
     "metadata": {
      "needs_background": "light"
     },
     "output_type": "display_data"
    }
   ],
   "source": [
    "# Vemos valores negativos y valores muy altos\n",
    "df_imdb.duration.hist(bins=20)"
   ]
  },
  {
   "cell_type": "code",
   "execution_count": 68,
   "metadata": {},
   "outputs": [],
   "source": [
    "# Buscamos películas con duración menor que 0 y mayor que 300\n",
    "filtro_duration = (df_imdb.duration < 50) | (df_imdb.duration > 400)\n",
    "\n",
    "# Asignamos nulos a los valores atípicos\n",
    "df_imdb.loc[ filtro_duration, 'duration'] = np.nan"
   ]
  },
  {
   "cell_type": "code",
   "execution_count": 69,
   "metadata": {},
   "outputs": [],
   "source": [
    "# Asignamos la mediana a los valores anteriormente asignados a nulos \n",
    "df_imdb.loc[ df_imdb.duration.isna(), 'duration'] = df_imdb.duration.median()"
   ]
  },
  {
   "cell_type": "code",
   "execution_count": 70,
   "metadata": {},
   "outputs": [
    {
     "data": {
      "text/plain": [
       "<AxesSubplot:>"
      ]
     },
     "execution_count": 70,
     "metadata": {},
     "output_type": "execute_result"
    },
    {
     "data": {
      "image/png": "[encoded data removed]",
      "text/plain": [
       "<Figure size 432x288 with 1 Axes>"
      ]
     },
     "metadata": {
      "needs_background": "light"
     },
     "output_type": "display_data"
    }
   ],
   "source": [
    "# Mostramos los datos, sigue habiendo un valor atipico pero no es antinatural\n",
    "df_imdb.duration.hist(bins=20)"
   ]
  },
  {
   "cell_type": "code",
   "execution_count": 71,
   "metadata": {},
   "outputs": [],
   "source": [
    "df_imdb['gross_budget_ratio'] = df_imdb.gross / df_imdb.budget"
   ]
  },
  {
   "cell_type": "code",
   "execution_count": 72,
   "metadata": {},
   "outputs": [],
   "source": [
    "# Uso de APPLY\n",
    "def identify_films(gross, rating):\n",
    "    if gross > 150_000_000 and rating < 6.5:\n",
    "        return 'High gross, low rating'\n",
    "    if gross < 80_000_000 and rating > 8:\n",
    "        return 'Low gross, high rating'\n",
    "    return 'Normal'"
   ]
  },
  {
   "cell_type": "code",
   "execution_count": 73,
   "metadata": {},
   "outputs": [
    {
     "data": {
      "text/plain": [
       "'High gross, low rating'"
      ]
     },
     "execution_count": 73,
     "metadata": {},
     "output_type": "execute_result"
    }
   ],
   "source": [
    "# Prueba de la funcion\n",
    "identify_films(180_000_000, 4)"
   ]
  },
  {
   "cell_type": "code",
   "execution_count": 74,
   "metadata": {},
   "outputs": [],
   "source": [
    "df_imdb['type_film'] = df_imdb.apply(lambda row: identify_films(row['gross'], row['imdb_score']), axis=1)"
   ]
  },
  {
   "cell_type": "code",
   "execution_count": 75,
   "metadata": {},
   "outputs": [
    {
     "data": {
      "text/plain": [
       "Normal                    89\n",
       "Low gross, high rating     3\n",
       "High gross, low rating     2\n",
       "Name: type_film, dtype: int64"
      ]
     },
     "execution_count": 75,
     "metadata": {},
     "output_type": "execute_result"
    }
   ],
   "source": [
    "df_imdb.type_film.value_counts()"
   ]
  },
  {
   "cell_type": "markdown",
   "metadata": {},
   "source": [
    "## Guardar dataset"
   ]
  },
  {
   "cell_type": "code",
   "execution_count": 76,
   "metadata": {},
   "outputs": [],
   "source": [
    "df_imdb.to_csv('data/imdb_final.csv', sep=';', index=False)"
   ]
  },
  {
   "cell_type": "markdown",
   "metadata": {},
   "source": [
    "### Columna `movie_title`"
   ]
  },
  {
   "cell_type": "code",
   "execution_count": 77,
   "metadata": {},
   "outputs": [
    {
     "data": {
      "text/plain": [
       "0                 the wolf of wall street\n",
       "1                              iron man 3\n",
       "2                       the hateful eight\n",
       "3                                margaret\n",
       "4     the hobbit: the desolation of smaug\n",
       "                     ...                 \n",
       "94                       12 years a slave\n",
       "95                       barney's version\n",
       "96                       captain phillips\n",
       "97                                   fury\n",
       "98                            jersey boys\n",
       "Name: movie_title, Length: 94, dtype: object"
      ]
     },
     "execution_count": 77,
     "metadata": {},
     "output_type": "execute_result"
    }
   ],
   "source": [
    "df_imdb.movie_title"
   ]
  },
  {
   "cell_type": "code",
   "execution_count": 78,
   "metadata": {},
   "outputs": [
    {
     "data": {
      "text/plain": [
       "False    94\n",
       "Name: movie_title, dtype: int64"
      ]
     },
     "execution_count": 78,
     "metadata": {},
     "output_type": "execute_result"
    }
   ],
   "source": [
    "# Buscamos valores nulos\n",
    "df_imdb.movie_title.isnull().value_counts()"
   ]
  },
  {
   "cell_type": "code",
   "execution_count": 79,
   "metadata": {},
   "outputs": [
    {
     "data": {
      "text/plain": [
       "False    94\n",
       "Name: movie_title, dtype: int64"
      ]
     },
     "execution_count": 79,
     "metadata": {},
     "output_type": "execute_result"
    }
   ],
   "source": [
    "# Comprobamos que no hay nulos en formato string\n",
    "#df_df_imdb.movie_title.str.len() < 4\n",
    "df_imdb.movie_title.str.lower().str.strip().isin(['null','nan']).value_counts()"
   ]
  },
  {
   "cell_type": "code",
   "execution_count": 80,
   "metadata": {},
   "outputs": [
    {
     "data": {
      "text/html": [
       "<div>\n",
       "<style scoped>\n",
       "    .dataframe tbody tr th:only-of-type {\n",
       "        vertical-align: middle;\n",
       "    }\n",
       "\n",
       "    .dataframe tbody tr th {\n",
       "        vertical-align: top;\n",
       "    }\n",
       "\n",
       "    .dataframe thead th {\n",
       "        text-align: right;\n",
       "    }\n",
       "</style>\n",
       "<table border=\"1\" class=\"dataframe\">\n",
       "  <thead>\n",
       "    <tr style=\"text-align: right;\">\n",
       "      <th></th>\n",
       "      <th>20</th>\n",
       "      <th>21</th>\n",
       "      <th>61</th>\n",
       "      <th>62</th>\n",
       "      <th>85</th>\n",
       "      <th>86</th>\n",
       "    </tr>\n",
       "  </thead>\n",
       "  <tbody>\n",
       "    <tr>\n",
       "      <th>color</th>\n",
       "      <td>Color</td>\n",
       "      <td>Color</td>\n",
       "      <td>Color</td>\n",
       "      <td>Color</td>\n",
       "      <td>Color</td>\n",
       "      <td>Color</td>\n",
       "    </tr>\n",
       "    <tr>\n",
       "      <th>director_name</th>\n",
       "      <td>Tom Hooper</td>\n",
       "      <td>Tom Hooper</td>\n",
       "      <td>Timur Bekmambetov</td>\n",
       "      <td>Timur Bekmambetov</td>\n",
       "      <td>Angelina Jolie Pitt</td>\n",
       "      <td>Angelina Jolie Pitt</td>\n",
       "    </tr>\n",
       "    <tr>\n",
       "      <th>duration</th>\n",
       "      <td>158.00</td>\n",
       "      <td>158.00</td>\n",
       "      <td>141.00</td>\n",
       "      <td>141.00</td>\n",
       "      <td>137.00</td>\n",
       "      <td>137.00</td>\n",
       "    </tr>\n",
       "    <tr>\n",
       "      <th>gross</th>\n",
       "      <td>148775460.00</td>\n",
       "      <td>148775460.00</td>\n",
       "      <td>146375408.78</td>\n",
       "      <td>146375408.78</td>\n",
       "      <td>115603980.00</td>\n",
       "      <td>115603980.00</td>\n",
       "    </tr>\n",
       "    <tr>\n",
       "      <th>movie_title</th>\n",
       "      <td>les misérables</td>\n",
       "      <td>les misérables</td>\n",
       "      <td>ben-hur</td>\n",
       "      <td>ben-hur</td>\n",
       "      <td>unbroken</td>\n",
       "      <td>unbroken</td>\n",
       "    </tr>\n",
       "    <tr>\n",
       "      <th>title_year</th>\n",
       "      <td>-1000</td>\n",
       "      <td>2012</td>\n",
       "      <td>2016</td>\n",
       "      <td>2016</td>\n",
       "      <td>2014</td>\n",
       "      <td>2014</td>\n",
       "    </tr>\n",
       "    <tr>\n",
       "      <th>language</th>\n",
       "      <td>English</td>\n",
       "      <td>English</td>\n",
       "      <td>English</td>\n",
       "      <td>English</td>\n",
       "      <td>English</td>\n",
       "      <td>English</td>\n",
       "    </tr>\n",
       "    <tr>\n",
       "      <th>country</th>\n",
       "      <td>USA</td>\n",
       "      <td>USA</td>\n",
       "      <td>USA</td>\n",
       "      <td>USA</td>\n",
       "      <td>USA</td>\n",
       "      <td>USA</td>\n",
       "    </tr>\n",
       "    <tr>\n",
       "      <th>budget</th>\n",
       "      <td>61000000.00</td>\n",
       "      <td>61000000.00</td>\n",
       "      <td>100000000.00</td>\n",
       "      <td>100000000.00</td>\n",
       "      <td>65000000.00</td>\n",
       "      <td>65000000.00</td>\n",
       "    </tr>\n",
       "    <tr>\n",
       "      <th>imdb_score</th>\n",
       "      <td>7.60</td>\n",
       "      <td>7.60</td>\n",
       "      <td>6.10</td>\n",
       "      <td>6.00</td>\n",
       "      <td>-1.20</td>\n",
       "      <td>7.20</td>\n",
       "    </tr>\n",
       "    <tr>\n",
       "      <th>actors</th>\n",
       "      <td>Hugh Jackman,Eddie Redmayne,Anne Hathaway</td>\n",
       "      <td>Hugh Jackman,Eddie Redmayne,Anne Hathaway</td>\n",
       "      <td>Morgan Freeman,Ayelet Zurer,Moises Arias</td>\n",
       "      <td>Morgan Freeman,Ayelet Zurer,Moises Arias</td>\n",
       "      <td>Finn Wittrock,Jack O'Connell,Alex Russell</td>\n",
       "      <td>Finn Wittrock,Jack O'Connell,Alex Russell</td>\n",
       "    </tr>\n",
       "    <tr>\n",
       "      <th>movie_facebook_likes</th>\n",
       "      <td>144000</td>\n",
       "      <td>144000</td>\n",
       "      <td>0</td>\n",
       "      <td>0</td>\n",
       "      <td>35000</td>\n",
       "      <td>35000</td>\n",
       "    </tr>\n",
       "    <tr>\n",
       "      <th>movie_twitter_likes</th>\n",
       "      <td>1000</td>\n",
       "      <td>1000</td>\n",
       "      <td>1000</td>\n",
       "      <td>1000</td>\n",
       "      <td>1000</td>\n",
       "      <td>1000</td>\n",
       "    </tr>\n",
       "    <tr>\n",
       "      <th>genero_1</th>\n",
       "      <td>Drama</td>\n",
       "      <td>Drama</td>\n",
       "      <td>Adventure</td>\n",
       "      <td>Adventure</td>\n",
       "      <td>Biography</td>\n",
       "      <td>Biography</td>\n",
       "    </tr>\n",
       "    <tr>\n",
       "      <th>genero_2</th>\n",
       "      <td>Musical</td>\n",
       "      <td>Musical</td>\n",
       "      <td>Drama</td>\n",
       "      <td>Drama</td>\n",
       "      <td>Drama</td>\n",
       "      <td>Drama</td>\n",
       "    </tr>\n",
       "    <tr>\n",
       "      <th>genero_3</th>\n",
       "      <td>Romance</td>\n",
       "      <td>Romance</td>\n",
       "      <td>History</td>\n",
       "      <td>History</td>\n",
       "      <td>Sport</td>\n",
       "      <td>Sport</td>\n",
       "    </tr>\n",
       "    <tr>\n",
       "      <th>genero_4</th>\n",
       "      <td>None</td>\n",
       "      <td>None</td>\n",
       "      <td>None</td>\n",
       "      <td>None</td>\n",
       "      <td>War</td>\n",
       "      <td>War</td>\n",
       "    </tr>\n",
       "    <tr>\n",
       "      <th>genero_5</th>\n",
       "      <td>None</td>\n",
       "      <td>None</td>\n",
       "      <td>None</td>\n",
       "      <td>None</td>\n",
       "      <td>None</td>\n",
       "      <td>None</td>\n",
       "    </tr>\n",
       "    <tr>\n",
       "      <th>gross_budget_ratio</th>\n",
       "      <td>2.44</td>\n",
       "      <td>2.44</td>\n",
       "      <td>1.46</td>\n",
       "      <td>1.46</td>\n",
       "      <td>1.78</td>\n",
       "      <td>1.78</td>\n",
       "    </tr>\n",
       "    <tr>\n",
       "      <th>type_film</th>\n",
       "      <td>Normal</td>\n",
       "      <td>Normal</td>\n",
       "      <td>Normal</td>\n",
       "      <td>Normal</td>\n",
       "      <td>Normal</td>\n",
       "      <td>Normal</td>\n",
       "    </tr>\n",
       "  </tbody>\n",
       "</table>\n",
       "</div>"
      ],
      "text/plain": [
       "                                                             20  \\\n",
       "color                                                     Color   \n",
       "director_name                                        Tom Hooper   \n",
       "duration                                                 158.00   \n",
       "gross                                              148775460.00   \n",
       "movie_title                                      les misérables   \n",
       "title_year                                                -1000   \n",
       "language                                                English   \n",
       "country                                                     USA   \n",
       "budget                                              61000000.00   \n",
       "imdb_score                                                 7.60   \n",
       "actors                Hugh Jackman,Eddie Redmayne,Anne Hathaway   \n",
       "movie_facebook_likes                                     144000   \n",
       "movie_twitter_likes                                        1000   \n",
       "genero_1                                                  Drama   \n",
       "genero_2                                                Musical   \n",
       "genero_3                                                Romance   \n",
       "genero_4                                                   None   \n",
       "genero_5                                                   None   \n",
       "gross_budget_ratio                                         2.44   \n",
       "type_film                                                Normal   \n",
       "\n",
       "                                                             21  \\\n",
       "color                                                     Color   \n",
       "director_name                                        Tom Hooper   \n",
       "duration                                                 158.00   \n",
       "gross                                              148775460.00   \n",
       "movie_title                                      les misérables   \n",
       "title_year                                                 2012   \n",
       "language                                                English   \n",
       "country                                                     USA   \n",
       "budget                                              61000000.00   \n",
       "imdb_score                                                 7.60   \n",
       "actors                Hugh Jackman,Eddie Redmayne,Anne Hathaway   \n",
       "movie_facebook_likes                                     144000   \n",
       "movie_twitter_likes                                        1000   \n",
       "genero_1                                                  Drama   \n",
       "genero_2                                                Musical   \n",
       "genero_3                                                Romance   \n",
       "genero_4                                                   None   \n",
       "genero_5                                                   None   \n",
       "gross_budget_ratio                                         2.44   \n",
       "type_film                                                Normal   \n",
       "\n",
       "                                                            61  \\\n",
       "color                                                    Color   \n",
       "director_name                                Timur Bekmambetov   \n",
       "duration                                                141.00   \n",
       "gross                                             146375408.78   \n",
       "movie_title                                            ben-hur   \n",
       "title_year                                                2016   \n",
       "language                                               English   \n",
       "country                                                    USA   \n",
       "budget                                            100000000.00   \n",
       "imdb_score                                                6.10   \n",
       "actors                Morgan Freeman,Ayelet Zurer,Moises Arias   \n",
       "movie_facebook_likes                                         0   \n",
       "movie_twitter_likes                                       1000   \n",
       "genero_1                                             Adventure   \n",
       "genero_2                                                 Drama   \n",
       "genero_3                                               History   \n",
       "genero_4                                                  None   \n",
       "genero_5                                                  None   \n",
       "gross_budget_ratio                                        1.46   \n",
       "type_film                                               Normal   \n",
       "\n",
       "                                                            62  \\\n",
       "color                                                    Color   \n",
       "director_name                                Timur Bekmambetov   \n",
       "duration                                                141.00   \n",
       "gross                                             146375408.78   \n",
       "movie_title                                            ben-hur   \n",
       "title_year                                                2016   \n",
       "language                                               English   \n",
       "country                                                    USA   \n",
       "budget                                            100000000.00   \n",
       "imdb_score                                                6.00   \n",
       "actors                Morgan Freeman,Ayelet Zurer,Moises Arias   \n",
       "movie_facebook_likes                                         0   \n",
       "movie_twitter_likes                                       1000   \n",
       "genero_1                                             Adventure   \n",
       "genero_2                                                 Drama   \n",
       "genero_3                                               History   \n",
       "genero_4                                                  None   \n",
       "genero_5                                                  None   \n",
       "gross_budget_ratio                                        1.46   \n",
       "type_film                                               Normal   \n",
       "\n",
       "                                                             85  \\\n",
       "color                                                     Color   \n",
       "director_name                               Angelina Jolie Pitt   \n",
       "duration                                                 137.00   \n",
       "gross                                              115603980.00   \n",
       "movie_title                                            unbroken   \n",
       "title_year                                                 2014   \n",
       "language                                                English   \n",
       "country                                                     USA   \n",
       "budget                                              65000000.00   \n",
       "imdb_score                                                -1.20   \n",
       "actors                Finn Wittrock,Jack O'Connell,Alex Russell   \n",
       "movie_facebook_likes                                      35000   \n",
       "movie_twitter_likes                                        1000   \n",
       "genero_1                                              Biography   \n",
       "genero_2                                                  Drama   \n",
       "genero_3                                                  Sport   \n",
       "genero_4                                                    War   \n",
       "genero_5                                                   None   \n",
       "gross_budget_ratio                                         1.78   \n",
       "type_film                                                Normal   \n",
       "\n",
       "                                                             86  \n",
       "color                                                     Color  \n",
       "director_name                               Angelina Jolie Pitt  \n",
       "duration                                                 137.00  \n",
       "gross                                              115603980.00  \n",
       "movie_title                                            unbroken  \n",
       "title_year                                                 2014  \n",
       "language                                                English  \n",
       "country                                                     USA  \n",
       "budget                                              65000000.00  \n",
       "imdb_score                                                 7.20  \n",
       "actors                Finn Wittrock,Jack O'Connell,Alex Russell  \n",
       "movie_facebook_likes                                      35000  \n",
       "movie_twitter_likes                                        1000  \n",
       "genero_1                                              Biography  \n",
       "genero_2                                                  Drama  \n",
       "genero_3                                                  Sport  \n",
       "genero_4                                                    War  \n",
       "genero_5                                                   None  \n",
       "gross_budget_ratio                                         1.78  \n",
       "type_film                                                Normal  "
      ]
     },
     "execution_count": 80,
     "metadata": {},
     "output_type": "execute_result"
    }
   ],
   "source": [
    "# Buscamos valores duplicados\n",
    "df_imdb[ df_imdb.movie_title.duplicated(keep=False) ].T"
   ]
  },
  {
   "cell_type": "code",
   "execution_count": 81,
   "metadata": {},
   "outputs": [],
   "source": [
    "# Eliminamos valores duplicados en la columna movie_title\n",
    "df_imdb = df_imdb.drop_duplicates(subset='movie_title')"
   ]
  },
  {
   "cell_type": "markdown",
   "metadata": {},
   "source": [
    "### Columna `title_year`"
   ]
  },
  {
   "cell_type": "code",
   "execution_count": 82,
   "metadata": {},
   "outputs": [
    {
     "data": {
      "text/plain": [
       "count      91.00\n",
       "mean     1937.89\n",
       "std       410.41\n",
       "min     -1000.00\n",
       "25%      2012.00\n",
       "50%      2013.00\n",
       "75%      2014.00\n",
       "max      2030.00\n",
       "Name: title_year, dtype: float64"
      ]
     },
     "execution_count": 82,
     "metadata": {},
     "output_type": "execute_result"
    }
   ],
   "source": [
    "df_imdb.title_year.describe()"
   ]
  },
  {
   "cell_type": "code",
   "execution_count": 83,
   "metadata": {},
   "outputs": [
    {
     "data": {
      "text/plain": [
       "<AxesSubplot:>"
      ]
     },
     "execution_count": 83,
     "metadata": {},
     "output_type": "execute_result"
    },
    {
     "data": {
      "image/png": "[encoded data removed]",
      "text/plain": [
       "<Figure size 432x288 with 1 Axes>"
      ]
     },
     "metadata": {
      "needs_background": "light"
     },
     "output_type": "display_data"
    }
   ],
   "source": [
    "# Mostramos un histograma para ver la distribución de nuestros datos\n",
    "df_imdb.title_year.hist(bins=20)"
   ]
  },
  {
   "cell_type": "code",
   "execution_count": 84,
   "metadata": {},
   "outputs": [],
   "source": [
    "# Filtramos las peliculas con año menor que 1985 y mayor que 2022 y le asignamos valores nulos\n",
    "df_imdb.loc[ (df_imdb.title_year < 1895) | (df_imdb.title_year > 2022), 'title_year'] = np.nan"
   ]
  },
  {
   "cell_type": "code",
   "execution_count": 85,
   "metadata": {},
   "outputs": [
    {
     "data": {
      "text/plain": [
       "<AxesSubplot:>"
      ]
     },
     "execution_count": 85,
     "metadata": {},
     "output_type": "execute_result"
    },
    {
     "data": {
      "image/png": "[encoded data removed]",
      "text/plain": [
       "<Figure size 432x288 with 1 Axes>"
      ]
     },
     "metadata": {
      "needs_background": "light"
     },
     "output_type": "display_data"
    }
   ],
   "source": [
    "# Volvemos a pintar los datos\n",
    "df_imdb.title_year.hist(bins=7)"
   ]
  },
  {
   "cell_type": "code",
   "execution_count": 86,
   "metadata": {},
   "outputs": [
    {
     "data": {
      "text/plain": [
       "count     86.00\n",
       "mean    2012.92\n",
       "std        1.60\n",
       "min     2010.00\n",
       "25%     2012.00\n",
       "50%     2013.00\n",
       "75%     2014.00\n",
       "max     2016.00\n",
       "Name: title_year, dtype: float64"
      ]
     },
     "execution_count": 86,
     "metadata": {},
     "output_type": "execute_result"
    }
   ],
   "source": [
    "df_imdb.title_year.describe()"
   ]
  },
  {
   "cell_type": "markdown",
   "metadata": {},
   "source": [
    "### Columna `movie_twitter_likes`"
   ]
  },
  {
   "cell_type": "code",
   "execution_count": 87,
   "metadata": {},
   "outputs": [
    {
     "data": {
      "text/plain": [
       "0     1000\n",
       "1     1000\n",
       "2     1000\n",
       "3     1000\n",
       "4     1000\n",
       "      ... \n",
       "94    1000\n",
       "95    1000\n",
       "96    1000\n",
       "97    1000\n",
       "98    1000\n",
       "Name: movie_twitter_likes, Length: 91, dtype: int64"
      ]
     },
     "execution_count": 87,
     "metadata": {},
     "output_type": "execute_result"
    }
   ],
   "source": [
    "# Primera visualización\n",
    "df_imdb.movie_twitter_likes"
   ]
  },
  {
   "cell_type": "code",
   "execution_count": 88,
   "metadata": {},
   "outputs": [
    {
     "data": {
      "text/plain": [
       "1000    91\n",
       "Name: movie_twitter_likes, dtype: int64"
      ]
     },
     "execution_count": 88,
     "metadata": {},
     "output_type": "execute_result"
    }
   ],
   "source": [
    "# Contamos los valores unicos, vemos que todos los campos son iguales\n",
    "df_imdb.movie_twitter_likes.value_counts()"
   ]
  },
  {
   "cell_type": "code",
   "execution_count": 89,
   "metadata": {},
   "outputs": [],
   "source": [
    "# Como tenemos el mismo valor para toda la columna procedemos a eliminarla\n",
    "df_imdb = df_imdb.drop('movie_twitter_likes', axis=1)"
   ]
  },
  {
   "cell_type": "markdown",
   "metadata": {},
   "source": [
    "### Columna `imdb_score`"
   ]
  },
  {
   "cell_type": "code",
   "execution_count": 90,
   "metadata": {},
   "outputs": [
    {
     "data": {
      "text/plain": [
       "0    8.20\n",
       "1    7.20\n",
       "2    7.90\n",
       "3    6.50\n",
       "4    7.90\n",
       "     ... \n",
       "94   8.10\n",
       "95   7.30\n",
       "96   7.90\n",
       "97   7.60\n",
       "98   6.90\n",
       "Name: imdb_score, Length: 91, dtype: float64"
      ]
     },
     "execution_count": 90,
     "metadata": {},
     "output_type": "execute_result"
    }
   ],
   "source": [
    "# Primera visualización\n",
    "df_imdb.imdb_score"
   ]
  },
  {
   "cell_type": "code",
   "execution_count": 91,
   "metadata": {},
   "outputs": [
    {
     "data": {
      "text/plain": [
       "count   91.00\n",
       "mean     6.88\n",
       "std      2.00\n",
       "min     -7.50\n",
       "25%      6.60\n",
       "50%      7.20\n",
       "75%      7.90\n",
       "max      8.80\n",
       "Name: imdb_score, dtype: float64"
      ]
     },
     "execution_count": 91,
     "metadata": {},
     "output_type": "execute_result"
    }
   ],
   "source": [
    "# Mostramos datos descriptivos\n",
    "df_imdb.imdb_score.describe()"
   ]
  },
  {
   "cell_type": "code",
   "execution_count": 92,
   "metadata": {},
   "outputs": [],
   "source": [
    "# Buscamos valores que no están en el intervalo de valores de 0 a 10 y le asignamos el valor nulo\n",
    "df_imdb.loc[ (df_imdb.imdb_score < 0) | (df_imdb.imdb_score > 10), 'imdb_score'] = np.nan"
   ]
  },
  {
   "cell_type": "markdown",
   "metadata": {},
   "source": [
    "### Columna `country`"
   ]
  },
  {
   "cell_type": "code",
   "execution_count": 93,
   "metadata": {},
   "outputs": [
    {
     "data": {
      "text/plain": [
       "USA               72\n",
       "UK                 6\n",
       "usa                3\n",
       "France             2\n",
       "Germany            1\n",
       "New Zealand        1\n",
       "India              1\n",
       "United States      1\n",
       "Australia          1\n",
       "Czech Republic     1\n",
       "Kyrgyzstan         1\n",
       "Canada             1\n",
       "Name: country, dtype: int64"
      ]
     },
     "execution_count": 93,
     "metadata": {},
     "output_type": "execute_result"
    }
   ],
   "source": [
    "df_imdb.country.value_counts()"
   ]
  },
  {
   "cell_type": "code",
   "execution_count": 94,
   "metadata": {},
   "outputs": [],
   "source": [
    "# Unificamos el nombre para todas la peliculas de USA\n",
    "df_imdb.loc[ df_imdb.country.isin(['usa', 'United States']), 'country' ] = 'USA'"
   ]
  },
  {
   "cell_type": "code",
   "execution_count": 95,
   "metadata": {},
   "outputs": [
    {
     "data": {
      "text/plain": [
       "count      91\n",
       "unique     10\n",
       "top       USA\n",
       "freq       76\n",
       "Name: country, dtype: object"
      ]
     },
     "execution_count": 95,
     "metadata": {},
     "output_type": "execute_result"
    }
   ],
   "source": [
    "# Mostramos información estadística descriptiva\n",
    "df_imdb.country.describe()"
   ]
  },
  {
   "cell_type": "markdown",
   "metadata": {},
   "source": [
    "### Columna `language`"
   ]
  },
  {
   "cell_type": "code",
   "execution_count": 96,
   "metadata": {},
   "outputs": [
    {
     "data": {
      "text/plain": [
       "English    91\n",
       "Name: language, dtype: int64"
      ]
     },
     "execution_count": 96,
     "metadata": {},
     "output_type": "execute_result"
    }
   ],
   "source": [
    "# Contamos los valores unicos, vemos que són iguales para todo el dataframe\n",
    "df_imdb.language.value_counts()"
   ]
  },
  {
   "cell_type": "code",
   "execution_count": 97,
   "metadata": {},
   "outputs": [],
   "source": [
    "# Como tenemos el mismo valor para toda la columna procedemos a eliminarla\n",
    "df_imdb = df_imdb.drop('language', axis=1)"
   ]
  },
  {
   "cell_type": "markdown",
   "metadata": {},
   "source": [
    "### Columna `movie_facebook_likes`"
   ]
  },
  {
   "cell_type": "code",
   "execution_count": 98,
   "metadata": {},
   "outputs": [
    {
     "data": {
      "text/plain": [
       "count       91.00\n",
       "mean     65829.95\n",
       "std      58602.26\n",
       "min          0.00\n",
       "25%      25000.00\n",
       "50%      54000.00\n",
       "75%      84000.00\n",
       "max     349000.00\n",
       "Name: movie_facebook_likes, dtype: float64"
      ]
     },
     "execution_count": 98,
     "metadata": {},
     "output_type": "execute_result"
    }
   ],
   "source": [
    "# Primera visualización\n",
    "df_imdb.movie_facebook_likes.describe()"
   ]
  },
  {
   "cell_type": "code",
   "execution_count": 99,
   "metadata": {},
   "outputs": [
    {
     "data": {
      "text/plain": [
       "<AxesSubplot:>"
      ]
     },
     "execution_count": 99,
     "metadata": {},
     "output_type": "execute_result"
    },
    {
     "data": {
      "image/png": "[encoded data removed]",
      "text/plain": [
       "<Figure size 432x288 with 1 Axes>"
      ]
     },
     "metadata": {
      "needs_background": "light"
     },
     "output_type": "display_data"
    }
   ],
   "source": [
    "# Mostramos un histograma para ver la distrubución de los datos\n",
    "#df_imdb.movie_facebook_likes.hist()\n",
    "# Mostramos otro grafico filtrando los que tienen menos de 100 likes\n",
    "df_imdb.movie_facebook_likes[ df_imdb.movie_facebook_likes < 100].hist()"
   ]
  },
  {
   "cell_type": "code",
   "execution_count": 100,
   "metadata": {},
   "outputs": [
    {
     "data": {
      "text/html": [
       "<div>\n",
       "<style scoped>\n",
       "    .dataframe tbody tr th:only-of-type {\n",
       "        vertical-align: middle;\n",
       "    }\n",
       "\n",
       "    .dataframe tbody tr th {\n",
       "        vertical-align: top;\n",
       "    }\n",
       "\n",
       "    .dataframe thead th {\n",
       "        text-align: right;\n",
       "    }\n",
       "</style>\n",
       "<table border=\"1\" class=\"dataframe\">\n",
       "  <thead>\n",
       "    <tr style=\"text-align: right;\">\n",
       "      <th></th>\n",
       "      <th>color</th>\n",
       "      <th>director_name</th>\n",
       "      <th>duration</th>\n",
       "      <th>gross</th>\n",
       "      <th>movie_title</th>\n",
       "      <th>title_year</th>\n",
       "      <th>country</th>\n",
       "      <th>budget</th>\n",
       "      <th>imdb_score</th>\n",
       "      <th>actors</th>\n",
       "      <th>movie_facebook_likes</th>\n",
       "      <th>genero_1</th>\n",
       "      <th>genero_2</th>\n",
       "      <th>genero_3</th>\n",
       "      <th>genero_4</th>\n",
       "      <th>genero_5</th>\n",
       "      <th>gross_budget_ratio</th>\n",
       "      <th>type_film</th>\n",
       "    </tr>\n",
       "  </thead>\n",
       "  <tbody>\n",
       "    <tr>\n",
       "      <th>3</th>\n",
       "      <td>Color</td>\n",
       "      <td>Kenneth Lonergan</td>\n",
       "      <td>186.00</td>\n",
       "      <td>46495.00</td>\n",
       "      <td>margaret</td>\n",
       "      <td>2011.00</td>\n",
       "      <td>USA</td>\n",
       "      <td>14000000.00</td>\n",
       "      <td>6.50</td>\n",
       "      <td>Matt Damon,Kieran Culkin,John Gallagher Jr.</td>\n",
       "      <td>0</td>\n",
       "      <td>Drama</td>\n",
       "      <td>None</td>\n",
       "      <td>None</td>\n",
       "      <td>None</td>\n",
       "      <td>None</td>\n",
       "      <td>0.00</td>\n",
       "      <td>Normal</td>\n",
       "    </tr>\n",
       "    <tr>\n",
       "      <th>27</th>\n",
       "      <td>Color</td>\n",
       "      <td>Gnana Rajasekaran</td>\n",
       "      <td>153.00</td>\n",
       "      <td>146375408.78</td>\n",
       "      <td>ramanujan</td>\n",
       "      <td>2014.00</td>\n",
       "      <td>India</td>\n",
       "      <td>102182415.00</td>\n",
       "      <td>7.00</td>\n",
       "      <td>Mani Bharathi,Michael Lieber,Kevin McGowan</td>\n",
       "      <td>58</td>\n",
       "      <td>Biography</td>\n",
       "      <td>Drama</td>\n",
       "      <td>History</td>\n",
       "      <td>None</td>\n",
       "      <td>None</td>\n",
       "      <td>1.43</td>\n",
       "      <td>Normal</td>\n",
       "    </tr>\n",
       "    <tr>\n",
       "      <th>33</th>\n",
       "      <td>Color</td>\n",
       "      <td>Mike Leigh</td>\n",
       "      <td>150.00</td>\n",
       "      <td>3958500.00</td>\n",
       "      <td>mr. turner</td>\n",
       "      <td>2014.00</td>\n",
       "      <td>UK</td>\n",
       "      <td>102182415.00</td>\n",
       "      <td>6.80</td>\n",
       "      <td>Lesley Manville,Ruth Sheen,Karl Johnson</td>\n",
       "      <td>0</td>\n",
       "      <td>Biography</td>\n",
       "      <td>Drama</td>\n",
       "      <td>History</td>\n",
       "      <td>None</td>\n",
       "      <td>None</td>\n",
       "      <td>0.04</td>\n",
       "      <td>Normal</td>\n",
       "    </tr>\n",
       "    <tr>\n",
       "      <th>42</th>\n",
       "      <td>Color</td>\n",
       "      <td>Michael Patrick King</td>\n",
       "      <td>146.00</td>\n",
       "      <td>95328937.00</td>\n",
       "      <td>sex and the city 2</td>\n",
       "      <td>2010.00</td>\n",
       "      <td>USA</td>\n",
       "      <td>100000000.00</td>\n",
       "      <td>4.30</td>\n",
       "      <td>Chris Noth,Liza Minnelli,Kristin Davis</td>\n",
       "      <td>0</td>\n",
       "      <td>Comedy</td>\n",
       "      <td>Drama</td>\n",
       "      <td>Romance</td>\n",
       "      <td>None</td>\n",
       "      <td>None</td>\n",
       "      <td>0.95</td>\n",
       "      <td>Normal</td>\n",
       "    </tr>\n",
       "    <tr>\n",
       "      <th>47</th>\n",
       "      <td>Color</td>\n",
       "      <td>Guillaume Canet</td>\n",
       "      <td>144.00</td>\n",
       "      <td>41229.00</td>\n",
       "      <td>blood ties</td>\n",
       "      <td>2013.00</td>\n",
       "      <td>France</td>\n",
       "      <td>25500000.00</td>\n",
       "      <td>6.50</td>\n",
       "      <td>Mila Kunis,Lili Taylor,Billy Crudup</td>\n",
       "      <td>0</td>\n",
       "      <td>Crime</td>\n",
       "      <td>Drama</td>\n",
       "      <td>Thriller</td>\n",
       "      <td>None</td>\n",
       "      <td>None</td>\n",
       "      <td>0.00</td>\n",
       "      <td>Normal</td>\n",
       "    </tr>\n",
       "    <tr>\n",
       "      <th>56</th>\n",
       "      <td>Color</td>\n",
       "      <td>No information available</td>\n",
       "      <td>143.00</td>\n",
       "      <td>146375408.78</td>\n",
       "      <td>the ridges</td>\n",
       "      <td>2011.00</td>\n",
       "      <td>USA</td>\n",
       "      <td>17350.00</td>\n",
       "      <td>3.00</td>\n",
       "      <td>Robbie Barnes,Alana Kaniewski,Brandon Landers</td>\n",
       "      <td>33</td>\n",
       "      <td>Drama</td>\n",
       "      <td>Horror</td>\n",
       "      <td>Thriller</td>\n",
       "      <td>None</td>\n",
       "      <td>None</td>\n",
       "      <td>8436.62</td>\n",
       "      <td>Normal</td>\n",
       "    </tr>\n",
       "    <tr>\n",
       "      <th>61</th>\n",
       "      <td>Color</td>\n",
       "      <td>Timur Bekmambetov</td>\n",
       "      <td>141.00</td>\n",
       "      <td>146375408.78</td>\n",
       "      <td>ben-hur</td>\n",
       "      <td>2016.00</td>\n",
       "      <td>USA</td>\n",
       "      <td>100000000.00</td>\n",
       "      <td>6.10</td>\n",
       "      <td>Morgan Freeman,Ayelet Zurer,Moises Arias</td>\n",
       "      <td>0</td>\n",
       "      <td>Adventure</td>\n",
       "      <td>Drama</td>\n",
       "      <td>History</td>\n",
       "      <td>None</td>\n",
       "      <td>None</td>\n",
       "      <td>1.46</td>\n",
       "      <td>Normal</td>\n",
       "    </tr>\n",
       "    <tr>\n",
       "      <th>92</th>\n",
       "      <td>Color</td>\n",
       "      <td>Sadyk Sher-Niyaz</td>\n",
       "      <td>135.00</td>\n",
       "      <td>146375408.78</td>\n",
       "      <td>queen of the mountains</td>\n",
       "      <td>2014.00</td>\n",
       "      <td>Kyrgyzstan</td>\n",
       "      <td>1400000.00</td>\n",
       "      <td>8.70</td>\n",
       "      <td>Elina Abai Kyzy,Aziz Muradillayev,Mirlan Abdul...</td>\n",
       "      <td>0</td>\n",
       "      <td>Action</td>\n",
       "      <td>Biography</td>\n",
       "      <td>Drama</td>\n",
       "      <td>History</td>\n",
       "      <td>None</td>\n",
       "      <td>104.55</td>\n",
       "      <td>Normal</td>\n",
       "    </tr>\n",
       "    <tr>\n",
       "      <th>95</th>\n",
       "      <td>Color</td>\n",
       "      <td>Richard J. Lewis</td>\n",
       "      <td>134.00</td>\n",
       "      <td>7501404.00</td>\n",
       "      <td>barney's version</td>\n",
       "      <td>2010.00</td>\n",
       "      <td>Canada</td>\n",
       "      <td>102182415.00</td>\n",
       "      <td>7.30</td>\n",
       "      <td>Mark Addy,Atom Egoyan,Paul Gross</td>\n",
       "      <td>0</td>\n",
       "      <td>Comedy</td>\n",
       "      <td>Drama</td>\n",
       "      <td>None</td>\n",
       "      <td>None</td>\n",
       "      <td>None</td>\n",
       "      <td>0.07</td>\n",
       "      <td>Normal</td>\n",
       "    </tr>\n",
       "  </tbody>\n",
       "</table>\n",
       "</div>"
      ],
      "text/plain": [
       "    color             director_name  duration        gross  \\\n",
       "3   Color          Kenneth Lonergan    186.00     46495.00   \n",
       "27  Color         Gnana Rajasekaran    153.00 146375408.78   \n",
       "33  Color                Mike Leigh    150.00   3958500.00   \n",
       "42  Color      Michael Patrick King    146.00  95328937.00   \n",
       "47  Color           Guillaume Canet    144.00     41229.00   \n",
       "56  Color  No information available    143.00 146375408.78   \n",
       "61  Color         Timur Bekmambetov    141.00 146375408.78   \n",
       "92  Color          Sadyk Sher-Niyaz    135.00 146375408.78   \n",
       "95  Color          Richard J. Lewis    134.00   7501404.00   \n",
       "\n",
       "               movie_title  title_year     country       budget  imdb_score  \\\n",
       "3                 margaret     2011.00         USA  14000000.00        6.50   \n",
       "27               ramanujan     2014.00       India 102182415.00        7.00   \n",
       "33              mr. turner     2014.00          UK 102182415.00        6.80   \n",
       "42      sex and the city 2     2010.00         USA 100000000.00        4.30   \n",
       "47              blood ties     2013.00      France  25500000.00        6.50   \n",
       "56              the ridges     2011.00         USA     17350.00        3.00   \n",
       "61                 ben-hur     2016.00         USA 100000000.00        6.10   \n",
       "92  queen of the mountains     2014.00  Kyrgyzstan   1400000.00        8.70   \n",
       "95        barney's version     2010.00      Canada 102182415.00        7.30   \n",
       "\n",
       "                                               actors  movie_facebook_likes  \\\n",
       "3         Matt Damon,Kieran Culkin,John Gallagher Jr.                     0   \n",
       "27         Mani Bharathi,Michael Lieber,Kevin McGowan                    58   \n",
       "33            Lesley Manville,Ruth Sheen,Karl Johnson                     0   \n",
       "42             Chris Noth,Liza Minnelli,Kristin Davis                     0   \n",
       "47                Mila Kunis,Lili Taylor,Billy Crudup                     0   \n",
       "56      Robbie Barnes,Alana Kaniewski,Brandon Landers                    33   \n",
       "61           Morgan Freeman,Ayelet Zurer,Moises Arias                     0   \n",
       "92  Elina Abai Kyzy,Aziz Muradillayev,Mirlan Abdul...                     0   \n",
       "95                   Mark Addy,Atom Egoyan,Paul Gross                     0   \n",
       "\n",
       "     genero_1   genero_2  genero_3 genero_4 genero_5  gross_budget_ratio  \\\n",
       "3       Drama       None      None     None     None                0.00   \n",
       "27  Biography      Drama   History     None     None                1.43   \n",
       "33  Biography      Drama   History     None     None                0.04   \n",
       "42     Comedy      Drama   Romance     None     None                0.95   \n",
       "47      Crime      Drama  Thriller     None     None                0.00   \n",
       "56      Drama     Horror  Thriller     None     None             8436.62   \n",
       "61  Adventure      Drama   History     None     None                1.46   \n",
       "92     Action  Biography     Drama  History     None              104.55   \n",
       "95     Comedy      Drama      None     None     None                0.07   \n",
       "\n",
       "   type_film  \n",
       "3     Normal  \n",
       "27    Normal  \n",
       "33    Normal  \n",
       "42    Normal  \n",
       "47    Normal  \n",
       "56    Normal  \n",
       "61    Normal  \n",
       "92    Normal  \n",
       "95    Normal  "
      ]
     },
     "execution_count": 100,
     "metadata": {},
     "output_type": "execute_result"
    }
   ],
   "source": [
    "# Sabemos que no hay valores nulos, pero encontramos algunos valores a 0\n",
    "df_imdb[ df_imdb.movie_facebook_likes <= 100]"
   ]
  },
  {
   "cell_type": "markdown",
   "metadata": {},
   "source": [
    "### Columna `actors`"
   ]
  },
  {
   "cell_type": "code",
   "execution_count": 101,
   "metadata": {},
   "outputs": [
    {
     "data": {
      "text/plain": [
       "0     Leonardo DiCaprio,Matthew McConaughey,Jon Favreau\n",
       "1             Robert Downey Jr.,Jon Favreau,Don Cheadle\n",
       "2             Craig Stark,Jennifer Jason Leigh,Zoë Bell\n",
       "3           Matt Damon,Kieran Culkin,John Gallagher Jr.\n",
       "4                 Aidan Turner,Adam Brown,James Nesbitt\n",
       "                            ...                        \n",
       "94         Quvenzhané Wallis,Scoot McNairy,Taran Killam\n",
       "95                     Mark Addy,Atom Egoyan,Paul Gross\n",
       "96               Tom Hanks,Chris Mulkey,Michael Chernus\n",
       "97                   Brad Pitt,Logan Lerman,Jim Parrack\n",
       "98        Johnny Cannizzaro,Steve Schirripa,Scott Vance\n",
       "Name: actors, Length: 91, dtype: object"
      ]
     },
     "execution_count": 101,
     "metadata": {},
     "output_type": "execute_result"
    }
   ],
   "source": [
    "df_imdb.actors"
   ]
  },
  {
   "cell_type": "code",
   "execution_count": 102,
   "metadata": {},
   "outputs": [
    {
     "data": {
      "text/plain": [
       "3    91\n",
       "Name: actors, dtype: int64"
      ]
     },
     "execution_count": 102,
     "metadata": {},
     "output_type": "execute_result"
    }
   ],
   "source": [
    "# Vemos el número de actores que tiene una pelicula en nuestro dataset\n",
    "df_imdb.actors.str.split(',').str.len().value_counts()"
   ]
  },
  {
   "cell_type": "code",
   "execution_count": 103,
   "metadata": {},
   "outputs": [],
   "source": [
    "# Como tenemos 3 actores en cada película, generamos una columna para cada actor\n",
    "actors_cols = df_imdb.actors.str.split(',', n=df_imdb.actors.str.split(',').str.len().max(), expand=True)\n",
    "\n",
    "df_imdb['actor_1'] = actors_cols[0]\n",
    "df_imdb['actor_2'] = actors_cols[1]\n",
    "df_imdb['actor_3'] = actors_cols[2]"
   ]
  },
  {
   "cell_type": "code",
   "execution_count": 104,
   "metadata": {},
   "outputs": [],
   "source": [
    "# Eliminamos la columna actors\n",
    "del df_imdb['actors']"
   ]
  },
  {
   "cell_type": "code",
   "execution_count": 105,
   "metadata": {},
   "outputs": [
    {
     "data": {
      "text/html": [
       "<div>\n",
       "<style scoped>\n",
       "    .dataframe tbody tr th:only-of-type {\n",
       "        vertical-align: middle;\n",
       "    }\n",
       "\n",
       "    .dataframe tbody tr th {\n",
       "        vertical-align: top;\n",
       "    }\n",
       "\n",
       "    .dataframe thead th {\n",
       "        text-align: right;\n",
       "    }\n",
       "</style>\n",
       "<table border=\"1\" class=\"dataframe\">\n",
       "  <thead>\n",
       "    <tr style=\"text-align: right;\">\n",
       "      <th></th>\n",
       "      <th>color</th>\n",
       "      <th>director_name</th>\n",
       "      <th>duration</th>\n",
       "      <th>gross</th>\n",
       "      <th>movie_title</th>\n",
       "      <th>title_year</th>\n",
       "      <th>country</th>\n",
       "      <th>budget</th>\n",
       "      <th>imdb_score</th>\n",
       "      <th>movie_facebook_likes</th>\n",
       "      <th>genero_1</th>\n",
       "      <th>genero_2</th>\n",
       "      <th>genero_3</th>\n",
       "      <th>genero_4</th>\n",
       "      <th>genero_5</th>\n",
       "      <th>gross_budget_ratio</th>\n",
       "      <th>type_film</th>\n",
       "      <th>actor_1</th>\n",
       "      <th>actor_2</th>\n",
       "      <th>actor_3</th>\n",
       "    </tr>\n",
       "  </thead>\n",
       "  <tbody>\n",
       "    <tr>\n",
       "      <th>58</th>\n",
       "      <td>Color</td>\n",
       "      <td>Marc Webb</td>\n",
       "      <td>142.00</td>\n",
       "      <td>202853933.00</td>\n",
       "      <td>the amazing spider-man 2</td>\n",
       "      <td>2014.00</td>\n",
       "      <td>USA</td>\n",
       "      <td>200000000.00</td>\n",
       "      <td>6.70</td>\n",
       "      <td>41000</td>\n",
       "      <td>Action</td>\n",
       "      <td>Adventure</td>\n",
       "      <td>Fantasy</td>\n",
       "      <td>Sci-Fi</td>\n",
       "      <td>None</td>\n",
       "      <td>1.01</td>\n",
       "      <td>Normal</td>\n",
       "      <td>Emma Stone</td>\n",
       "      <td>Andrew Garfield</td>\n",
       "      <td>B.J. Novak</td>\n",
       "    </tr>\n",
       "  </tbody>\n",
       "</table>\n",
       "</div>"
      ],
      "text/plain": [
       "    color director_name  duration        gross               movie_title  \\\n",
       "58  Color     Marc Webb    142.00 202853933.00  the amazing spider-man 2   \n",
       "\n",
       "    title_year country       budget  imdb_score  movie_facebook_likes  \\\n",
       "58     2014.00     USA 200000000.00        6.70                 41000   \n",
       "\n",
       "   genero_1   genero_2 genero_3 genero_4 genero_5  gross_budget_ratio  \\\n",
       "58   Action  Adventure  Fantasy   Sci-Fi     None                1.01   \n",
       "\n",
       "   type_film     actor_1          actor_2     actor_3  \n",
       "58    Normal  Emma Stone  Andrew Garfield  B.J. Novak  "
      ]
     },
     "execution_count": 105,
     "metadata": {},
     "output_type": "execute_result"
    }
   ],
   "source": [
    "# Vemos un ejemplo aleatorio para comprobar que todo está correcto\n",
    "df_imdb.sample()"
   ]
  },
  {
   "cell_type": "markdown",
   "metadata": {},
   "source": [
    "### Actores más repetidos en el dataset"
   ]
  },
  {
   "cell_type": "code",
   "execution_count": 106,
   "metadata": {},
   "outputs": [],
   "source": [
    "# Extraemos los actores de las tres columnas en las que los hemos dividido\n",
    "actores = pd.concat([df_imdb.actor_1, df_imdb.actor_2, df_imdb.actor_3])"
   ]
  },
  {
   "cell_type": "code",
   "execution_count": 107,
   "metadata": {},
   "outputs": [
    {
     "data": {
      "text/plain": [
       "Leonardo DiCaprio       7\n",
       "Jennifer Lawrence       6\n",
       "Tom Hardy               5\n",
       "Robert Downey Jr.       5\n",
       "Scarlett Johansson      4\n",
       "Hugh Jackman            4\n",
       "Aidan Turner            3\n",
       "Josh Hutcherson         3\n",
       "Joseph Gordon-Levitt    3\n",
       "Tom Hanks               3\n",
       "dtype: int64"
      ]
     },
     "execution_count": 107,
     "metadata": {},
     "output_type": "execute_result"
    }
   ],
   "source": [
    "# Mostramos los 10 actores más repetidos\n",
    "actores.value_counts(sort=True, ascending=False).head(10)"
   ]
  },
  {
   "cell_type": "markdown",
   "metadata": {},
   "source": [
    "### Generos de películas más comunes"
   ]
  },
  {
   "cell_type": "code",
   "execution_count": 108,
   "metadata": {},
   "outputs": [],
   "source": [
    "# Extraemos los generos de las cinco columnas en las que los hemos dividido\n",
    "generos = pd.concat([df_imdb.genero_1, df_imdb.genero_2, df_imdb.genero_3, df_imdb.genero_4, df_imdb.genero_5])"
   ]
  },
  {
   "cell_type": "code",
   "execution_count": 109,
   "metadata": {},
   "outputs": [
    {
     "data": {
      "text/plain": [
       "Drama        58\n",
       "Adventure    35\n",
       "Action       30\n",
       "Thriller     28\n",
       "Sci-Fi       22\n",
       "dtype: int64"
      ]
     },
     "execution_count": 109,
     "metadata": {},
     "output_type": "execute_result"
    }
   ],
   "source": [
    "# Mostramos los 5 generos más comunes\n",
    "generos.value_counts(sort=True, ascending=False).head()"
   ]
  }
 ],
 "metadata": {
  "kernelspec": {
   "display_name": "Python 3 (ipykernel)",
   "language": "python",
   "name": "python3"
  },
  "language_info": {
   "codemirror_mode": {
    "name": "ipython",
    "version": 3
   },
   "file_extension": ".py",
   "mimetype": "text/x-python",
   "name": "python",
   "nbconvert_exporter": "python",
   "pygments_lexer": "ipython3",
   "version": "3.9.7"
  },
  "metadata": {
   "interpreter": {
    "hash": "47c7c997e12db0943f037ebbbbd3e237f559f651ec857a3093f1bc2fc6c9f54a"
   }
  }
 },
 "nbformat": 4,
 "nbformat_minor": 2
}
