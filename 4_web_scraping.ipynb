{
 "cells": [
  {
   "attachments": {},
   "cell_type": "markdown",
   "id": "11d3248b",
   "metadata": {},
   "source": [
    "![Nuclio logo](https://nuclio.school/wp-content/uploads/2018/12/nucleoDS-newBlack.png)\n",
    "\n",
    "# Ejercicio opcional de Web Scraping\n",
    "\n",
    "Este ejercicio consiste en extraer datos de una página web, procesarlos y guardarlos en un fichero `csv`. Para ello, debes:\n",
    "\n",
    "1. Extraer los artículos en la página de inicio de [https://slashdot.org/](https://slashdot.org/) utilizando `BeautifulSoup`.\n",
    "2. Procesar los datos y guardarlos en un `DataFrame`.\n",
    "3. Crear un fichero `csv` a partir de dicho `DataFrame`."
   ]
  },
  {
   "cell_type": "markdown",
   "id": "0f64f1c1",
   "metadata": {},
   "source": [
    "## Importar librerías"
   ]
  },
  {
   "cell_type": "code",
   "execution_count": 2,
   "id": "797ddfcb",
   "metadata": {},
   "outputs": [],
   "source": [
    "# Importamos requests para obtener los datos de la web\n",
    "import requests\n",
    "\n",
    "# Usaremos BeautifulSoup para hacer web scraping\n",
    "from bs4 import BeautifulSoup\n",
    "\n",
    "# Importamos pandas para exportar los datos extraidos\n",
    "import pandas as pd"
   ]
  },
  {
   "cell_type": "markdown",
   "id": "d7c86f87",
   "metadata": {},
   "source": [
    "## Hacer scraping de artículos"
   ]
  },
  {
   "cell_type": "code",
   "execution_count": 3,
   "id": "b1d68215",
   "metadata": {},
   "outputs": [],
   "source": [
    "# Hacemos el request de la web\n",
    "response = requests.get('https://slashdot.org/')\n",
    "\n",
    "# Inicializamos BeautifulSoup\n",
    "soup = BeautifulSoup(response.content, 'lxml')"
   ]
  },
  {
   "cell_type": "code",
   "execution_count": 7,
   "id": "70d758f0",
   "metadata": {},
   "outputs": [],
   "source": [
    "# Inicializamos la variable donde vamos a ir guardando los datos\n",
    "datos = []\n",
    "\n",
    "# Buscamos el div donde están los datos que queremos extraer\n",
    "data = soup.select('div[id=\"firehoselist\"] > article')\n",
    "\n",
    "# Recorremos los articulos que almacenan los datos a extraer\n",
    "#for article in soup.select(\"div[id='firehoselist'] > article\"):\n",
    "for articulo in data:\n",
    "    try:\n",
    "        titulo = articulo.find('span', class_='story-title').find('a').get_text().strip()\n",
    "        fuente = articulo.find('span', class_='story-title').find(class_='story-sourcelnk').get_text().strip()\n",
    "        descripcion = articulo.find('div', class_='body').get_text().strip()\n",
    "        fecha = articulo.find('div', class_='details').find('time').attrs['datetime'].replace('on ', '')\n",
    "    except AttributeError:\n",
    "        pass\n",
    "    datos.append([titulo, fuente, descripcion, fecha])"
   ]
  },
  {
   "cell_type": "markdown",
   "id": "8eea168a",
   "metadata": {},
   "source": [
    "## Guardar dataframe"
   ]
  },
  {
   "cell_type": "code",
   "execution_count": 8,
   "id": "24bb2b5e",
   "metadata": {},
   "outputs": [
    {
     "data": {
      "text/html": [
       "<div>\n",
       "<style scoped>\n",
       "    .dataframe tbody tr th:only-of-type {\n",
       "        vertical-align: middle;\n",
       "    }\n",
       "\n",
       "    .dataframe tbody tr th {\n",
       "        vertical-align: top;\n",
       "    }\n",
       "\n",
       "    .dataframe thead th {\n",
       "        text-align: right;\n",
       "    }\n",
       "</style>\n",
       "<table border=\"1\" class=\"dataframe\">\n",
       "  <thead>\n",
       "    <tr style=\"text-align: right;\">\n",
       "      <th></th>\n",
       "      <th>titulo</th>\n",
       "      <th>fuente</th>\n",
       "      <th>descripcion</th>\n",
       "      <th>fecha</th>\n",
       "    </tr>\n",
       "  </thead>\n",
       "  <tbody>\n",
       "    <tr>\n",
       "      <th>0</th>\n",
       "      <td>Microsoft Warns of 'Stealthy DDoS Malware' Tar...</td>\n",
       "      <td>(zdnet.com)</td>\n",
       "      <td>\"In the last six months, we observed a 254% in...</td>\n",
       "      <td>Saturday May 21, 2022 @10:34AM</td>\n",
       "    </tr>\n",
       "    <tr>\n",
       "      <th>1</th>\n",
       "      <td>The Online Spider Market Is Massive -- and Cra...</td>\n",
       "      <td>(wired.com)</td>\n",
       "      <td>An anonymous reader shares an excerpt from a r...</td>\n",
       "      <td>Saturday May 21, 2022 @09:00AM</td>\n",
       "    </tr>\n",
       "    <tr>\n",
       "      <th>2</th>\n",
       "      <td>HP Chooses Ubuntu-Based Pop!_OS Linux For Its ...</td>\n",
       "      <td>(betanews.com)</td>\n",
       "      <td>System76's CEO Carl Richell announced that HP ...</td>\n",
       "      <td>Saturday May 21, 2022 @06:00AM</td>\n",
       "    </tr>\n",
       "    <tr>\n",
       "      <th>3</th>\n",
       "      <td>Is the World's Oldest Tree Growing In a Ravine...</td>\n",
       "      <td>(science.org)</td>\n",
       "      <td>sciencehabit shares a report from Science Maga...</td>\n",
       "      <td>Saturday May 21, 2022 @03:00AM</td>\n",
       "    </tr>\n",
       "    <tr>\n",
       "      <th>4</th>\n",
       "      <td>Google's AI Is Smart Enough To Understand Your...</td>\n",
       "      <td>(cnet.com)</td>\n",
       "      <td>An anonymous reader quotes a report from CNET:...</td>\n",
       "      <td>Friday May 20, 2022 @11:30PM</td>\n",
       "    </tr>\n",
       "  </tbody>\n",
       "</table>\n",
       "</div>"
      ],
      "text/plain": [
       "                                              titulo          fuente  \\\n",
       "0  Microsoft Warns of 'Stealthy DDoS Malware' Tar...     (zdnet.com)   \n",
       "1  The Online Spider Market Is Massive -- and Cra...     (wired.com)   \n",
       "2  HP Chooses Ubuntu-Based Pop!_OS Linux For Its ...  (betanews.com)   \n",
       "3  Is the World's Oldest Tree Growing In a Ravine...   (science.org)   \n",
       "4  Google's AI Is Smart Enough To Understand Your...      (cnet.com)   \n",
       "\n",
       "                                         descripcion  \\\n",
       "0  \"In the last six months, we observed a 254% in...   \n",
       "1  An anonymous reader shares an excerpt from a r...   \n",
       "2  System76's CEO Carl Richell announced that HP ...   \n",
       "3  sciencehabit shares a report from Science Maga...   \n",
       "4  An anonymous reader quotes a report from CNET:...   \n",
       "\n",
       "                            fecha  \n",
       "0  Saturday May 21, 2022 @10:34AM  \n",
       "1  Saturday May 21, 2022 @09:00AM  \n",
       "2  Saturday May 21, 2022 @06:00AM  \n",
       "3  Saturday May 21, 2022 @03:00AM  \n",
       "4    Friday May 20, 2022 @11:30PM  "
      ]
     },
     "execution_count": 8,
     "metadata": {},
     "output_type": "execute_result"
    }
   ],
   "source": [
    "# Creamos la lista con nos nombres de las columnas para crear el DF\n",
    "columnas = ['titulo', 'fuente', 'descripcion', 'fecha']\n",
    "\n",
    "# Creamos el DF\n",
    "df = pd.DataFrame(columns=columnas, data=datos)\n",
    "\n",
    "# Mostramos el df creado\n",
    "df.head()"
   ]
  },
  {
   "cell_type": "code",
   "execution_count": 9,
   "id": "4728f2fa",
   "metadata": {},
   "outputs": [],
   "source": [
    "# Guardamos los datos\n",
    "df.to_csv(\"datos_slashdot.csv\")"
   ]
  }
 ],
 "metadata": {
  "interpreter": {
   "hash": "40d3a090f54c6569ab1632332b64b2c03c39dcf918b08424e98f38b5ae0af88f"
  },
  "kernelspec": {
   "display_name": "Python 3.9.7 ('base')",
   "language": "python",
   "name": "python3"
  },
  "language_info": {
   "codemirror_mode": {
    "name": "ipython",
    "version": 3
   },
   "file_extension": ".py",
   "mimetype": "text/x-python",
   "name": "python",
   "nbconvert_exporter": "python",
   "pygments_lexer": "ipython3",
   "version": "3.9.7"
  }
 },
 "nbformat": 4,
 "nbformat_minor": 5
}
