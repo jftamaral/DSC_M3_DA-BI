{
 "cells": [
  {
   "cell_type": "markdown",
   "metadata": {},
   "source": [
    "![Nuclio logo](https://nuclio.school/wp-content/uploads/2018/12/nucleoDS-newBlack.png)\n",
    "\n",
    "# Ejercicio opcional de Preprocesamiento \n",
    "\n",
    "Recibimos un dataset con información sobre la cancelación de servicios y atributos de clientes que han contratado el servicio de una empresa de telecomunicaciones. En este ejercicio deberás analizar y preparar dicho dataset para entrenar un modelo de Machine Learning que sirva para predecir la tasa de cancelación.\n",
    "\n",
    "Cada fila del dataset representa un cliente, y cada columna es una atributo de dicho cliente. El dataset contiene la siguiente información:\n",
    "\n",
    "- **State**: Estado donde vive el cliente.\n",
    "- **Account length**: Hace cuánto tiempo el cliente contrato el servicio (en días).\n",
    "- **Area code**: Código de área \n",
    "- **International plan**: ¿El cliente ha contratado un plan internacional?\n",
    "- **Voice mail plan**: ¿El cliente ha contratado un plan de buzón de voz? \n",
    "- **Number vmail messages**: Número de mensajes de voz que ha recibido \n",
    "- **Total day minutes**: Minutos gastados en llamadas nacionales\n",
    "- **Total day calls**: Número de llamadas nacionales realizadas \n",
    "- **Total day charge**: Cargos nacionales\n",
    "- **Total intl minutes**: Minutos gastados en llamadas internacionales\n",
    "- **Total intl calls**: Número de llamadas internacionales \n",
    "- **Total intl charge**: Cargos internacionales \n",
    "- **Customer service calls**: Llamadas al servicio de cliente \n",
    "- **Client type**: Tipo de cliente (frequent caller, moderate caller, infrequent caller)\n",
    "- **Churn**: ¿El usuario canceló el servicio?"
   ]
  },
  {
   "cell_type": "markdown",
   "metadata": {},
   "source": [
    "## Importar librerias"
   ]
  },
  {
   "cell_type": "code",
   "execution_count": 1,
   "metadata": {},
   "outputs": [],
   "source": [
    "import sklearn\n",
    "import nltk\n",
    "import pandas as pd\n",
    "import numpy as np"
   ]
  },
  {
   "cell_type": "markdown",
   "metadata": {},
   "source": [
    "## Leer datos y realizar revisiones generales"
   ]
  },
  {
   "cell_type": "code",
   "execution_count": 2,
   "metadata": {},
   "outputs": [],
   "source": [
    "df = pd.read_csv('churn_telco.csv')"
   ]
  },
  {
   "cell_type": "code",
   "execution_count": 3,
   "metadata": {},
   "outputs": [
    {
     "data": {
      "text/html": [
       "<div>\n",
       "<style scoped>\n",
       "    .dataframe tbody tr th:only-of-type {\n",
       "        vertical-align: middle;\n",
       "    }\n",
       "\n",
       "    .dataframe tbody tr th {\n",
       "        vertical-align: top;\n",
       "    }\n",
       "\n",
       "    .dataframe thead th {\n",
       "        text-align: right;\n",
       "    }\n",
       "</style>\n",
       "<table border=\"1\" class=\"dataframe\">\n",
       "  <thead>\n",
       "    <tr style=\"text-align: right;\">\n",
       "      <th></th>\n",
       "      <th>0</th>\n",
       "      <th>1</th>\n",
       "      <th>2</th>\n",
       "      <th>3</th>\n",
       "      <th>4</th>\n",
       "    </tr>\n",
       "  </thead>\n",
       "  <tbody>\n",
       "    <tr>\n",
       "      <th>State</th>\n",
       "      <td>LA</td>\n",
       "      <td>IN</td>\n",
       "      <td>NY</td>\n",
       "      <td>SC</td>\n",
       "      <td>HI</td>\n",
       "    </tr>\n",
       "    <tr>\n",
       "      <th>Account length</th>\n",
       "      <td>117</td>\n",
       "      <td>65</td>\n",
       "      <td>161</td>\n",
       "      <td>111</td>\n",
       "      <td>49</td>\n",
       "    </tr>\n",
       "    <tr>\n",
       "      <th>Area code</th>\n",
       "      <td>408</td>\n",
       "      <td>415</td>\n",
       "      <td>415</td>\n",
       "      <td>415</td>\n",
       "      <td>510</td>\n",
       "    </tr>\n",
       "    <tr>\n",
       "      <th>International plan</th>\n",
       "      <td>No</td>\n",
       "      <td>No</td>\n",
       "      <td>No</td>\n",
       "      <td>No</td>\n",
       "      <td>No</td>\n",
       "    </tr>\n",
       "    <tr>\n",
       "      <th>Voice mail plan</th>\n",
       "      <td>No</td>\n",
       "      <td>No</td>\n",
       "      <td>No</td>\n",
       "      <td>No</td>\n",
       "      <td>No</td>\n",
       "    </tr>\n",
       "    <tr>\n",
       "      <th>Number vmail messages</th>\n",
       "      <td>0</td>\n",
       "      <td>0</td>\n",
       "      <td>0</td>\n",
       "      <td>0</td>\n",
       "      <td>0</td>\n",
       "    </tr>\n",
       "    <tr>\n",
       "      <th>Total day minutes</th>\n",
       "      <td>184.5</td>\n",
       "      <td>129.1</td>\n",
       "      <td>332.9</td>\n",
       "      <td>110.4</td>\n",
       "      <td>119.3</td>\n",
       "    </tr>\n",
       "    <tr>\n",
       "      <th>Total day calls</th>\n",
       "      <td>97</td>\n",
       "      <td>137</td>\n",
       "      <td>67</td>\n",
       "      <td>103</td>\n",
       "      <td>117</td>\n",
       "    </tr>\n",
       "    <tr>\n",
       "      <th>Total day charge</th>\n",
       "      <td>31.37</td>\n",
       "      <td>21.95</td>\n",
       "      <td>56.59</td>\n",
       "      <td>18.77</td>\n",
       "      <td>20.28</td>\n",
       "    </tr>\n",
       "    <tr>\n",
       "      <th>Total intl minutes</th>\n",
       "      <td>8.7</td>\n",
       "      <td>12.7</td>\n",
       "      <td>5.4</td>\n",
       "      <td>7.7</td>\n",
       "      <td>11.1</td>\n",
       "    </tr>\n",
       "    <tr>\n",
       "      <th>Total intl calls</th>\n",
       "      <td>4</td>\n",
       "      <td>6</td>\n",
       "      <td>9</td>\n",
       "      <td>6</td>\n",
       "      <td>1</td>\n",
       "    </tr>\n",
       "    <tr>\n",
       "      <th>Total intl charge</th>\n",
       "      <td>2.35</td>\n",
       "      <td>3.43</td>\n",
       "      <td>1.46</td>\n",
       "      <td>2.08</td>\n",
       "      <td>3.0</td>\n",
       "    </tr>\n",
       "    <tr>\n",
       "      <th>Customer service calls</th>\n",
       "      <td>1</td>\n",
       "      <td>4</td>\n",
       "      <td>4</td>\n",
       "      <td>2</td>\n",
       "      <td>1</td>\n",
       "    </tr>\n",
       "    <tr>\n",
       "      <th>Client type</th>\n",
       "      <td>moderate_caller</td>\n",
       "      <td>frequent_caller</td>\n",
       "      <td>infrequent_caller</td>\n",
       "      <td>moderate_caller</td>\n",
       "      <td>frequent_caller</td>\n",
       "    </tr>\n",
       "    <tr>\n",
       "      <th>Churn</th>\n",
       "      <td>False</td>\n",
       "      <td>True</td>\n",
       "      <td>True</td>\n",
       "      <td>False</td>\n",
       "      <td>False</td>\n",
       "    </tr>\n",
       "  </tbody>\n",
       "</table>\n",
       "</div>"
      ],
      "text/plain": [
       "                                      0                1                  2  \\\n",
       "State                                LA               IN                 NY   \n",
       "Account length                      117               65                161   \n",
       "Area code                           408              415                415   \n",
       "International plan                   No               No                 No   \n",
       "Voice mail plan                      No               No                 No   \n",
       "Number vmail messages                 0                0                  0   \n",
       "Total day minutes                 184.5            129.1              332.9   \n",
       "Total day calls                      97              137                 67   \n",
       "Total day charge                  31.37            21.95              56.59   \n",
       "Total intl minutes                  8.7             12.7                5.4   \n",
       "Total intl calls                      4                6                  9   \n",
       "Total intl charge                  2.35             3.43               1.46   \n",
       "Customer service calls                1                4                  4   \n",
       "Client type             moderate_caller  frequent_caller  infrequent_caller   \n",
       "Churn                             False             True               True   \n",
       "\n",
       "                                      3                4  \n",
       "State                                SC               HI  \n",
       "Account length                      111               49  \n",
       "Area code                           415              510  \n",
       "International plan                   No               No  \n",
       "Voice mail plan                      No               No  \n",
       "Number vmail messages                 0                0  \n",
       "Total day minutes                 110.4            119.3  \n",
       "Total day calls                     103              117  \n",
       "Total day charge                  18.77            20.28  \n",
       "Total intl minutes                  7.7             11.1  \n",
       "Total intl calls                      6                1  \n",
       "Total intl charge                  2.08              3.0  \n",
       "Customer service calls                2                1  \n",
       "Client type             moderate_caller  frequent_caller  \n",
       "Churn                             False            False  "
      ]
     },
     "execution_count": 3,
     "metadata": {},
     "output_type": "execute_result"
    }
   ],
   "source": [
    "df.head().T"
   ]
  },
  {
   "cell_type": "code",
   "execution_count": 4,
   "metadata": {},
   "outputs": [],
   "source": [
    "# Quitamos todos los espacios de los nombres de las columnas y lo ponemos en minúsculas\n",
    "df.columns = df.columns.str.replace(' ', '_').str.lower()"
   ]
  },
  {
   "cell_type": "code",
   "execution_count": 5,
   "metadata": {},
   "outputs": [
    {
     "data": {
      "text/plain": [
       "Index(['state', 'account_length', 'area_code', 'international_plan',\n",
       "       'voice_mail_plan', 'number_vmail_messages', 'total_day_minutes',\n",
       "       'total_day_calls', 'total_day_charge', 'total_intl_minutes',\n",
       "       'total_intl_calls', 'total_intl_charge', 'customer_service_calls',\n",
       "       'client_type', 'churn'],\n",
       "      dtype='object')"
      ]
     },
     "execution_count": 5,
     "metadata": {},
     "output_type": "execute_result"
    }
   ],
   "source": [
    "# Revisamos las columnas del DF\n",
    "df.columns"
   ]
  },
  {
   "cell_type": "code",
   "execution_count": 6,
   "metadata": {},
   "outputs": [
    {
     "data": {
      "text/plain": [
       "(667, 15)"
      ]
     },
     "execution_count": 6,
     "metadata": {},
     "output_type": "execute_result"
    }
   ],
   "source": [
    "# Vemos la forma del DF\n",
    "df.shape"
   ]
  },
  {
   "cell_type": "markdown",
   "metadata": {},
   "source": [
    "## ¿Hay variables con valores sin sentido? Si fuese así, corrígelos "
   ]
  },
  {
   "cell_type": "code",
   "execution_count": 7,
   "metadata": {},
   "outputs": [
    {
     "data": {
      "text/html": [
       "<div>\n",
       "<style scoped>\n",
       "    .dataframe tbody tr th:only-of-type {\n",
       "        vertical-align: middle;\n",
       "    }\n",
       "\n",
       "    .dataframe tbody tr th {\n",
       "        vertical-align: top;\n",
       "    }\n",
       "\n",
       "    .dataframe thead th {\n",
       "        text-align: right;\n",
       "    }\n",
       "</style>\n",
       "<table border=\"1\" class=\"dataframe\">\n",
       "  <thead>\n",
       "    <tr style=\"text-align: right;\">\n",
       "      <th></th>\n",
       "      <th>count</th>\n",
       "      <th>unique</th>\n",
       "      <th>top</th>\n",
       "      <th>freq</th>\n",
       "      <th>mean</th>\n",
       "      <th>std</th>\n",
       "      <th>min</th>\n",
       "      <th>25%</th>\n",
       "      <th>50%</th>\n",
       "      <th>75%</th>\n",
       "      <th>max</th>\n",
       "    </tr>\n",
       "  </thead>\n",
       "  <tbody>\n",
       "    <tr>\n",
       "      <th>state</th>\n",
       "      <td>667</td>\n",
       "      <td>51</td>\n",
       "      <td>AZ</td>\n",
       "      <td>19</td>\n",
       "      <td>NaN</td>\n",
       "      <td>NaN</td>\n",
       "      <td>NaN</td>\n",
       "      <td>NaN</td>\n",
       "      <td>NaN</td>\n",
       "      <td>NaN</td>\n",
       "      <td>NaN</td>\n",
       "    </tr>\n",
       "    <tr>\n",
       "      <th>account_length</th>\n",
       "      <td>667.0</td>\n",
       "      <td>NaN</td>\n",
       "      <td>NaN</td>\n",
       "      <td>NaN</td>\n",
       "      <td>102.841079</td>\n",
       "      <td>40.81948</td>\n",
       "      <td>1.0</td>\n",
       "      <td>76.0</td>\n",
       "      <td>102.0</td>\n",
       "      <td>128.0</td>\n",
       "      <td>232.0</td>\n",
       "    </tr>\n",
       "    <tr>\n",
       "      <th>area_code</th>\n",
       "      <td>667.0</td>\n",
       "      <td>NaN</td>\n",
       "      <td>NaN</td>\n",
       "      <td>NaN</td>\n",
       "      <td>436.157421</td>\n",
       "      <td>41.783305</td>\n",
       "      <td>408.0</td>\n",
       "      <td>408.0</td>\n",
       "      <td>415.0</td>\n",
       "      <td>415.0</td>\n",
       "      <td>510.0</td>\n",
       "    </tr>\n",
       "    <tr>\n",
       "      <th>international_plan</th>\n",
       "      <td>667</td>\n",
       "      <td>2</td>\n",
       "      <td>No</td>\n",
       "      <td>614</td>\n",
       "      <td>NaN</td>\n",
       "      <td>NaN</td>\n",
       "      <td>NaN</td>\n",
       "      <td>NaN</td>\n",
       "      <td>NaN</td>\n",
       "      <td>NaN</td>\n",
       "      <td>NaN</td>\n",
       "    </tr>\n",
       "    <tr>\n",
       "      <th>voice_mail_plan</th>\n",
       "      <td>667</td>\n",
       "      <td>2</td>\n",
       "      <td>No</td>\n",
       "      <td>478</td>\n",
       "      <td>NaN</td>\n",
       "      <td>NaN</td>\n",
       "      <td>NaN</td>\n",
       "      <td>NaN</td>\n",
       "      <td>NaN</td>\n",
       "      <td>NaN</td>\n",
       "      <td>NaN</td>\n",
       "    </tr>\n",
       "    <tr>\n",
       "      <th>number_vmail_messages</th>\n",
       "      <td>667.0</td>\n",
       "      <td>NaN</td>\n",
       "      <td>NaN</td>\n",
       "      <td>NaN</td>\n",
       "      <td>8.407796</td>\n",
       "      <td>13.99448</td>\n",
       "      <td>0.0</td>\n",
       "      <td>0.0</td>\n",
       "      <td>0.0</td>\n",
       "      <td>20.0</td>\n",
       "      <td>51.0</td>\n",
       "    </tr>\n",
       "    <tr>\n",
       "      <th>total_day_minutes</th>\n",
       "      <td>657.0</td>\n",
       "      <td>NaN</td>\n",
       "      <td>NaN</td>\n",
       "      <td>NaN</td>\n",
       "      <td>181.028463</td>\n",
       "      <td>55.000102</td>\n",
       "      <td>25.9</td>\n",
       "      <td>146.4</td>\n",
       "      <td>178.4</td>\n",
       "      <td>220.7</td>\n",
       "      <td>334.3</td>\n",
       "    </tr>\n",
       "    <tr>\n",
       "      <th>total_day_calls</th>\n",
       "      <td>667.0</td>\n",
       "      <td>NaN</td>\n",
       "      <td>NaN</td>\n",
       "      <td>NaN</td>\n",
       "      <td>100.937031</td>\n",
       "      <td>20.39679</td>\n",
       "      <td>30.0</td>\n",
       "      <td>87.5</td>\n",
       "      <td>101.0</td>\n",
       "      <td>115.0</td>\n",
       "      <td>165.0</td>\n",
       "    </tr>\n",
       "    <tr>\n",
       "      <th>total_day_charge</th>\n",
       "      <td>657.0</td>\n",
       "      <td>NaN</td>\n",
       "      <td>NaN</td>\n",
       "      <td>NaN</td>\n",
       "      <td>30.775419</td>\n",
       "      <td>9.350029</td>\n",
       "      <td>4.4</td>\n",
       "      <td>24.89</td>\n",
       "      <td>30.33</td>\n",
       "      <td>37.52</td>\n",
       "      <td>56.83</td>\n",
       "    </tr>\n",
       "    <tr>\n",
       "      <th>total_intl_minutes</th>\n",
       "      <td>667.0</td>\n",
       "      <td>NaN</td>\n",
       "      <td>NaN</td>\n",
       "      <td>NaN</td>\n",
       "      <td>10.238381</td>\n",
       "      <td>2.80785</td>\n",
       "      <td>0.0</td>\n",
       "      <td>8.6</td>\n",
       "      <td>10.5</td>\n",
       "      <td>12.05</td>\n",
       "      <td>18.3</td>\n",
       "    </tr>\n",
       "    <tr>\n",
       "      <th>total_intl_calls</th>\n",
       "      <td>667.0</td>\n",
       "      <td>NaN</td>\n",
       "      <td>NaN</td>\n",
       "      <td>NaN</td>\n",
       "      <td>4.37931</td>\n",
       "      <td>2.627824</td>\n",
       "      <td>-1.0</td>\n",
       "      <td>3.0</td>\n",
       "      <td>4.0</td>\n",
       "      <td>6.0</td>\n",
       "      <td>18.0</td>\n",
       "    </tr>\n",
       "    <tr>\n",
       "      <th>total_intl_charge</th>\n",
       "      <td>667.0</td>\n",
       "      <td>NaN</td>\n",
       "      <td>NaN</td>\n",
       "      <td>NaN</td>\n",
       "      <td>2.764948</td>\n",
       "      <td>0.758167</td>\n",
       "      <td>0.0</td>\n",
       "      <td>2.32</td>\n",
       "      <td>2.84</td>\n",
       "      <td>3.255</td>\n",
       "      <td>4.94</td>\n",
       "    </tr>\n",
       "    <tr>\n",
       "      <th>customer_service_calls</th>\n",
       "      <td>667.0</td>\n",
       "      <td>NaN</td>\n",
       "      <td>NaN</td>\n",
       "      <td>NaN</td>\n",
       "      <td>1.563718</td>\n",
       "      <td>1.333357</td>\n",
       "      <td>0.0</td>\n",
       "      <td>1.0</td>\n",
       "      <td>1.0</td>\n",
       "      <td>2.0</td>\n",
       "      <td>8.0</td>\n",
       "    </tr>\n",
       "    <tr>\n",
       "      <th>client_type</th>\n",
       "      <td>667</td>\n",
       "      <td>3</td>\n",
       "      <td>infrequent_caller</td>\n",
       "      <td>227</td>\n",
       "      <td>NaN</td>\n",
       "      <td>NaN</td>\n",
       "      <td>NaN</td>\n",
       "      <td>NaN</td>\n",
       "      <td>NaN</td>\n",
       "      <td>NaN</td>\n",
       "      <td>NaN</td>\n",
       "    </tr>\n",
       "    <tr>\n",
       "      <th>churn</th>\n",
       "      <td>667</td>\n",
       "      <td>2</td>\n",
       "      <td>False</td>\n",
       "      <td>572</td>\n",
       "      <td>NaN</td>\n",
       "      <td>NaN</td>\n",
       "      <td>NaN</td>\n",
       "      <td>NaN</td>\n",
       "      <td>NaN</td>\n",
       "      <td>NaN</td>\n",
       "      <td>NaN</td>\n",
       "    </tr>\n",
       "  </tbody>\n",
       "</table>\n",
       "</div>"
      ],
      "text/plain": [
       "                        count unique                top freq        mean  \\\n",
       "state                     667     51                 AZ   19         NaN   \n",
       "account_length          667.0    NaN                NaN  NaN  102.841079   \n",
       "area_code               667.0    NaN                NaN  NaN  436.157421   \n",
       "international_plan        667      2                 No  614         NaN   \n",
       "voice_mail_plan           667      2                 No  478         NaN   \n",
       "number_vmail_messages   667.0    NaN                NaN  NaN    8.407796   \n",
       "total_day_minutes       657.0    NaN                NaN  NaN  181.028463   \n",
       "total_day_calls         667.0    NaN                NaN  NaN  100.937031   \n",
       "total_day_charge        657.0    NaN                NaN  NaN   30.775419   \n",
       "total_intl_minutes      667.0    NaN                NaN  NaN   10.238381   \n",
       "total_intl_calls        667.0    NaN                NaN  NaN     4.37931   \n",
       "total_intl_charge       667.0    NaN                NaN  NaN    2.764948   \n",
       "customer_service_calls  667.0    NaN                NaN  NaN    1.563718   \n",
       "client_type               667      3  infrequent_caller  227         NaN   \n",
       "churn                     667      2              False  572         NaN   \n",
       "\n",
       "                              std    min    25%    50%    75%    max  \n",
       "state                         NaN    NaN    NaN    NaN    NaN    NaN  \n",
       "account_length           40.81948    1.0   76.0  102.0  128.0  232.0  \n",
       "area_code               41.783305  408.0  408.0  415.0  415.0  510.0  \n",
       "international_plan            NaN    NaN    NaN    NaN    NaN    NaN  \n",
       "voice_mail_plan               NaN    NaN    NaN    NaN    NaN    NaN  \n",
       "number_vmail_messages    13.99448    0.0    0.0    0.0   20.0   51.0  \n",
       "total_day_minutes       55.000102   25.9  146.4  178.4  220.7  334.3  \n",
       "total_day_calls          20.39679   30.0   87.5  101.0  115.0  165.0  \n",
       "total_day_charge         9.350029    4.4  24.89  30.33  37.52  56.83  \n",
       "total_intl_minutes        2.80785    0.0    8.6   10.5  12.05   18.3  \n",
       "total_intl_calls         2.627824   -1.0    3.0    4.0    6.0   18.0  \n",
       "total_intl_charge        0.758167    0.0   2.32   2.84  3.255   4.94  \n",
       "customer_service_calls   1.333357    0.0    1.0    1.0    2.0    8.0  \n",
       "client_type                   NaN    NaN    NaN    NaN    NaN    NaN  \n",
       "churn                         NaN    NaN    NaN    NaN    NaN    NaN  "
      ]
     },
     "execution_count": 7,
     "metadata": {},
     "output_type": "execute_result"
    }
   ],
   "source": [
    "df.describe(include='all').T"
   ]
  },
  {
   "cell_type": "code",
   "execution_count": 8,
   "metadata": {},
   "outputs": [],
   "source": [
    "# Observamos que hay valores negativos en la columna total_intl_calls\n",
    "# Cambiamos los valores dividiendo los minutos por la media de minutos/llamada de las demás filas) \n",
    "df.loc[\n",
    "    df.total_intl_calls < 0,\n",
    "    'total_intl_calls'\n",
    "] = (\n",
    "    np.round(\n",
    "        df[df.total_intl_calls < 0]['total_intl_minutes']\n",
    "        / (df[df.total_intl_calls >= 0]['total_intl_minutes'].sum() / df[df.total_intl_calls >= 0]['total_intl_calls'].sum())\n",
    "    )\n",
    ").astype('int64')"
   ]
  },
  {
   "cell_type": "code",
   "execution_count": 9,
   "metadata": {},
   "outputs": [
    {
     "data": {
      "text/html": [
       "<div>\n",
       "<style scoped>\n",
       "    .dataframe tbody tr th:only-of-type {\n",
       "        vertical-align: middle;\n",
       "    }\n",
       "\n",
       "    .dataframe tbody tr th {\n",
       "        vertical-align: top;\n",
       "    }\n",
       "\n",
       "    .dataframe thead th {\n",
       "        text-align: right;\n",
       "    }\n",
       "</style>\n",
       "<table border=\"1\" class=\"dataframe\">\n",
       "  <thead>\n",
       "    <tr style=\"text-align: right;\">\n",
       "      <th></th>\n",
       "      <th>total_intl_minutes</th>\n",
       "      <th>total_intl_calls</th>\n",
       "      <th>total_intl_charge</th>\n",
       "    </tr>\n",
       "  </thead>\n",
       "  <tbody>\n",
       "    <tr>\n",
       "      <th>324</th>\n",
       "      <td>0.0</td>\n",
       "      <td>0</td>\n",
       "      <td>0.0</td>\n",
       "    </tr>\n",
       "    <tr>\n",
       "      <th>654</th>\n",
       "      <td>0.0</td>\n",
       "      <td>0</td>\n",
       "      <td>0.0</td>\n",
       "    </tr>\n",
       "    <tr>\n",
       "      <th>659</th>\n",
       "      <td>0.0</td>\n",
       "      <td>0</td>\n",
       "      <td>0.0</td>\n",
       "    </tr>\n",
       "  </tbody>\n",
       "</table>\n",
       "</div>"
      ],
      "text/plain": [
       "     total_intl_minutes  total_intl_calls  total_intl_charge\n",
       "324                 0.0                 0                0.0\n",
       "654                 0.0                 0                0.0\n",
       "659                 0.0                 0                0.0"
      ]
     },
     "execution_count": 9,
     "metadata": {},
     "output_type": "execute_result"
    }
   ],
   "source": [
    "# Comprobamos los valores para total_intl_minutes == 0, se espera que total_intl_calls y total_intl_charge == 0\n",
    "df[df.total_intl_minutes == 0][['total_intl_minutes', 'total_intl_calls', 'total_intl_charge']]"
   ]
  },
  {
   "cell_type": "markdown",
   "metadata": {},
   "source": [
    "## ¿Hay variables con valores vacíos? Si fuese así, rellénalos"
   ]
  },
  {
   "cell_type": "code",
   "execution_count": 10,
   "metadata": {},
   "outputs": [
    {
     "data": {
      "text/plain": [
       "state                      0\n",
       "account_length             0\n",
       "area_code                  0\n",
       "international_plan         0\n",
       "voice_mail_plan            0\n",
       "number_vmail_messages      0\n",
       "total_day_minutes         10\n",
       "total_day_calls            0\n",
       "total_day_charge          10\n",
       "total_intl_minutes         0\n",
       "total_intl_calls           0\n",
       "total_intl_charge          0\n",
       "customer_service_calls     0\n",
       "client_type                0\n",
       "churn                      0\n",
       "dtype: int64"
      ]
     },
     "execution_count": 10,
     "metadata": {},
     "output_type": "execute_result"
    }
   ],
   "source": [
    "# Buscamos valores nulos en todas las variables\n",
    "df.isna().sum()"
   ]
  },
  {
   "cell_type": "code",
   "execution_count": 11,
   "metadata": {},
   "outputs": [],
   "source": [
    "# Rellenamos total_day_minutes con media de minutos por llamada * total_day_calls\n",
    "df.loc[\n",
    "    df.total_day_minutes.isnull(),\n",
    "    'total_day_minutes'\n",
    "] = np.round(\n",
    "        df[df.total_day_minutes.isna()]['total_day_calls']\n",
    "        * df[df.total_day_minutes.notnull()]['total_day_minutes'].sum()\n",
    "        / df[df.total_day_minutes.notnull()]['total_day_calls'].sum(),\n",
    "        1)\n"
   ]
  },
  {
   "cell_type": "code",
   "execution_count": 12,
   "metadata": {},
   "outputs": [],
   "source": [
    "# Calculamos el precio total por minuto de los total_day_charge que no tienen nulos\n",
    "# y lo multiplicamos por los minutos calculados en el paso anterior\n",
    "df.loc[\n",
    "    df.total_day_charge.isnull(),\n",
    "    'total_day_charge'\n",
    "] = np.round(\n",
    "    df[df.total_day_charge.isnull()]['total_day_minutes']\n",
    "    * df[df.total_day_charge.notnull()]['total_day_charge'].sum()\n",
    "    / df[df.total_day_charge.notnull()]['total_day_minutes'].sum(),\n",
    "    2)"
   ]
  },
  {
   "cell_type": "markdown",
   "metadata": {},
   "source": [
    "## ¿Qué porcentaje de los clientes en el dataset han cancelado el servicio?"
   ]
  },
  {
   "cell_type": "code",
   "execution_count": 13,
   "metadata": {},
   "outputs": [
    {
     "data": {
      "text/plain": [
       "14.24287856071964"
      ]
     },
     "execution_count": 13,
     "metadata": {},
     "output_type": "execute_result"
    }
   ],
   "source": [
    "df[df.churn == True].churn.count() / df.churn.count() * 100"
   ]
  },
  {
   "cell_type": "markdown",
   "metadata": {},
   "source": [
    "## ¿Qué variables están más correladas con `Churn`?"
   ]
  },
  {
   "cell_type": "code",
   "execution_count": 14,
   "metadata": {},
   "outputs": [
    {
     "data": {
      "text/plain": [
       "account_length            0.012315\n",
       "area_code                 0.027129\n",
       "number_vmail_messages    -0.102381\n",
       "total_day_minutes         0.229097\n",
       "total_day_calls           0.019360\n",
       "total_day_charge          0.229094\n",
       "total_intl_minutes       -0.003740\n",
       "total_intl_calls          0.015234\n",
       "total_intl_charge        -0.003681\n",
       "customer_service_calls    0.233259\n",
       "churn                     1.000000\n",
       "dtype: float64"
      ]
     },
     "execution_count": 14,
     "metadata": {},
     "output_type": "execute_result"
    }
   ],
   "source": [
    "# Buscamos las variables más correladas con Churn: total_day_minutes (y por lo tanto total_day_charge) y customer_service_calls\n",
    "df.corrwith(df.churn)"
   ]
  },
  {
   "cell_type": "markdown",
   "metadata": {},
   "source": [
    "## Haz un boxplot en el que muestres la distribución de `Total day minutes` de acuerdo a si un cliente ha cancelado el servicio o no "
   ]
  },
  {
   "cell_type": "code",
   "execution_count": 15,
   "metadata": {},
   "outputs": [
    {
     "data": {
      "text/plain": [
       "<AxesSubplot:title={'center':'total_day_minutes'}, xlabel='[churn]'>"
      ]
     },
     "execution_count": 15,
     "metadata": {},
     "output_type": "execute_result"
    },
    {
     "data": {
      "image/png": "[encoded data removed]",
      "text/plain": [
       "<Figure size 864x432 with 1 Axes>"
      ]
     },
     "metadata": {
      "needs_background": "light"
     },
     "output_type": "display_data"
    }
   ],
   "source": [
    "# Los clientes que se dieron de baja tienen más minutos de llamadas\n",
    "df[[\"total_day_minutes\", \"churn\"]].boxplot(by=\"churn\", figsize=(12, 6))"
   ]
  },
  {
   "cell_type": "code",
   "execution_count": 16,
   "metadata": {},
   "outputs": [
    {
     "data": {
      "text/plain": [
       "<AxesSubplot:title={'center':'customer_service_calls'}, xlabel='[churn]'>"
      ]
     },
     "execution_count": 16,
     "metadata": {},
     "output_type": "execute_result"
    },
    {
     "data": {
      "image/png": "[encoded data removed]",
      "text/plain": [
       "<Figure size 864x432 with 1 Axes>"
      ]
     },
     "metadata": {
      "needs_background": "light"
     },
     "output_type": "display_data"
    }
   ],
   "source": [
    "# También nos interesa un boxplot de la distribución de customer_service_calls\n",
    "df[[\"customer_service_calls\", \"churn\"]].boxplot(by=\"churn\", figsize=(12, 6))"
   ]
  },
  {
   "cell_type": "markdown",
   "metadata": {},
   "source": [
    "## Divide el dataset en train y test, haciendo un split 90/10"
   ]
  },
  {
   "cell_type": "code",
   "execution_count": 17,
   "metadata": {},
   "outputs": [],
   "source": [
    "from sklearn.model_selection import train_test_split\n",
    "\n",
    "df_train, df_test = train_test_split(df, test_size=0.1, stratify=df.churn, random_state=42)"
   ]
  },
  {
   "cell_type": "markdown",
   "metadata": {},
   "source": [
    "## Crea una columna nueva en los dataset de train y test donde apliques `OrdinalEncoder` a la columna `State` (ignorar `SettingWithCopyWarning`)"
   ]
  },
  {
   "cell_type": "code",
   "execution_count": 18,
   "metadata": {},
   "outputs": [],
   "source": [
    "from sklearn.preprocessing import OrdinalEncoder\n",
    "enc = OrdinalEncoder()"
   ]
  },
  {
   "cell_type": "code",
   "execution_count": 19,
   "metadata": {},
   "outputs": [],
   "source": [
    "# Copiamos los df para hacer las modificaciones con OrdinalEncoder\n",
    "df_train_enc = df_train.copy()\n",
    "df_test_enc = df_test.copy()"
   ]
  },
  {
   "cell_type": "code",
   "execution_count": 20,
   "metadata": {},
   "outputs": [],
   "source": [
    "\n",
    "enc.fit(df_train_enc[['state']])\n",
    "\n",
    "df_train_enc['state_enc'] = enc.transform(df_train_enc[['state']])\n",
    "df_test_enc['state_enc'] = enc.transform(df_test_enc[['state']])"
   ]
  },
  {
   "cell_type": "markdown",
   "metadata": {},
   "source": [
    "## Aplicar `OneHotEncoder` a la columna `Client type` (no hace falta guardar el resultado como columnas en el dataset)"
   ]
  },
  {
   "cell_type": "code",
   "execution_count": 21,
   "metadata": {},
   "outputs": [],
   "source": [
    "from sklearn.preprocessing import OneHotEncoder\n",
    "enc2 = OneHotEncoder()"
   ]
  },
  {
   "cell_type": "code",
   "execution_count": 22,
   "metadata": {},
   "outputs": [],
   "source": [
    "# Copiamos los df para hacer modificaciones con OneHotEncoder\n",
    "df_train_enc2 = df_train.copy()\n",
    "df_test_enc2 = df_test.copy()"
   ]
  },
  {
   "cell_type": "code",
   "execution_count": 23,
   "metadata": {},
   "outputs": [
    {
     "data": {
      "text/plain": [
       "<67x3 sparse matrix of type '<class 'numpy.float64'>'\n",
       "\twith 67 stored elements in Compressed Sparse Row format>"
      ]
     },
     "execution_count": 23,
     "metadata": {},
     "output_type": "execute_result"
    }
   ],
   "source": [
    "enc2.fit(df_train_enc2[['client_type']])\n",
    "\n",
    "enc2.transform(df_train_enc2[['client_type']])\n",
    "enc2.transform(df_test_enc2[['client_type']])"
   ]
  }
 ],
 "metadata": {
  "interpreter": {
   "hash": "40d3a090f54c6569ab1632332b64b2c03c39dcf918b08424e98f38b5ae0af88f"
  },
  "kernelspec": {
   "display_name": "Python 3.9.7 ('base')",
   "language": "python",
   "name": "python3"
  },
  "language_info": {
   "codemirror_mode": {
    "name": "ipython",
    "version": 3
   },
   "file_extension": ".py",
   "mimetype": "text/x-python",
   "name": "python",
   "nbconvert_exporter": "python",
   "pygments_lexer": "ipython3",
   "version": "3.9.7"
  },
  "orig_nbformat": 4
 },
 "nbformat": 4,
 "nbformat_minor": 2
}
